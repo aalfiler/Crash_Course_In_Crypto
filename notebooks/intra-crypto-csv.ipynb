{
 "cells": [
  {
   "cell_type": "code",
   "execution_count": null,
   "metadata": {},
   "outputs": [],
   "source": [
    "import pandas as pd\n",
    "import numpy as np\n",
    "from pathlib import Path\n",
    "\n",
    "%matplotlib inline "
   ]
  },
  {
   "cell_type": "code",
   "execution_count": 2,
   "metadata": {},
   "outputs": [
    {
     "name": "stdout",
     "output_type": "stream",
     "text": [
      "Current working directory:/Users/aalfiler/Sites/project1_working folder\n"
     ]
    }
   ],
   "source": [
    "print(f\"Current working directory:{Path.cwd()}\")"
   ]
  },
  {
   "cell_type": "code",
   "execution_count": 16,
   "metadata": {},
   "outputs": [],
   "source": [
    "crypto_path = Path(\"/Users/aalfiler/Sites/project1_working folder/CoinMarketCap_allcrypto_18JAN2020.xlsx\")"
   ]
  },
  {
   "cell_type": "code",
   "execution_count": 17,
   "metadata": {},
   "outputs": [],
   "source": [
    "crypto_df = pd.read_excel(crypto_path, parse_dates=True, index_col='Date', infer_datetime_format=True)"
   ]
  },
  {
   "cell_type": "code",
   "execution_count": 18,
   "metadata": {},
   "outputs": [
    {
     "data": {
      "text/html": [
       "<div>\n",
       "<style scoped>\n",
       "    .dataframe tbody tr th:only-of-type {\n",
       "        vertical-align: middle;\n",
       "    }\n",
       "\n",
       "    .dataframe tbody tr th {\n",
       "        vertical-align: top;\n",
       "    }\n",
       "\n",
       "    .dataframe thead th {\n",
       "        text-align: right;\n",
       "    }\n",
       "</style>\n",
       "<table border=\"1\" class=\"dataframe\">\n",
       "  <thead>\n",
       "    <tr style=\"text-align: right;\">\n",
       "      <th></th>\n",
       "      <th>Open</th>\n",
       "      <th>High</th>\n",
       "      <th>Low</th>\n",
       "      <th>Close</th>\n",
       "      <th>Volume</th>\n",
       "      <th>Market Cap</th>\n",
       "      <th>Crypto</th>\n",
       "    </tr>\n",
       "    <tr>\n",
       "      <th>Date</th>\n",
       "      <th></th>\n",
       "      <th></th>\n",
       "      <th></th>\n",
       "      <th></th>\n",
       "      <th></th>\n",
       "      <th></th>\n",
       "      <th></th>\n",
       "    </tr>\n",
       "  </thead>\n",
       "  <tbody>\n",
       "    <tr>\n",
       "      <th>2021-01-01</th>\n",
       "      <td>29376.46</td>\n",
       "      <td>33155.12</td>\n",
       "      <td>29091.18</td>\n",
       "      <td>32127.27</td>\n",
       "      <td>67865420765</td>\n",
       "      <td>597205944669</td>\n",
       "      <td>BTC</td>\n",
       "    </tr>\n",
       "    <tr>\n",
       "      <th>2020-12-31</th>\n",
       "      <td>28994.01</td>\n",
       "      <td>29600.63</td>\n",
       "      <td>28803.59</td>\n",
       "      <td>29374.15</td>\n",
       "      <td>40730301359</td>\n",
       "      <td>546001594838</td>\n",
       "      <td>BTC</td>\n",
       "    </tr>\n",
       "    <tr>\n",
       "      <th>2020-12-30</th>\n",
       "      <td>28841.57</td>\n",
       "      <td>29244.88</td>\n",
       "      <td>28201.99</td>\n",
       "      <td>29001.72</td>\n",
       "      <td>46754964848</td>\n",
       "      <td>539051138108</td>\n",
       "      <td>BTC</td>\n",
       "    </tr>\n",
       "    <tr>\n",
       "      <th>2020-12-29</th>\n",
       "      <td>27360.09</td>\n",
       "      <td>28937.74</td>\n",
       "      <td>27360.09</td>\n",
       "      <td>28840.95</td>\n",
       "      <td>51287442704</td>\n",
       "      <td>536033807161</td>\n",
       "      <td>BTC</td>\n",
       "    </tr>\n",
       "    <tr>\n",
       "      <th>2020-12-28</th>\n",
       "      <td>27081.81</td>\n",
       "      <td>27370.72</td>\n",
       "      <td>25987.30</td>\n",
       "      <td>27362.44</td>\n",
       "      <td>45265946774</td>\n",
       "      <td>508523687097</td>\n",
       "      <td>BTC</td>\n",
       "    </tr>\n",
       "  </tbody>\n",
       "</table>\n",
       "</div>"
      ],
      "text/plain": [
       "                Open      High       Low     Close       Volume    Market Cap  \\\n",
       "Date                                                                            \n",
       "2021-01-01  29376.46  33155.12  29091.18  32127.27  67865420765  597205944669   \n",
       "2020-12-31  28994.01  29600.63  28803.59  29374.15  40730301359  546001594838   \n",
       "2020-12-30  28841.57  29244.88  28201.99  29001.72  46754964848  539051138108   \n",
       "2020-12-29  27360.09  28937.74  27360.09  28840.95  51287442704  536033807161   \n",
       "2020-12-28  27081.81  27370.72  25987.30  27362.44  45265946774  508523687097   \n",
       "\n",
       "           Crypto  \n",
       "Date               \n",
       "2021-01-01    BTC  \n",
       "2020-12-31    BTC  \n",
       "2020-12-30    BTC  \n",
       "2020-12-29    BTC  \n",
       "2020-12-28    BTC  "
      ]
     },
     "execution_count": 18,
     "metadata": {},
     "output_type": "execute_result"
    }
   ],
   "source": [
    "crypto_df.head()"
   ]
  },
  {
   "cell_type": "code",
   "execution_count": 19,
   "metadata": {},
   "outputs": [
    {
     "data": {
      "text/plain": [
       "Open          float64\n",
       "High          float64\n",
       "Low           float64\n",
       "Close         float64\n",
       "Volume          int64\n",
       "Market Cap      int64\n",
       "Crypto         object\n",
       "dtype: object"
      ]
     },
     "execution_count": 19,
     "metadata": {},
     "output_type": "execute_result"
    }
   ],
   "source": [
    "crypto_df.dtypes"
   ]
  },
  {
   "cell_type": "code",
   "execution_count": null,
   "metadata": {},
   "outputs": [],
   "source": [
    "# crypto_df['Date'] = pd.to_datetime(crypto_df['Date'], utc=True)"
   ]
  },
  {
   "cell_type": "code",
   "execution_count": 20,
   "metadata": {},
   "outputs": [
    {
     "data": {
      "text/plain": [
       "Open          0\n",
       "High          0\n",
       "Low           0\n",
       "Close         0\n",
       "Volume        0\n",
       "Market Cap    0\n",
       "Crypto        0\n",
       "dtype: int64"
      ]
     },
     "execution_count": 20,
     "metadata": {},
     "output_type": "execute_result"
    }
   ],
   "source": [
    "crypto_df.isnull().sum()"
   ]
  },
  {
   "cell_type": "code",
   "execution_count": 12,
   "metadata": {},
   "outputs": [],
   "source": [
    "crypto_df = crypto_df.reset_index()"
   ]
  },
  {
   "cell_type": "code",
   "execution_count": 21,
   "metadata": {},
   "outputs": [],
   "source": [
    "close_df=crypto_df.drop(columns=['Open','High', 'Low', 'Volume', 'Market Cap'])"
   ]
  },
  {
   "cell_type": "code",
   "execution_count": 22,
   "metadata": {},
   "outputs": [
    {
     "data": {
      "text/html": [
       "<div>\n",
       "<style scoped>\n",
       "    .dataframe tbody tr th:only-of-type {\n",
       "        vertical-align: middle;\n",
       "    }\n",
       "\n",
       "    .dataframe tbody tr th {\n",
       "        vertical-align: top;\n",
       "    }\n",
       "\n",
       "    .dataframe thead th {\n",
       "        text-align: right;\n",
       "    }\n",
       "</style>\n",
       "<table border=\"1\" class=\"dataframe\">\n",
       "  <thead>\n",
       "    <tr style=\"text-align: right;\">\n",
       "      <th></th>\n",
       "      <th>Close</th>\n",
       "      <th>Crypto</th>\n",
       "    </tr>\n",
       "    <tr>\n",
       "      <th>Date</th>\n",
       "      <th></th>\n",
       "      <th></th>\n",
       "    </tr>\n",
       "  </thead>\n",
       "  <tbody>\n",
       "    <tr>\n",
       "      <th>2021-01-01</th>\n",
       "      <td>32127.27</td>\n",
       "      <td>BTC</td>\n",
       "    </tr>\n",
       "    <tr>\n",
       "      <th>2020-12-31</th>\n",
       "      <td>29374.15</td>\n",
       "      <td>BTC</td>\n",
       "    </tr>\n",
       "    <tr>\n",
       "      <th>2020-12-30</th>\n",
       "      <td>29001.72</td>\n",
       "      <td>BTC</td>\n",
       "    </tr>\n",
       "    <tr>\n",
       "      <th>2020-12-29</th>\n",
       "      <td>28840.95</td>\n",
       "      <td>BTC</td>\n",
       "    </tr>\n",
       "    <tr>\n",
       "      <th>2020-12-28</th>\n",
       "      <td>27362.44</td>\n",
       "      <td>BTC</td>\n",
       "    </tr>\n",
       "  </tbody>\n",
       "</table>\n",
       "</div>"
      ],
      "text/plain": [
       "               Close Crypto\n",
       "Date                       \n",
       "2021-01-01  32127.27    BTC\n",
       "2020-12-31  29374.15    BTC\n",
       "2020-12-30  29001.72    BTC\n",
       "2020-12-29  28840.95    BTC\n",
       "2020-12-28  27362.44    BTC"
      ]
     },
     "execution_count": 22,
     "metadata": {},
     "output_type": "execute_result"
    }
   ],
   "source": [
    "close_df.head()"
   ]
  },
  {
   "cell_type": "code",
   "execution_count": 35,
   "metadata": {},
   "outputs": [],
   "source": [
    "multi_group = close_df.groupby(['Crypto','Close'])['Close'].count()"
   ]
  },
  {
   "cell_type": "code",
   "execution_count": 36,
   "metadata": {},
   "outputs": [
    {
     "data": {
      "text/plain": [
       "Crypto  Close  \n",
       "BCH     77.37      1\n",
       "        80.37      1\n",
       "        81.64      1\n",
       "        90.30      1\n",
       "        90.35      1\n",
       "        102.07     1\n",
       "        102.59     1\n",
       "        104.05     1\n",
       "        105.20     1\n",
       "        106.85     1\n",
       "        107.31     1\n",
       "        107.59     1\n",
       "        109.62     1\n",
       "        111.09     1\n",
       "        112.50     1\n",
       "        114.81     1\n",
       "        115.15     1\n",
       "        115.33     1\n",
       "        116.56     1\n",
       "        117.71     1\n",
       "        118.38     1\n",
       "        118.83     1\n",
       "        119.12     1\n",
       "        121.65     1\n",
       "        121.79     1\n",
       "        121.96     1\n",
       "        122.36     1\n",
       "        122.51     1\n",
       "        122.83     1\n",
       "        122.90     1\n",
       "                  ..\n",
       "ZEC     557.60     1\n",
       "        558.84     1\n",
       "        571.90     1\n",
       "        573.98     1\n",
       "        574.82     1\n",
       "        577.19     1\n",
       "        581.89     1\n",
       "        583.51     1\n",
       "        588.85     1\n",
       "        594.61     1\n",
       "        595.19     1\n",
       "        596.16     1\n",
       "        603.98     1\n",
       "        613.91     1\n",
       "        627.99     1\n",
       "        646.60     1\n",
       "        651.49     1\n",
       "        672.78     1\n",
       "        675.55     1\n",
       "        675.76     1\n",
       "        695.49     1\n",
       "        700.81     1\n",
       "        701.58     1\n",
       "        721.40     1\n",
       "        764.26     1\n",
       "        880.76     1\n",
       "        887.26     1\n",
       "        942.78     1\n",
       "        1333.74    1\n",
       "        1624.58    1\n",
       "Name: Close, Length: 14550, dtype: int64"
      ]
     },
     "execution_count": 36,
     "metadata": {},
     "output_type": "execute_result"
    }
   ],
   "source": [
    "multi_group"
   ]
  },
  {
   "cell_type": "code",
   "execution_count": 38,
   "metadata": {},
   "outputs": [],
   "source": [
    "count_per_crypto = close_df.groupby('Crypto')['Close'].count()"
   ]
  },
  {
   "cell_type": "code",
   "execution_count": 39,
   "metadata": {},
   "outputs": [
    {
     "data": {
      "text/plain": [
       "Crypto\n",
       "BCH     1259\n",
       "BSV      785\n",
       "BTC     2806\n",
       "CCXX     257\n",
       "DASH    2514\n",
       "ETH     1975\n",
       "KSM      387\n",
       "LTC     2806\n",
       "XMR     2417\n",
       "ZEC     1526\n",
       "Name: Close, dtype: int64"
      ]
     },
     "execution_count": 39,
     "metadata": {},
     "output_type": "execute_result"
    }
   ],
   "source": [
    "count_per_crypto"
   ]
  },
  {
   "cell_type": "code",
   "execution_count": 40,
   "metadata": {},
   "outputs": [
    {
     "data": {
      "text/plain": [
       "Crypto\n",
       "BCH     AxesSubplot(0.125,0.125;0.775x0.755)\n",
       "BSV     AxesSubplot(0.125,0.125;0.775x0.755)\n",
       "BTC     AxesSubplot(0.125,0.125;0.775x0.755)\n",
       "CCXX    AxesSubplot(0.125,0.125;0.775x0.755)\n",
       "DASH    AxesSubplot(0.125,0.125;0.775x0.755)\n",
       "ETH     AxesSubplot(0.125,0.125;0.775x0.755)\n",
       "KSM     AxesSubplot(0.125,0.125;0.775x0.755)\n",
       "LTC     AxesSubplot(0.125,0.125;0.775x0.755)\n",
       "XMR     AxesSubplot(0.125,0.125;0.775x0.755)\n",
       "ZEC     AxesSubplot(0.125,0.125;0.775x0.755)\n",
       "Name: Close, dtype: object"
      ]
     },
     "execution_count": 40,
     "metadata": {},
     "output_type": "execute_result"
    },
    {
     "data": {
      "image/png": "[encoded data removed]",
      "text/plain": [
       "<Figure size 432x288 with 1 Axes>"
      ]
     },
     "metadata": {
      "needs_background": "light"
     },
     "output_type": "display_data"
    }
   ],
   "source": [
    "grouped_cryptos = close_df.groupby('Crypto')['Close'].plot(legend=True)\n",
    "grouped_cryptos"
   ]
  },
  {
   "cell_type": "code",
   "execution_count": null,
   "metadata": {},
   "outputs": [],
   "source": []
  },
  {
   "cell_type": "code",
   "execution_count": 24,
   "metadata": {},
   "outputs": [
    {
     "ename": "NameError",
     "evalue": "name 'joined_df' is not defined",
     "output_type": "error",
     "traceback": [
      "\u001b[0;31m---------------------------------------------------------------------------\u001b[0m",
      "\u001b[0;31mNameError\u001b[0m                                 Traceback (most recent call last)",
      "\u001b[0;32m<ipython-input-24-99853bb63064>\u001b[0m in \u001b[0;36m<module>\u001b[0;34m\u001b[0m\n\u001b[0;32m----> 1\u001b[0;31m \u001b[0mgrouped_cryptos\u001b[0m \u001b[0;34m=\u001b[0m \u001b[0mjoined_df\u001b[0m\u001b[0;34m.\u001b[0m\u001b[0mgroupby\u001b[0m\u001b[0;34m(\u001b[0m\u001b[0;34m[\u001b[0m\u001b[0mjoined_df\u001b[0m\u001b[0;34m.\u001b[0m\u001b[0mindex\u001b[0m\u001b[0;34m.\u001b[0m\u001b[0myear\u001b[0m\u001b[0;34m,\u001b[0m \u001b[0mjoined_df\u001b[0m\u001b[0;34m.\u001b[0m\u001b[0mindex\u001b[0m\u001b[0;34m.\u001b[0m\u001b[0mmonth\u001b[0m\u001b[0;34m]\u001b[0m\u001b[0;34m)\u001b[0m\u001b[0;34m.\u001b[0m\u001b[0mmean\u001b[0m\u001b[0;34m(\u001b[0m\u001b[0;34m)\u001b[0m\u001b[0;34m\u001b[0m\u001b[0;34m\u001b[0m\u001b[0m\n\u001b[0m",
      "\u001b[0;31mNameError\u001b[0m: name 'joined_df' is not defined"
     ]
    }
   ],
   "source": [
    "grouped_cryptos = joined_df.groupby([joined_df.index.year, joined_df.index.month]).mean()"
   ]
  },
  {
   "cell_type": "code",
   "execution_count": null,
   "metadata": {},
   "outputs": [],
   "source": []
  }
 ],
 "metadata": {
  "kernelspec": {
   "display_name": "Python 3",
   "language": "python",
   "name": "python3"
  },
  "language_info": {
   "codemirror_mode": {
    "name": "ipython",
    "version": 3
   },
   "file_extension": ".py",
   "mimetype": "text/x-python",
   "name": "python",
   "nbconvert_exporter": "python",
   "pygments_lexer": "ipython3",
   "version": "3.7.9"
  }
 },
 "nbformat": 4,
 "nbformat_minor": 4
}
