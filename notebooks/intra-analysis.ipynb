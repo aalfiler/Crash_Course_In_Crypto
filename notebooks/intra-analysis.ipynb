{
 "cells": [
  {
   "cell_type": "markdown",
   "metadata": {},
   "source": [
    "# Comparing Cryptos within Asset Class "
   ]
  },
  {
   "cell_type": "code",
   "execution_count": 124,
   "metadata": {},
   "outputs": [],
   "source": [
    "import pandas as pd\n",
    "import numpy as np\n",
    "from pathlib import Path\n",
    "import hvplot.pandas\n",
    "import matplotlib.pyplot as plt\n",
    "import seaborn as sns\n",
    "\n",
    "%matplotlib inline "
   ]
  },
  {
   "cell_type": "code",
   "execution_count": 125,
   "metadata": {},
   "outputs": [
    {
     "name": "stdout",
     "output_type": "stream",
     "text": [
      "Current working directory:/Users/aalfiler/Sites/project1_git_repo/Project_1/notebooks\n"
     ]
    }
   ],
   "source": [
    "print(f\"Current working directory:{Path.cwd()}\")"
   ]
  },
  {
   "cell_type": "code",
   "execution_count": 1,
   "metadata": {},
   "outputs": [
    {
     "ename": "NameError",
     "evalue": "name 'Path' is not defined",
     "output_type": "error",
     "traceback": [
      "\u001b[1;31m---------------------------------------------------------------------------\u001b[0m",
      "\u001b[1;31mNameError\u001b[0m                                 Traceback (most recent call last)",
      "\u001b[1;32m<ipython-input-1-e47a0bf2749d>\u001b[0m in \u001b[0;36m<module>\u001b[1;34m\u001b[0m\n\u001b[1;32m----> 1\u001b[1;33m \u001b[0mcoinbase_historical_data_filepath\u001b[0m \u001b[1;33m=\u001b[0m \u001b[0mPath\u001b[0m\u001b[1;33m(\u001b[0m\u001b[1;34m\"../data/CoinMarketCap_18JAN2020-close.xlsx'\"\u001b[0m\u001b[1;33m)\u001b[0m\u001b[1;33m\u001b[0m\u001b[1;33m\u001b[0m\u001b[0m\n\u001b[0m\u001b[0;32m      2\u001b[0m \u001b[0mtrading_volume_data_df\u001b[0m \u001b[1;33m=\u001b[0m \u001b[0mpd\u001b[0m\u001b[1;33m.\u001b[0m\u001b[0mread_csv\u001b[0m\u001b[1;33m(\u001b[0m\u001b[0mcoinbase_historical_data_filepath\u001b[0m\u001b[1;33m)\u001b[0m\u001b[1;33m\u001b[0m\u001b[1;33m\u001b[0m\u001b[0m\n\u001b[0;32m      3\u001b[0m \u001b[0mtrading_volume_data_df\u001b[0m\u001b[1;33m[\u001b[0m\u001b[1;34m\"date\"\u001b[0m\u001b[1;33m]\u001b[0m \u001b[1;33m=\u001b[0m \u001b[0mpd\u001b[0m\u001b[1;33m.\u001b[0m\u001b[0mto_datetime\u001b[0m\u001b[1;33m(\u001b[0m\u001b[0mtrading_volume_data_df\u001b[0m\u001b[1;33m[\u001b[0m\u001b[1;34m\"date\"\u001b[0m\u001b[1;33m]\u001b[0m\u001b[1;33m)\u001b[0m\u001b[1;33m\u001b[0m\u001b[1;33m\u001b[0m\u001b[0m\n\u001b[0;32m      4\u001b[0m \u001b[0mtrading_volume_data_df\u001b[0m\u001b[1;33m.\u001b[0m\u001b[0mhead\u001b[0m\u001b[1;33m(\u001b[0m\u001b[1;33m)\u001b[0m\u001b[1;33m\u001b[0m\u001b[1;33m\u001b[0m\u001b[0m\n",
      "\u001b[1;31mNameError\u001b[0m: name 'Path' is not defined"
     ]
    }
   ],
   "source": [
    "all_crypto = pd.ExcelFile('/Users/aalfiler/Sites/project1_git_repo/Project_1/data/CoinMarketCap_18JAN2020-close.xlsx')\n",
    "all_close = pd.read_excel(all_crypto, 'All')"
   ]
  },
  {
   "cell_type": "code",
   "execution_count": 127,
   "metadata": {},
   "outputs": [
    {
     "data": {
      "text/html": [
       "<div>\n",
       "<style scoped>\n",
       "    .dataframe tbody tr th:only-of-type {\n",
       "        vertical-align: middle;\n",
       "    }\n",
       "\n",
       "    .dataframe tbody tr th {\n",
       "        vertical-align: top;\n",
       "    }\n",
       "\n",
       "    .dataframe thead th {\n",
       "        text-align: right;\n",
       "    }\n",
       "</style>\n",
       "<table border=\"1\" class=\"dataframe\">\n",
       "  <thead>\n",
       "    <tr style=\"text-align: right;\">\n",
       "      <th></th>\n",
       "      <th>Date</th>\n",
       "      <th>Bitcoin-BTC</th>\n",
       "      <th>Ethereum-ETH</th>\n",
       "      <th>Bitcoin-BSV</th>\n",
       "      <th>Litecoin-LTC</th>\n",
       "      <th>Monero-XMR</th>\n",
       "      <th>Dash-DASH</th>\n",
       "      <th>Kusama-KSM</th>\n",
       "      <th>Zcash-ZEC</th>\n",
       "      <th>Bitcoin Cash-BCH</th>\n",
       "      <th>Counos-CCXX</th>\n",
       "    </tr>\n",
       "  </thead>\n",
       "  <tbody>\n",
       "    <tr>\n",
       "      <th>0</th>\n",
       "      <td>2021-01-01</td>\n",
       "      <td>32127.27</td>\n",
       "      <td>774.53</td>\n",
       "      <td>163.09</td>\n",
       "      <td>136.94</td>\n",
       "      <td>143.12</td>\n",
       "      <td>86.97</td>\n",
       "      <td>69.50</td>\n",
       "      <td>56.79</td>\n",
       "      <td>341.99</td>\n",
       "      <td>88.27</td>\n",
       "    </tr>\n",
       "    <tr>\n",
       "      <th>1</th>\n",
       "      <td>2020-12-31</td>\n",
       "      <td>29374.15</td>\n",
       "      <td>730.37</td>\n",
       "      <td>163.12</td>\n",
       "      <td>126.23</td>\n",
       "      <td>136.05</td>\n",
       "      <td>88.24</td>\n",
       "      <td>71.96</td>\n",
       "      <td>63.99</td>\n",
       "      <td>343.05</td>\n",
       "      <td>89.10</td>\n",
       "    </tr>\n",
       "    <tr>\n",
       "      <th>2</th>\n",
       "      <td>2020-12-30</td>\n",
       "      <td>29001.72</td>\n",
       "      <td>737.80</td>\n",
       "      <td>163.63</td>\n",
       "      <td>124.69</td>\n",
       "      <td>156.57</td>\n",
       "      <td>99.61</td>\n",
       "      <td>62.04</td>\n",
       "      <td>64.20</td>\n",
       "      <td>358.81</td>\n",
       "      <td>87.88</td>\n",
       "    </tr>\n",
       "    <tr>\n",
       "      <th>3</th>\n",
       "      <td>2020-12-29</td>\n",
       "      <td>28840.95</td>\n",
       "      <td>751.62</td>\n",
       "      <td>166.90</td>\n",
       "      <td>129.47</td>\n",
       "      <td>159.37</td>\n",
       "      <td>101.68</td>\n",
       "      <td>61.26</td>\n",
       "      <td>66.54</td>\n",
       "      <td>353.09</td>\n",
       "      <td>87.67</td>\n",
       "    </tr>\n",
       "    <tr>\n",
       "      <th>4</th>\n",
       "      <td>2020-12-28</td>\n",
       "      <td>27362.44</td>\n",
       "      <td>731.52</td>\n",
       "      <td>164.40</td>\n",
       "      <td>129.04</td>\n",
       "      <td>161.39</td>\n",
       "      <td>104.04</td>\n",
       "      <td>58.24</td>\n",
       "      <td>69.02</td>\n",
       "      <td>362.09</td>\n",
       "      <td>87.39</td>\n",
       "    </tr>\n",
       "  </tbody>\n",
       "</table>\n",
       "</div>"
      ],
      "text/plain": [
       "        Date  Bitcoin-BTC  Ethereum-ETH  Bitcoin-BSV  Litecoin-LTC  \\\n",
       "0 2021-01-01     32127.27        774.53       163.09        136.94   \n",
       "1 2020-12-31     29374.15        730.37       163.12        126.23   \n",
       "2 2020-12-30     29001.72        737.80       163.63        124.69   \n",
       "3 2020-12-29     28840.95        751.62       166.90        129.47   \n",
       "4 2020-12-28     27362.44        731.52       164.40        129.04   \n",
       "\n",
       "   Monero-XMR  Dash-DASH  Kusama-KSM  Zcash-ZEC  Bitcoin Cash-BCH  Counos-CCXX  \n",
       "0      143.12      86.97       69.50      56.79            341.99        88.27  \n",
       "1      136.05      88.24       71.96      63.99            343.05        89.10  \n",
       "2      156.57      99.61       62.04      64.20            358.81        87.88  \n",
       "3      159.37     101.68       61.26      66.54            353.09        87.67  \n",
       "4      161.39     104.04       58.24      69.02            362.09        87.39  "
      ]
     },
     "execution_count": 127,
     "metadata": {},
     "output_type": "execute_result"
    }
   ],
   "source": [
    "all_close.head()"
   ]
  },
  {
   "cell_type": "code",
   "execution_count": 128,
   "metadata": {},
   "outputs": [
    {
     "data": {
      "text/plain": [
       "(2806, 11)"
      ]
     },
     "execution_count": 128,
     "metadata": {},
     "output_type": "execute_result"
    }
   ],
   "source": [
    "all_close.shape"
   ]
  },
  {
   "cell_type": "code",
   "execution_count": 101,
   "metadata": {},
   "outputs": [
    {
     "data": {
      "text/plain": [
       "Date                datetime64[ns]\n",
       "Bitcoin-BTC                float64\n",
       "Ethereum-ETH               float64\n",
       "Bitcoin-BSV                float64\n",
       "Litecoin-LTC               float64\n",
       "Monero-XMR                 float64\n",
       "Dash-DASH                  float64\n",
       "Kusama-KSM                 float64\n",
       "Zcash-ZEC                  float64\n",
       "Bitcoin Cash-BCH           float64\n",
       "Counos-CCXX                float64\n",
       "dtype: object"
      ]
     },
     "execution_count": 101,
     "metadata": {},
     "output_type": "execute_result"
    }
   ],
   "source": [
    "all_close.dtypes"
   ]
  },
  {
   "cell_type": "code",
   "execution_count": 129,
   "metadata": {},
   "outputs": [
    {
     "data": {
      "text/plain": [
       "Date                   0\n",
       "Bitcoin-BTC            0\n",
       "Ethereum-ETH         831\n",
       "Bitcoin-BSV         2021\n",
       "Litecoin-LTC           0\n",
       "Monero-XMR           389\n",
       "Dash-DASH            292\n",
       "Kusama-KSM          2420\n",
       "Zcash-ZEC           1281\n",
       "Bitcoin Cash-BCH    1548\n",
       "Counos-CCXX         2550\n",
       "dtype: int64"
      ]
     },
     "execution_count": 129,
     "metadata": {},
     "output_type": "execute_result"
    }
   ],
   "source": [
    "all_close.isnull().sum()"
   ]
  },
  {
   "cell_type": "code",
   "execution_count": null,
   "metadata": {},
   "outputs": [],
   "source": [
    "all_close[\"Bitcoin-BTC\"] = all_close[\"Bitcoin-BTC\"].fillna(0)"
   ]
  },
  {
   "cell_type": "code",
   "execution_count": null,
   "metadata": {},
   "outputs": [],
   "source": [
    "all_close[\"Ethereum-ETH\"] = all_close[\"Ethereum-ETH\"].fillna(0)"
   ]
  },
  {
   "cell_type": "code",
   "execution_count": null,
   "metadata": {},
   "outputs": [],
   "source": [
    "all_close[\"Bitcoin-BSV\"] = all_close[\"Bitcoin-BSV\"].fillna(0)"
   ]
  },
  {
   "cell_type": "code",
   "execution_count": null,
   "metadata": {},
   "outputs": [],
   "source": [
    "all_close[\"Litecoin-LTC\"] = all_close[\"Litecoin-LTC\"].fillna(0)"
   ]
  },
  {
   "cell_type": "code",
   "execution_count": null,
   "metadata": {},
   "outputs": [],
   "source": [
    "all_close[\"Monero-XMR\"] = all_close[\"Monero-XMR\"].fillna(0)"
   ]
  },
  {
   "cell_type": "code",
   "execution_count": null,
   "metadata": {},
   "outputs": [],
   "source": [
    "all_close[\"Dash-DASH\"] = all_close[\"Dash-DASH\"].fillna(0)"
   ]
  },
  {
   "cell_type": "code",
   "execution_count": null,
   "metadata": {},
   "outputs": [],
   "source": [
    "all_close[\"Kusama-KSM\"] = all_close[\"Kusama-KSM\"].fillna(0)"
   ]
  },
  {
   "cell_type": "code",
   "execution_count": null,
   "metadata": {},
   "outputs": [],
   "source": [
    "all_close[\"Zcash-ZEC\"] = all_close[\"Zcash-ZEC\"].fillna(0)"
   ]
  },
  {
   "cell_type": "code",
   "execution_count": null,
   "metadata": {},
   "outputs": [],
   "source": [
    "all_close[\"Bitcoin Cash-BCH\"] = all_close[\"Bitcoin Cash-BCH\"].fillna(0)"
   ]
  },
  {
   "cell_type": "code",
   "execution_count": null,
   "metadata": {},
   "outputs": [],
   "source": [
    "all_close[\"Counos-CCXX\"] = all_close[\"Counos-CCXX\"].fillna(0)"
   ]
  },
  {
   "cell_type": "code",
   "execution_count": 141,
   "metadata": {},
   "outputs": [
    {
     "data": {
      "text/plain": [
       "Date                0\n",
       "Bitcoin-BTC         0\n",
       "Ethereum-ETH        0\n",
       "Bitcoin-BSV         0\n",
       "Litecoin-LTC        0\n",
       "Monero-XMR          0\n",
       "Dash-DASH           0\n",
       "Kusama-KSM          0\n",
       "Zcash-ZEC           0\n",
       "Bitcoin Cash-BCH    0\n",
       "Counos-CCXX         0\n",
       "dtype: int64"
      ]
     },
     "execution_count": 141,
     "metadata": {},
     "output_type": "execute_result"
    }
   ],
   "source": [
    "all_close.isnull().sum()"
   ]
  },
  {
   "cell_type": "code",
   "execution_count": 143,
   "metadata": {},
   "outputs": [
    {
     "data": {
      "text/html": [
       "<div>\n",
       "<style scoped>\n",
       "    .dataframe tbody tr th:only-of-type {\n",
       "        vertical-align: middle;\n",
       "    }\n",
       "\n",
       "    .dataframe tbody tr th {\n",
       "        vertical-align: top;\n",
       "    }\n",
       "\n",
       "    .dataframe thead th {\n",
       "        text-align: right;\n",
       "    }\n",
       "</style>\n",
       "<table border=\"1\" class=\"dataframe\">\n",
       "  <thead>\n",
       "    <tr style=\"text-align: right;\">\n",
       "      <th></th>\n",
       "      <th>Bitcoin-BTC</th>\n",
       "      <th>Ethereum-ETH</th>\n",
       "      <th>Bitcoin-BSV</th>\n",
       "      <th>Litecoin-LTC</th>\n",
       "      <th>Monero-XMR</th>\n",
       "      <th>Dash-DASH</th>\n",
       "      <th>Kusama-KSM</th>\n",
       "      <th>Zcash-ZEC</th>\n",
       "      <th>Bitcoin Cash-BCH</th>\n",
       "      <th>Counos-CCXX</th>\n",
       "    </tr>\n",
       "    <tr>\n",
       "      <th>Date</th>\n",
       "      <th></th>\n",
       "      <th></th>\n",
       "      <th></th>\n",
       "      <th></th>\n",
       "      <th></th>\n",
       "      <th></th>\n",
       "      <th></th>\n",
       "      <th></th>\n",
       "      <th></th>\n",
       "      <th></th>\n",
       "    </tr>\n",
       "  </thead>\n",
       "  <tbody>\n",
       "    <tr>\n",
       "      <th>2021-01-01</th>\n",
       "      <td>32127.27</td>\n",
       "      <td>774.53</td>\n",
       "      <td>163.09</td>\n",
       "      <td>136.94</td>\n",
       "      <td>143.12</td>\n",
       "      <td>86.97</td>\n",
       "      <td>69.50</td>\n",
       "      <td>56.79</td>\n",
       "      <td>341.99</td>\n",
       "      <td>88.27</td>\n",
       "    </tr>\n",
       "    <tr>\n",
       "      <th>2020-12-31</th>\n",
       "      <td>29374.15</td>\n",
       "      <td>730.37</td>\n",
       "      <td>163.12</td>\n",
       "      <td>126.23</td>\n",
       "      <td>136.05</td>\n",
       "      <td>88.24</td>\n",
       "      <td>71.96</td>\n",
       "      <td>63.99</td>\n",
       "      <td>343.05</td>\n",
       "      <td>89.10</td>\n",
       "    </tr>\n",
       "    <tr>\n",
       "      <th>2020-12-30</th>\n",
       "      <td>29001.72</td>\n",
       "      <td>737.80</td>\n",
       "      <td>163.63</td>\n",
       "      <td>124.69</td>\n",
       "      <td>156.57</td>\n",
       "      <td>99.61</td>\n",
       "      <td>62.04</td>\n",
       "      <td>64.20</td>\n",
       "      <td>358.81</td>\n",
       "      <td>87.88</td>\n",
       "    </tr>\n",
       "    <tr>\n",
       "      <th>2020-12-29</th>\n",
       "      <td>28840.95</td>\n",
       "      <td>751.62</td>\n",
       "      <td>166.90</td>\n",
       "      <td>129.47</td>\n",
       "      <td>159.37</td>\n",
       "      <td>101.68</td>\n",
       "      <td>61.26</td>\n",
       "      <td>66.54</td>\n",
       "      <td>353.09</td>\n",
       "      <td>87.67</td>\n",
       "    </tr>\n",
       "    <tr>\n",
       "      <th>2020-12-28</th>\n",
       "      <td>27362.44</td>\n",
       "      <td>731.52</td>\n",
       "      <td>164.40</td>\n",
       "      <td>129.04</td>\n",
       "      <td>161.39</td>\n",
       "      <td>104.04</td>\n",
       "      <td>58.24</td>\n",
       "      <td>69.02</td>\n",
       "      <td>362.09</td>\n",
       "      <td>87.39</td>\n",
       "    </tr>\n",
       "  </tbody>\n",
       "</table>\n",
       "</div>"
      ],
      "text/plain": [
       "            Bitcoin-BTC  Ethereum-ETH  Bitcoin-BSV  Litecoin-LTC  Monero-XMR  \\\n",
       "Date                                                                           \n",
       "2021-01-01     32127.27        774.53       163.09        136.94      143.12   \n",
       "2020-12-31     29374.15        730.37       163.12        126.23      136.05   \n",
       "2020-12-30     29001.72        737.80       163.63        124.69      156.57   \n",
       "2020-12-29     28840.95        751.62       166.90        129.47      159.37   \n",
       "2020-12-28     27362.44        731.52       164.40        129.04      161.39   \n",
       "\n",
       "            Dash-DASH  Kusama-KSM  Zcash-ZEC  Bitcoin Cash-BCH  Counos-CCXX  \n",
       "Date                                                                         \n",
       "2021-01-01      86.97       69.50      56.79            341.99        88.27  \n",
       "2020-12-31      88.24       71.96      63.99            343.05        89.10  \n",
       "2020-12-30      99.61       62.04      64.20            358.81        87.88  \n",
       "2020-12-29     101.68       61.26      66.54            353.09        87.67  \n",
       "2020-12-28     104.04       58.24      69.02            362.09        87.39  "
      ]
     },
     "execution_count": 143,
     "metadata": {},
     "output_type": "execute_result"
    }
   ],
   "source": [
    "all_date_index = all_close.set_index(\"Date\")\n",
    "all_date_index.head()"
   ]
  },
  {
   "cell_type": "code",
   "execution_count": 144,
   "metadata": {},
   "outputs": [
    {
     "data": {
      "text/plain": [
       "(2806, 10)"
      ]
     },
     "execution_count": 144,
     "metadata": {},
     "output_type": "execute_result"
    }
   ],
   "source": [
    "all_date_index.shape"
   ]
  },
  {
   "cell_type": "code",
   "execution_count": 145,
   "metadata": {},
   "outputs": [],
   "source": [
    "# Group then plot closing prices\n",
    "all_date_index_grp = all_date_index.groupby([all_date_index.index.year]).mean()"
   ]
  },
  {
   "cell_type": "code",
   "execution_count": 146,
   "metadata": {},
   "outputs": [
    {
     "data": {
      "text/html": [
       "<div>\n",
       "<style scoped>\n",
       "    .dataframe tbody tr th:only-of-type {\n",
       "        vertical-align: middle;\n",
       "    }\n",
       "\n",
       "    .dataframe tbody tr th {\n",
       "        vertical-align: top;\n",
       "    }\n",
       "\n",
       "    .dataframe thead th {\n",
       "        text-align: right;\n",
       "    }\n",
       "</style>\n",
       "<table border=\"1\" class=\"dataframe\">\n",
       "  <thead>\n",
       "    <tr style=\"text-align: right;\">\n",
       "      <th></th>\n",
       "      <th>Bitcoin-BTC</th>\n",
       "      <th>Ethereum-ETH</th>\n",
       "      <th>Bitcoin-BSV</th>\n",
       "      <th>Litecoin-LTC</th>\n",
       "      <th>Monero-XMR</th>\n",
       "      <th>Dash-DASH</th>\n",
       "      <th>Kusama-KSM</th>\n",
       "      <th>Zcash-ZEC</th>\n",
       "      <th>Bitcoin Cash-BCH</th>\n",
       "      <th>Counos-CCXX</th>\n",
       "    </tr>\n",
       "    <tr>\n",
       "      <th>Date</th>\n",
       "      <th></th>\n",
       "      <th></th>\n",
       "      <th></th>\n",
       "      <th></th>\n",
       "      <th></th>\n",
       "      <th></th>\n",
       "      <th></th>\n",
       "      <th></th>\n",
       "      <th></th>\n",
       "      <th></th>\n",
       "    </tr>\n",
       "  </thead>\n",
       "  <tbody>\n",
       "    <tr>\n",
       "      <th>2013</th>\n",
       "      <td>260.043710</td>\n",
       "      <td>0.000000</td>\n",
       "      <td>0.000000</td>\n",
       "      <td>6.748347</td>\n",
       "      <td>0.000000</td>\n",
       "      <td>0.000000</td>\n",
       "      <td>0.000000</td>\n",
       "      <td>0.000000</td>\n",
       "      <td>0.000000</td>\n",
       "      <td>0.000000</td>\n",
       "    </tr>\n",
       "    <tr>\n",
       "      <th>2014</th>\n",
       "      <td>525.984082</td>\n",
       "      <td>0.000000</td>\n",
       "      <td>0.000000</td>\n",
       "      <td>9.784986</td>\n",
       "      <td>0.951736</td>\n",
       "      <td>3.241430</td>\n",
       "      <td>0.000000</td>\n",
       "      <td>0.000000</td>\n",
       "      <td>0.000000</td>\n",
       "      <td>0.000000</td>\n",
       "    </tr>\n",
       "    <tr>\n",
       "      <th>2015</th>\n",
       "      <td>272.782384</td>\n",
       "      <td>0.374712</td>\n",
       "      <td>0.000000</td>\n",
       "      <td>2.696932</td>\n",
       "      <td>0.490705</td>\n",
       "      <td>2.762110</td>\n",
       "      <td>0.000000</td>\n",
       "      <td>0.000000</td>\n",
       "      <td>0.000000</td>\n",
       "      <td>0.000000</td>\n",
       "    </tr>\n",
       "    <tr>\n",
       "      <th>2016</th>\n",
       "      <td>570.033197</td>\n",
       "      <td>9.797840</td>\n",
       "      <td>0.000000</td>\n",
       "      <td>3.791475</td>\n",
       "      <td>3.725023</td>\n",
       "      <td>8.065628</td>\n",
       "      <td>0.000000</td>\n",
       "      <td>30.250519</td>\n",
       "      <td>0.000000</td>\n",
       "      <td>0.000000</td>\n",
       "    </tr>\n",
       "    <tr>\n",
       "      <th>2017</th>\n",
       "      <td>4040.715452</td>\n",
       "      <td>226.009726</td>\n",
       "      <td>0.000000</td>\n",
       "      <td>50.646986</td>\n",
       "      <td>76.847452</td>\n",
       "      <td>251.139918</td>\n",
       "      <td>0.000000</td>\n",
       "      <td>193.241973</td>\n",
       "      <td>394.454630</td>\n",
       "      <td>0.000000</td>\n",
       "    </tr>\n",
       "    <tr>\n",
       "      <th>2018</th>\n",
       "      <td>7545.412082</td>\n",
       "      <td>481.776767</td>\n",
       "      <td>13.727890</td>\n",
       "      <td>105.236411</td>\n",
       "      <td>167.192466</td>\n",
       "      <td>335.003370</td>\n",
       "      <td>0.000000</td>\n",
       "      <td>228.870932</td>\n",
       "      <td>865.525014</td>\n",
       "      <td>0.000000</td>\n",
       "    </tr>\n",
       "    <tr>\n",
       "      <th>2019</th>\n",
       "      <td>7404.442932</td>\n",
       "      <td>181.742795</td>\n",
       "      <td>109.121589</td>\n",
       "      <td>69.694438</td>\n",
       "      <td>66.484110</td>\n",
       "      <td>96.388740</td>\n",
       "      <td>0.074712</td>\n",
       "      <td>56.539425</td>\n",
       "      <td>261.375123</td>\n",
       "      <td>0.000000</td>\n",
       "    </tr>\n",
       "    <tr>\n",
       "      <th>2020</th>\n",
       "      <td>11176.962514</td>\n",
       "      <td>309.181066</td>\n",
       "      <td>193.752432</td>\n",
       "      <td>56.473689</td>\n",
       "      <td>85.190191</td>\n",
       "      <td>82.024754</td>\n",
       "      <td>17.360656</td>\n",
       "      <td>57.109590</td>\n",
       "      <td>270.211120</td>\n",
       "      <td>25.014863</td>\n",
       "    </tr>\n",
       "    <tr>\n",
       "      <th>2021</th>\n",
       "      <td>32127.270000</td>\n",
       "      <td>774.530000</td>\n",
       "      <td>163.090000</td>\n",
       "      <td>136.940000</td>\n",
       "      <td>143.120000</td>\n",
       "      <td>86.970000</td>\n",
       "      <td>69.500000</td>\n",
       "      <td>56.790000</td>\n",
       "      <td>341.990000</td>\n",
       "      <td>88.270000</td>\n",
       "    </tr>\n",
       "  </tbody>\n",
       "</table>\n",
       "</div>"
      ],
      "text/plain": [
       "       Bitcoin-BTC  Ethereum-ETH  Bitcoin-BSV  Litecoin-LTC  Monero-XMR  \\\n",
       "Date                                                                      \n",
       "2013    260.043710      0.000000     0.000000      6.748347    0.000000   \n",
       "2014    525.984082      0.000000     0.000000      9.784986    0.951736   \n",
       "2015    272.782384      0.374712     0.000000      2.696932    0.490705   \n",
       "2016    570.033197      9.797840     0.000000      3.791475    3.725023   \n",
       "2017   4040.715452    226.009726     0.000000     50.646986   76.847452   \n",
       "2018   7545.412082    481.776767    13.727890    105.236411  167.192466   \n",
       "2019   7404.442932    181.742795   109.121589     69.694438   66.484110   \n",
       "2020  11176.962514    309.181066   193.752432     56.473689   85.190191   \n",
       "2021  32127.270000    774.530000   163.090000    136.940000  143.120000   \n",
       "\n",
       "       Dash-DASH  Kusama-KSM   Zcash-ZEC  Bitcoin Cash-BCH  Counos-CCXX  \n",
       "Date                                                                     \n",
       "2013    0.000000    0.000000    0.000000          0.000000     0.000000  \n",
       "2014    3.241430    0.000000    0.000000          0.000000     0.000000  \n",
       "2015    2.762110    0.000000    0.000000          0.000000     0.000000  \n",
       "2016    8.065628    0.000000   30.250519          0.000000     0.000000  \n",
       "2017  251.139918    0.000000  193.241973        394.454630     0.000000  \n",
       "2018  335.003370    0.000000  228.870932        865.525014     0.000000  \n",
       "2019   96.388740    0.074712   56.539425        261.375123     0.000000  \n",
       "2020   82.024754   17.360656   57.109590        270.211120    25.014863  \n",
       "2021   86.970000   69.500000   56.790000        341.990000    88.270000  "
      ]
     },
     "execution_count": 146,
     "metadata": {},
     "output_type": "execute_result"
    }
   ],
   "source": [
    "all_date_index_grp"
   ]
  },
  {
   "cell_type": "code",
   "execution_count": 193,
   "metadata": {},
   "outputs": [
    {
     "data": {},
     "metadata": {},
     "output_type": "display_data"
    },
    {
     "data": {
      "application/vnd.holoviews_exec.v0+json": "",
      "text/html": [
       "<div id='12967'>\n",
       "\n",
       "\n",
       "\n",
       "\n",
       "\n",
       "  <div class=\"bk-root\" id=\"17f3fe81-670f-4d75-bc64-b661b35e3e9a\" data-root-id=\"12967\"></div>\n",
       "</div>\n",
       "<script type=\"application/javascript\">(function(root) {\n",
       "  function embed_document(root) {\n",
       "    var docs_json = {\"01eed482-9956-40af-bf6e-cf32ac725134\":{\"roots\":{\"references\":[{\"attributes\":{\"line_alpha\":0.1,\"line_color\":\"#d62628\",\"line_width\":2,\"x\":{\"field\":\"Date\"},\"y\":{\"field\":\"value\"}},\"id\":\"13077\",\"type\":\"Line\"},{\"attributes\":{\"line_alpha\":0.1,\"line_color\":\"#e277c1\",\"line_width\":2,\"x\":{\"field\":\"Date\"},\"y\":{\"field\":\"value\"}},\"id\":\"13152\",\"type\":\"Line\"},{\"attributes\":{\"data\":{\"Date\":[2013,2014,2015,2016,2017,2018,2019,2020,2021],\"Variable\":[\"Litecoin-LTC\",\"Litecoin-LTC\",\"Litecoin-LTC\",\"Litecoin-LTC\",\"Litecoin-LTC\",\"Litecoin-LTC\",\"Litecoin-LTC\",\"Litecoin-LTC\",\"Litecoin-LTC\"],\"value\":{\"__ndarray__\":\"3enknU7+GkASYni56ZEjQCzCa9NQkwVAOKxGD/FUDkAArHZy0FJJQC46blshT1pAGzSTrXFsUUB3zVjToTxMQK5H4XoUHmFA\",\"dtype\":\"float64\",\"order\":\"little\",\"shape\":[9]}},\"selected\":{\"id\":\"13074\"},\"selection_policy\":{\"id\":\"13093\"}},\"id\":\"13073\",\"type\":\"ColumnDataSource\"},{\"attributes\":{\"line_alpha\":0.2,\"line_color\":\"#e277c1\",\"line_width\":2,\"x\":{\"field\":\"Date\"},\"y\":{\"field\":\"value\"}},\"id\":\"13153\",\"type\":\"Line\"},{\"attributes\":{\"line_color\":\"#7e7e7e\",\"line_width\":2,\"x\":{\"field\":\"Date\"},\"y\":{\"field\":\"value\"}},\"id\":\"13180\",\"type\":\"Line\"},{\"attributes\":{\"callback\":null,\"renderers\":[{\"id\":\"13021\"},{\"id\":\"13039\"},{\"id\":\"13058\"},{\"id\":\"13079\"},{\"id\":\"13102\"},{\"id\":\"13127\"},{\"id\":\"13154\"},{\"id\":\"13183\"},{\"id\":\"13214\"},{\"id\":\"13247\"}],\"tags\":[\"hv_created\"],\"tooltips\":[[\"Variable\",\"@{Variable}\"],[\"Date\",\"@{Date}\"],[\"value\",\"@{value}\"]]},\"id\":\"12971\",\"type\":\"HoverTool\"},{\"attributes\":{\"line_alpha\":0.2,\"line_color\":\"#d62628\",\"line_width\":2,\"x\":{\"field\":\"Date\"},\"y\":{\"field\":\"value\"}},\"id\":\"13078\",\"type\":\"Line\"},{\"attributes\":{\"label\":{\"value\":\"Litecoin-LTC\"},\"renderers\":[{\"id\":\"13079\"}]},\"id\":\"13095\",\"type\":\"LegendItem\"},{\"attributes\":{},\"id\":\"13013\",\"type\":\"BasicTickFormatter\"},{\"attributes\":{\"data_source\":{\"id\":\"13148\"},\"glyph\":{\"id\":\"13151\"},\"hover_glyph\":null,\"muted_glyph\":{\"id\":\"13153\"},\"nonselection_glyph\":{\"id\":\"13152\"},\"selection_glyph\":null,\"view\":{\"id\":\"13155\"}},\"id\":\"13154\",\"type\":\"GlyphRenderer\"},{\"attributes\":{\"source\":{\"id\":\"13148\"}},\"id\":\"13155\",\"type\":\"CDSView\"},{\"attributes\":{\"data_source\":{\"id\":\"13073\"},\"glyph\":{\"id\":\"13076\"},\"hover_glyph\":null,\"muted_glyph\":{\"id\":\"13078\"},\"nonselection_glyph\":{\"id\":\"13077\"},\"selection_glyph\":null,\"view\":{\"id\":\"13080\"}},\"id\":\"13079\",\"type\":\"GlyphRenderer\"},{\"attributes\":{\"line_alpha\":0.1,\"line_color\":\"#7e7e7e\",\"line_width\":2,\"x\":{\"field\":\"Date\"},\"y\":{\"field\":\"value\"}},\"id\":\"13181\",\"type\":\"Line\"},{\"attributes\":{\"data\":{\"Date\":[2013,2014,2015,2016,2017,2018,2019,2020,2021],\"Variable\":[\"Ethereum-ETH\",\"Ethereum-ETH\",\"Ethereum-ETH\",\"Ethereum-ETH\",\"Ethereum-ETH\",\"Ethereum-ETH\",\"Ethereum-ETH\",\"Ethereum-ETH\",\"Ethereum-ETH\"],\"value\":{\"__ndarray__\":\"AAAAAAAAAAAAAAAAAAAAAHSS1vhF+9c/MhdceH6YI0DtMvWsT0BsQAvyXKNtHH5A16wD+cS3ZkBt3AOl5VJzQArXo3A9NIhA\",\"dtype\":\"float64\",\"order\":\"little\",\"shape\":[9]}},\"selected\":{\"id\":\"13034\"},\"selection_policy\":{\"id\":\"13049\"}},\"id\":\"13033\",\"type\":\"ColumnDataSource\"},{\"attributes\":{\"source\":{\"id\":\"13073\"}},\"id\":\"13080\",\"type\":\"CDSView\"},{\"attributes\":{},\"id\":\"13174\",\"type\":\"UnionRenderers\"},{\"attributes\":{},\"id\":\"13093\",\"type\":\"UnionRenderers\"},{\"attributes\":{\"line_alpha\":0.2,\"line_color\":\"#9367bc\",\"line_width\":2,\"x\":{\"field\":\"Date\"},\"y\":{\"field\":\"value\"}},\"id\":\"13101\",\"type\":\"Line\"},{\"attributes\":{\"line_alpha\":0.2,\"line_color\":\"#7e7e7e\",\"line_width\":2,\"x\":{\"field\":\"Date\"},\"y\":{\"field\":\"value\"}},\"id\":\"13182\",\"type\":\"Line\"},{\"attributes\":{\"line_alpha\":0.1,\"line_color\":\"#9367bc\",\"line_width\":2,\"x\":{\"field\":\"Date\"},\"y\":{\"field\":\"value\"}},\"id\":\"13100\",\"type\":\"Line\"},{\"attributes\":{\"axis_label\":\"Year\",\"bounds\":\"auto\",\"formatter\":{\"id\":\"13011\"},\"major_label_orientation\":\"horizontal\",\"ticker\":{\"id\":\"12991\"}},\"id\":\"12990\",\"type\":\"LinearAxis\"},{\"attributes\":{\"data_source\":{\"id\":\"13177\"},\"glyph\":{\"id\":\"13180\"},\"hover_glyph\":null,\"muted_glyph\":{\"id\":\"13182\"},\"nonselection_glyph\":{\"id\":\"13181\"},\"selection_glyph\":null,\"view\":{\"id\":\"13184\"}},\"id\":\"13183\",\"type\":\"GlyphRenderer\"},{\"attributes\":{\"data\":{\"Date\":[2013,2014,2015,2016,2017,2018,2019,2020,2021],\"Variable\":[\"Bitcoin Cash-BCH\",\"Bitcoin Cash-BCH\",\"Bitcoin Cash-BCH\",\"Bitcoin Cash-BCH\",\"Bitcoin Cash-BCH\",\"Bitcoin Cash-BCH\",\"Bitcoin Cash-BCH\",\"Bitcoin Cash-BCH\",\"Bitcoin Cash-BCH\"],\"value\":{\"__ndarray__\":\"AAAAAAAAAAAAAAAAAAAAAAAAAAAAAAAAAAAAAAAAAAAbIkAqRqd4QInMYTozDItAP8hGgQBWcEAnJZi/YONwQKRwPQrXX3VA\",\"dtype\":\"float64\",\"order\":\"little\",\"shape\":[9]}},\"selected\":{\"id\":\"13209\"},\"selection_policy\":{\"id\":\"13238\"}},\"id\":\"13208\",\"type\":\"ColumnDataSource\"},{\"attributes\":{\"bottom_units\":\"screen\",\"fill_alpha\":0.5,\"fill_color\":\"lightgrey\",\"left_units\":\"screen\",\"level\":\"overlay\",\"line_alpha\":1.0,\"line_color\":\"black\",\"line_dash\":[4,4],\"line_width\":2,\"right_units\":\"screen\",\"top_units\":\"screen\"},\"id\":\"13003\",\"type\":\"BoxAnnotation\"},{\"attributes\":{\"label\":{\"value\":\"Zcash-ZEC\"},\"renderers\":[{\"id\":\"13183\"}]},\"id\":\"13207\",\"type\":\"LegendItem\"},{\"attributes\":{},\"id\":\"13149\",\"type\":\"Selection\"},{\"attributes\":{\"line_color\":\"#9367bc\",\"line_width\":2,\"x\":{\"field\":\"Date\"},\"y\":{\"field\":\"value\"}},\"id\":\"13099\",\"type\":\"Line\"},{\"attributes\":{\"source\":{\"id\":\"13015\"}},\"id\":\"13022\",\"type\":\"CDSView\"},{\"attributes\":{\"source\":{\"id\":\"13177\"}},\"id\":\"13184\",\"type\":\"CDSView\"},{\"attributes\":{\"data\":{\"Date\":[2013,2014,2015,2016,2017,2018,2019,2020,2021],\"Variable\":[\"Kusama-KSM\",\"Kusama-KSM\",\"Kusama-KSM\",\"Kusama-KSM\",\"Kusama-KSM\",\"Kusama-KSM\",\"Kusama-KSM\",\"Kusama-KSM\",\"Kusama-KSM\"],\"value\":{\"__ndarray__\":\"AAAAAAAAAAAAAAAAAAAAAAAAAAAAAAAAAAAAAAAAAAAAAAAAAAAAAAAAAAAAAAAA56yp4Fggsz+wjjbvU1wxQAAAAAAAYFFA\",\"dtype\":\"float64\",\"order\":\"little\",\"shape\":[9]}},\"selected\":{\"id\":\"13149\"},\"selection_policy\":{\"id\":\"13174\"}},\"id\":\"13148\",\"type\":\"ColumnDataSource\"},{\"attributes\":{},\"id\":\"13205\",\"type\":\"UnionRenderers\"},{\"attributes\":{\"margin\":[5,5,5,5],\"name\":\"HSpacer31873\",\"sizing_mode\":\"stretch_width\"},\"id\":\"12968\",\"type\":\"Spacer\"},{\"attributes\":{},\"id\":\"13029\",\"type\":\"UnionRenderers\"},{\"attributes\":{\"line_alpha\":0.2,\"line_color\":\"#bcbc21\",\"line_width\":2,\"x\":{\"field\":\"Date\"},\"y\":{\"field\":\"value\"}},\"id\":\"13213\",\"type\":\"Line\"},{\"attributes\":{\"below\":[{\"id\":\"12990\"}],\"center\":[{\"id\":\"12993\"},{\"id\":\"12997\"}],\"left\":[{\"id\":\"12994\"}],\"margin\":[5,5,5,5],\"min_border_bottom\":10,\"min_border_left\":10,\"min_border_right\":10,\"min_border_top\":10,\"plot_height\":500,\"plot_width\":1000,\"renderers\":[{\"id\":\"13021\"},{\"id\":\"13039\"},{\"id\":\"13058\"},{\"id\":\"13079\"},{\"id\":\"13102\"},{\"id\":\"13127\"},{\"id\":\"13154\"},{\"id\":\"13183\"},{\"id\":\"13214\"},{\"id\":\"13247\"}],\"right\":[{\"id\":\"13031\"}],\"sizing_mode\":\"fixed\",\"title\":{\"id\":\"12982\"},\"toolbar\":{\"id\":\"13004\"},\"x_range\":{\"id\":\"12969\"},\"x_scale\":{\"id\":\"12986\"},\"y_range\":{\"id\":\"12970\"},\"y_scale\":{\"id\":\"12988\"}},\"id\":\"12981\",\"subtype\":\"Figure\",\"type\":\"Plot\"},{\"attributes\":{\"label\":{\"value\":\"Monero-XMR\"},\"renderers\":[{\"id\":\"13102\"}]},\"id\":\"13120\",\"type\":\"LegendItem\"},{\"attributes\":{\"label\":{\"value\":\"Ethereum-ETH\"},\"renderers\":[{\"id\":\"13039\"}]},\"id\":\"13051\",\"type\":\"LegendItem\"},{\"attributes\":{},\"id\":\"13070\",\"type\":\"UnionRenderers\"},{\"attributes\":{\"margin\":[5,5,5,5],\"name\":\"HSpacer31874\",\"sizing_mode\":\"stretch_width\"},\"id\":\"13510\",\"type\":\"Spacer\"},{\"attributes\":{\"children\":[{\"id\":\"12968\"},{\"id\":\"12981\"},{\"id\":\"13510\"}],\"margin\":[0,0,0,0],\"name\":\"Row31869\",\"tags\":[\"embedded\"]},\"id\":\"12967\",\"type\":\"Row\"},{\"attributes\":{\"label\":{\"value\":\"Bitcoin-BTC\"},\"renderers\":[{\"id\":\"13021\"}]},\"id\":\"13032\",\"type\":\"LegendItem\"},{\"attributes\":{\"line_alpha\":0.2,\"line_color\":\"#ff7e0e\",\"line_width\":2,\"x\":{\"field\":\"Date\"},\"y\":{\"field\":\"value\"}},\"id\":\"13038\",\"type\":\"Line\"},{\"attributes\":{\"line_alpha\":0.2,\"line_color\":\"#8c564b\",\"line_width\":2,\"x\":{\"field\":\"Date\"},\"y\":{\"field\":\"value\"}},\"id\":\"13126\",\"type\":\"Line\"},{\"attributes\":{\"data_source\":{\"id\":\"13096\"},\"glyph\":{\"id\":\"13099\"},\"hover_glyph\":null,\"muted_glyph\":{\"id\":\"13101\"},\"nonselection_glyph\":{\"id\":\"13100\"},\"selection_glyph\":null,\"view\":{\"id\":\"13103\"}},\"id\":\"13102\",\"type\":\"GlyphRenderer\"},{\"attributes\":{\"line_color\":\"#bcbc21\",\"line_width\":2,\"x\":{\"field\":\"Date\"},\"y\":{\"field\":\"value\"}},\"id\":\"13211\",\"type\":\"Line\"},{\"attributes\":{},\"id\":\"12995\",\"type\":\"BasicTicker\"},{\"attributes\":{\"data\":{\"Date\":[2013,2014,2015,2016,2017,2018,2019,2020,2021],\"Variable\":[\"Zcash-ZEC\",\"Zcash-ZEC\",\"Zcash-ZEC\",\"Zcash-ZEC\",\"Zcash-ZEC\",\"Zcash-ZEC\",\"Zcash-ZEC\",\"Zcash-ZEC\",\"Zcash-ZEC\"],\"value\":{\"__ndarray__\":\"AAAAAAAAAAAAAAAAAAAAAAAAAAAAAAAAztR7BSJAPkBq6VM9vidoQCxfwKvem2xAAWL/3QtFTEDoB+0MB45MQIXrUbgeZUxA\",\"dtype\":\"float64\",\"order\":\"little\",\"shape\":[9]}},\"selected\":{\"id\":\"13178\"},\"selection_policy\":{\"id\":\"13205\"}},\"id\":\"13177\",\"type\":\"ColumnDataSource\"},{\"attributes\":{\"line_alpha\":0.1,\"line_color\":\"#bcbc21\",\"line_width\":2,\"x\":{\"field\":\"Date\"},\"y\":{\"field\":\"value\"}},\"id\":\"13212\",\"type\":\"Line\"},{\"attributes\":{\"axis\":{\"id\":\"12994\"},\"dimension\":1,\"grid_line_color\":null,\"ticker\":null},\"id\":\"12997\",\"type\":\"Grid\"},{\"attributes\":{\"source\":{\"id\":\"13096\"}},\"id\":\"13103\",\"type\":\"CDSView\"},{\"attributes\":{\"data\":{\"Date\":[2013,2014,2015,2016,2017,2018,2019,2020,2021],\"Variable\":[\"Counos-CCXX\",\"Counos-CCXX\",\"Counos-CCXX\",\"Counos-CCXX\",\"Counos-CCXX\",\"Counos-CCXX\",\"Counos-CCXX\",\"Counos-CCXX\",\"Counos-CCXX\"],\"value\":{\"__ndarray__\":\"AAAAAAAAAAAAAAAAAAAAAAAAAAAAAAAAAAAAAAAAAAAAAAAAAAAAAAAAAAAAAAAAAAAAAAAAAAAWRkUWzgM5QOF6FK5HEVZA\",\"dtype\":\"float64\",\"order\":\"little\",\"shape\":[9]}},\"selected\":{\"id\":\"13242\"},\"selection_policy\":{\"id\":\"13273\"}},\"id\":\"13241\",\"type\":\"ColumnDataSource\"},{\"attributes\":{\"axis\":{\"id\":\"12990\"},\"grid_line_color\":null,\"ticker\":null},\"id\":\"12993\",\"type\":\"Grid\"},{\"attributes\":{\"label\":{\"value\":\"Bitcoin Cash-BCH\"},\"renderers\":[{\"id\":\"13214\"}]},\"id\":\"13240\",\"type\":\"LegendItem\"},{\"attributes\":{\"data\":{\"Date\":[2013,2014,2015,2016,2017,2018,2019,2020,2021],\"Variable\":[\"Monero-XMR\",\"Monero-XMR\",\"Monero-XMR\",\"Monero-XMR\",\"Monero-XMR\",\"Monero-XMR\",\"Monero-XMR\",\"Monero-XMR\",\"Monero-XMR\"],\"value\":{\"__ndarray__\":\"AAAAAAAAAAAB03fTnnTuP5+3YM62Z98/dw2JsNjMDUBOEYunPDZTQOGR8K0o5mRAJCfJpvueUECkBPMXLExVQKRwPQrX42FA\",\"dtype\":\"float64\",\"order\":\"little\",\"shape\":[9]}},\"selected\":{\"id\":\"13097\"},\"selection_policy\":{\"id\":\"13118\"}},\"id\":\"13096\",\"type\":\"ColumnDataSource\"},{\"attributes\":{\"line_alpha\":0.1,\"line_color\":\"#1f77b3\",\"line_width\":2,\"x\":{\"field\":\"Date\"},\"y\":{\"field\":\"value\"}},\"id\":\"13019\",\"type\":\"Line\"},{\"attributes\":{},\"id\":\"13097\",\"type\":\"Selection\"},{\"attributes\":{},\"id\":\"12991\",\"type\":\"BasicTicker\"},{\"attributes\":{\"line_color\":\"#8c564b\",\"line_width\":2,\"x\":{\"field\":\"Date\"},\"y\":{\"field\":\"value\"}},\"id\":\"13124\",\"type\":\"Line\"},{\"attributes\":{},\"id\":\"12986\",\"type\":\"LinearScale\"},{\"attributes\":{},\"id\":\"13011\",\"type\":\"BasicTickFormatter\"},{\"attributes\":{},\"id\":\"13118\",\"type\":\"UnionRenderers\"},{\"attributes\":{},\"id\":\"13242\",\"type\":\"Selection\"},{\"attributes\":{},\"id\":\"12988\",\"type\":\"LinearScale\"},{\"attributes\":{\"line_alpha\":0.2,\"line_color\":\"#2ba02b\",\"line_width\":2,\"x\":{\"field\":\"Date\"},\"y\":{\"field\":\"value\"}},\"id\":\"13057\",\"type\":\"Line\"},{\"attributes\":{},\"id\":\"13002\",\"type\":\"ResetTool\"},{\"attributes\":{\"line_color\":\"#1f77b3\",\"line_width\":2,\"x\":{\"field\":\"Date\"},\"y\":{\"field\":\"value\"}},\"id\":\"13018\",\"type\":\"Line\"},{\"attributes\":{\"data_source\":{\"id\":\"13033\"},\"glyph\":{\"id\":\"13036\"},\"hover_glyph\":null,\"muted_glyph\":{\"id\":\"13038\"},\"nonselection_glyph\":{\"id\":\"13037\"},\"selection_glyph\":null,\"view\":{\"id\":\"13040\"}},\"id\":\"13039\",\"type\":\"GlyphRenderer\"},{\"attributes\":{\"line_alpha\":0.1,\"line_color\":\"#8c564b\",\"line_width\":2,\"x\":{\"field\":\"Date\"},\"y\":{\"field\":\"value\"}},\"id\":\"13125\",\"type\":\"Line\"},{\"attributes\":{\"line_alpha\":0.2,\"line_color\":\"#16bdcf\",\"line_width\":2,\"x\":{\"field\":\"Date\"},\"y\":{\"field\":\"value\"}},\"id\":\"13246\",\"type\":\"Line\"},{\"attributes\":{},\"id\":\"13016\",\"type\":\"Selection\"},{\"attributes\":{\"data_source\":{\"id\":\"13208\"},\"glyph\":{\"id\":\"13211\"},\"hover_glyph\":null,\"muted_glyph\":{\"id\":\"13213\"},\"nonselection_glyph\":{\"id\":\"13212\"},\"selection_glyph\":null,\"view\":{\"id\":\"13215\"}},\"id\":\"13214\",\"type\":\"GlyphRenderer\"},{\"attributes\":{\"data\":{\"Date\":[2013,2014,2015,2016,2017,2018,2019,2020,2021],\"Variable\":[\"Dash-DASH\",\"Dash-DASH\",\"Dash-DASH\",\"Dash-DASH\",\"Dash-DASH\",\"Dash-DASH\",\"Dash-DASH\",\"Dash-DASH\",\"Dash-DASH\"],\"value\":{\"__ndarray__\":\"AAAAAAAAAABxX6/Hcu4JQC4yh+nMGAZA8M4yDJohIEDBTek0emRvQPy2js0N8HRAZXyWHOEYWECsuTaSlYFUQK5H4XoUvlVA\",\"dtype\":\"float64\",\"order\":\"little\",\"shape\":[9]}},\"selected\":{\"id\":\"13122\"},\"selection_policy\":{\"id\":\"13145\"}},\"id\":\"13121\",\"type\":\"ColumnDataSource\"},{\"attributes\":{\"source\":{\"id\":\"13033\"}},\"id\":\"13040\",\"type\":\"CDSView\"},{\"attributes\":{\"source\":{\"id\":\"13208\"}},\"id\":\"13215\",\"type\":\"CDSView\"},{\"attributes\":{},\"id\":\"13049\",\"type\":\"UnionRenderers\"},{\"attributes\":{\"axis_label\":\"Closing Price\",\"bounds\":\"auto\",\"formatter\":{\"id\":\"13013\"},\"major_label_orientation\":\"horizontal\",\"ticker\":{\"id\":\"12995\"}},\"id\":\"12994\",\"type\":\"LinearAxis\"},{\"attributes\":{\"line_color\":\"#ff7e0e\",\"line_width\":2,\"x\":{\"field\":\"Date\"},\"y\":{\"field\":\"value\"}},\"id\":\"13036\",\"type\":\"Line\"},{\"attributes\":{},\"id\":\"13145\",\"type\":\"UnionRenderers\"},{\"attributes\":{},\"id\":\"13238\",\"type\":\"UnionRenderers\"},{\"attributes\":{\"line_alpha\":0.1,\"line_color\":\"#ff7e0e\",\"line_width\":2,\"x\":{\"field\":\"Date\"},\"y\":{\"field\":\"value\"}},\"id\":\"13037\",\"type\":\"Line\"},{\"attributes\":{},\"id\":\"13178\",\"type\":\"Selection\"},{\"attributes\":{},\"id\":\"13209\",\"type\":\"Selection\"},{\"attributes\":{\"line_color\":\"#2ba02b\",\"line_width\":2,\"x\":{\"field\":\"Date\"},\"y\":{\"field\":\"value\"}},\"id\":\"13055\",\"type\":\"Line\"},{\"attributes\":{\"data_source\":{\"id\":\"13015\"},\"glyph\":{\"id\":\"13018\"},\"hover_glyph\":null,\"muted_glyph\":{\"id\":\"13020\"},\"nonselection_glyph\":{\"id\":\"13019\"},\"selection_glyph\":null,\"view\":{\"id\":\"13022\"}},\"id\":\"13021\",\"type\":\"GlyphRenderer\"},{\"attributes\":{\"line_color\":\"#d62628\",\"line_width\":2,\"x\":{\"field\":\"Date\"},\"y\":{\"field\":\"value\"}},\"id\":\"13076\",\"type\":\"Line\"},{\"attributes\":{\"end\":35339.997,\"reset_end\":35339.997,\"reset_start\":-3212.7270000000003,\"start\":-3212.7270000000003,\"tags\":[[[\"value\",\"value\",null]]]},\"id\":\"12970\",\"type\":\"Range1d\"},{\"attributes\":{\"line_alpha\":0.1,\"line_color\":\"#2ba02b\",\"line_width\":2,\"x\":{\"field\":\"Date\"},\"y\":{\"field\":\"value\"}},\"id\":\"13056\",\"type\":\"Line\"},{\"attributes\":{\"line_alpha\":0.2,\"line_color\":\"#1f77b3\",\"line_width\":2,\"x\":{\"field\":\"Date\"},\"y\":{\"field\":\"value\"}},\"id\":\"13020\",\"type\":\"Line\"},{\"attributes\":{},\"id\":\"13273\",\"type\":\"UnionRenderers\"},{\"attributes\":{\"active_drag\":\"auto\",\"active_inspect\":\"auto\",\"active_multi\":null,\"active_scroll\":\"auto\",\"active_tap\":\"auto\",\"tools\":[{\"id\":\"12971\"},{\"id\":\"12998\"},{\"id\":\"12999\"},{\"id\":\"13000\"},{\"id\":\"13001\"},{\"id\":\"13002\"}]},\"id\":\"13004\",\"type\":\"Toolbar\"},{\"attributes\":{\"label\":{\"value\":\"Bitcoin-BSV\"},\"renderers\":[{\"id\":\"13058\"}]},\"id\":\"13072\",\"type\":\"LegendItem\"},{\"attributes\":{\"data\":{\"Date\":[2013,2014,2015,2016,2017,2018,2019,2020,2021],\"Variable\":[\"Bitcoin-BSV\",\"Bitcoin-BSV\",\"Bitcoin-BSV\",\"Bitcoin-BSV\",\"Bitcoin-BSV\",\"Bitcoin-BSV\",\"Bitcoin-BSV\",\"Bitcoin-BSV\",\"Bitcoin-BSV\"],\"value\":{\"__ndarray__\":\"AAAAAAAAAAAAAAAAAAAAAAAAAAAAAAAAAAAAAAAAAAAAAAAAAAAAAPFHTA2udCtAycNmHchHW0AGxaHrEzhoQHsUrkfhYmRA\",\"dtype\":\"float64\",\"order\":\"little\",\"shape\":[9]}},\"selected\":{\"id\":\"13053\"},\"selection_policy\":{\"id\":\"13070\"}},\"id\":\"13052\",\"type\":\"ColumnDataSource\"},{\"attributes\":{\"line_color\":\"#16bdcf\",\"line_width\":2,\"x\":{\"field\":\"Date\"},\"y\":{\"field\":\"value\"}},\"id\":\"13244\",\"type\":\"Line\"},{\"attributes\":{\"click_policy\":\"mute\",\"items\":[{\"id\":\"13032\"},{\"id\":\"13051\"},{\"id\":\"13072\"},{\"id\":\"13095\"},{\"id\":\"13120\"},{\"id\":\"13147\"},{\"id\":\"13176\"},{\"id\":\"13207\"},{\"id\":\"13240\"},{\"id\":\"13275\"}],\"location\":[0,0],\"title\":\"Variable\"},\"id\":\"13031\",\"type\":\"Legend\"},{\"attributes\":{\"line_alpha\":0.1,\"line_color\":\"#16bdcf\",\"line_width\":2,\"x\":{\"field\":\"Date\"},\"y\":{\"field\":\"value\"}},\"id\":\"13245\",\"type\":\"Line\"},{\"attributes\":{},\"id\":\"13053\",\"type\":\"Selection\"},{\"attributes\":{\"data_source\":{\"id\":\"13121\"},\"glyph\":{\"id\":\"13124\"},\"hover_glyph\":null,\"muted_glyph\":{\"id\":\"13126\"},\"nonselection_glyph\":{\"id\":\"13125\"},\"selection_glyph\":null,\"view\":{\"id\":\"13128\"}},\"id\":\"13127\",\"type\":\"GlyphRenderer\"},{\"attributes\":{},\"id\":\"12998\",\"type\":\"SaveTool\"},{\"attributes\":{},\"id\":\"13074\",\"type\":\"Selection\"},{\"attributes\":{},\"id\":\"12999\",\"type\":\"PanTool\"},{\"attributes\":{\"source\":{\"id\":\"13121\"}},\"id\":\"13128\",\"type\":\"CDSView\"},{\"attributes\":{\"source\":{\"id\":\"13052\"}},\"id\":\"13059\",\"type\":\"CDSView\"},{\"attributes\":{},\"id\":\"13000\",\"type\":\"WheelZoomTool\"},{\"attributes\":{},\"id\":\"13122\",\"type\":\"Selection\"},{\"attributes\":{\"label\":{\"value\":\"Dash-DASH\"},\"renderers\":[{\"id\":\"13127\"}]},\"id\":\"13147\",\"type\":\"LegendItem\"},{\"attributes\":{\"data_source\":{\"id\":\"13241\"},\"glyph\":{\"id\":\"13244\"},\"hover_glyph\":null,\"muted_glyph\":{\"id\":\"13246\"},\"nonselection_glyph\":{\"id\":\"13245\"},\"selection_glyph\":null,\"view\":{\"id\":\"13248\"}},\"id\":\"13247\",\"type\":\"GlyphRenderer\"},{\"attributes\":{\"overlay\":{\"id\":\"13003\"}},\"id\":\"13001\",\"type\":\"BoxZoomTool\"},{\"attributes\":{\"line_color\":\"#e277c1\",\"line_width\":2,\"x\":{\"field\":\"Date\"},\"y\":{\"field\":\"value\"}},\"id\":\"13151\",\"type\":\"Line\"},{\"attributes\":{\"end\":2021.0,\"reset_end\":2021.0,\"reset_start\":2013.0,\"start\":2013.0,\"tags\":[[[\"Date\",\"Date\",null]]]},\"id\":\"12969\",\"type\":\"Range1d\"},{\"attributes\":{\"label\":{\"value\":\"Kusama-KSM\"},\"renderers\":[{\"id\":\"13154\"}]},\"id\":\"13176\",\"type\":\"LegendItem\"},{\"attributes\":{\"data\":{\"Date\":[2013,2014,2015,2016,2017,2018,2019,2020,2021],\"Variable\":[\"Bitcoin-BTC\",\"Bitcoin-BTC\",\"Bitcoin-BTC\",\"Bitcoin-BTC\",\"Bitcoin-BTC\",\"Bitcoin-BTC\",\"Bitcoin-BTC\",\"Bitcoin-BTC\",\"Bitcoin-BTC\"],\"value\":{\"__ndarray__\":\"kjDrCLNAcEA08ntm32+AQAgjoKSEDHFA84Kk/EPQgUBeUrtPbpGvQPPwN35peb1ASZD1Y3HsvEBrzKUze9TFQHsUrkfRX99A\",\"dtype\":\"float64\",\"order\":\"little\",\"shape\":[9]}},\"selected\":{\"id\":\"13016\"},\"selection_policy\":{\"id\":\"13029\"}},\"id\":\"13015\",\"type\":\"ColumnDataSource\"},{\"attributes\":{\"source\":{\"id\":\"13241\"}},\"id\":\"13248\",\"type\":\"CDSView\"},{\"attributes\":{\"data_source\":{\"id\":\"13052\"},\"glyph\":{\"id\":\"13055\"},\"hover_glyph\":null,\"muted_glyph\":{\"id\":\"13057\"},\"nonselection_glyph\":{\"id\":\"13056\"},\"selection_glyph\":null,\"view\":{\"id\":\"13059\"}},\"id\":\"13058\",\"type\":\"GlyphRenderer\"},{\"attributes\":{},\"id\":\"13034\",\"type\":\"Selection\"},{\"attributes\":{\"text\":\"CoinMarketCap: Crypto Closing Prices\",\"text_color\":{\"value\":\"black\"},\"text_font_size\":{\"value\":\"12pt\"}},\"id\":\"12982\",\"type\":\"Title\"},{\"attributes\":{\"label\":{\"value\":\"Counos-CCXX\"},\"renderers\":[{\"id\":\"13247\"}]},\"id\":\"13275\",\"type\":\"LegendItem\"}],\"root_ids\":[\"12967\"]},\"title\":\"Bokeh Application\",\"version\":\"2.2.3\"}};\n",
       "    var render_items = [{\"docid\":\"01eed482-9956-40af-bf6e-cf32ac725134\",\"root_ids\":[\"12967\"],\"roots\":{\"12967\":\"17f3fe81-670f-4d75-bc64-b661b35e3e9a\"}}];\n",
       "    root.Bokeh.embed.embed_items_notebook(docs_json, render_items);\n",
       "  }\n",
       "  if (root.Bokeh !== undefined && root.Bokeh.Panel !== undefined) {\n",
       "    embed_document(root);\n",
       "  } else {\n",
       "    var attempts = 0;\n",
       "    var timer = setInterval(function(root) {\n",
       "      if (root.Bokeh !== undefined && root.Bokeh.Panel !== undefined) {\n",
       "        clearInterval(timer);\n",
       "        embed_document(root);\n",
       "      } else if (document.readyState == \"complete\") {\n",
       "        attempts++;\n",
       "        if (attempts > 100) {\n",
       "          clearInterval(timer);\n",
       "          console.log(\"Bokeh: ERROR: Unable to run BokehJS code because BokehJS library is missing\");\n",
       "        }\n",
       "      }\n",
       "    }, 10, root)\n",
       "  }\n",
       "})(window);</script>"
      ],
      "text/plain": [
       ":NdOverlay   [Variable]\n",
       "   :Curve   [Date]   (value)"
      ]
     },
     "execution_count": 193,
     "metadata": {
      "application/vnd.holoviews_exec.v0+json": {
       "id": "12967"
      }
     },
     "output_type": "execute_result"
    }
   ],
   "source": [
    "all_date_index_grp.hvplot(title=\"CoinMarketCap: Crypto Closing Prices\", ylabel=\"Closing Price\", xlabel=\"Year\", kind='line', width=1000, height=500, x=\"Date\")"
   ]
  },
  {
   "cell_type": "code",
   "execution_count": 192,
   "metadata": {},
   "outputs": [
    {
     "data": {},
     "metadata": {},
     "output_type": "display_data"
    },
    {
     "data": {
      "application/vnd.holoviews_exec.v0+json": "",
      "text/html": [
       "<div id='12852'>\n",
       "\n",
       "\n",
       "\n",
       "\n",
       "\n",
       "  <div class=\"bk-root\" id=\"ab860d58-baa5-43e9-b041-c64bcf3cc4ae\" data-root-id=\"12852\"></div>\n",
       "</div>\n",
       "<script type=\"application/javascript\">(function(root) {\n",
       "  function embed_document(root) {\n",
       "    var docs_json = {\"327f3f00-bda7-4c94-b162-748f07e5ab43\":{\"roots\":{\"references\":[{\"attributes\":{\"axis\":{\"id\":\"12869\"},\"dimension\":1,\"grid_line_color\":null,\"ticker\":null},\"id\":\"12872\",\"type\":\"Grid\"},{\"attributes\":{\"overlay\":{\"id\":\"12878\"}},\"id\":\"12876\",\"type\":\"BoxZoomTool\"},{\"attributes\":{\"axis_label\":\"Year\",\"bounds\":\"auto\",\"formatter\":{\"id\":\"12899\"},\"major_label_orientation\":1.5707963267948966,\"ticker\":{\"id\":\"12867\"}},\"id\":\"12866\",\"type\":\"CategoricalAxis\"},{\"attributes\":{},\"id\":\"12873\",\"type\":\"SaveTool\"},{\"attributes\":{},\"id\":\"12877\",\"type\":\"ResetTool\"},{\"attributes\":{\"below\":[{\"id\":\"12866\"}],\"center\":[{\"id\":\"12868\"},{\"id\":\"12872\"},{\"id\":\"12903\"}],\"left\":[{\"id\":\"12869\"}],\"margin\":[5,5,5,5],\"min_border_bottom\":10,\"min_border_left\":10,\"min_border_right\":10,\"min_border_top\":10,\"plot_height\":450,\"plot_width\":1000,\"renderers\":[{\"id\":\"12893\"}],\"right\":[{\"id\":\"12903\"}],\"sizing_mode\":\"fixed\",\"title\":{\"id\":\"12858\"},\"toolbar\":{\"id\":\"12879\"},\"x_range\":{\"id\":\"12854\"},\"x_scale\":{\"id\":\"12862\"},\"y_range\":{\"id\":\"12855\"},\"y_scale\":{\"id\":\"12864\"}},\"id\":\"12857\",\"subtype\":\"Figure\",\"type\":\"Plot\"},{\"attributes\":{\"bottom\":{\"field\":\"bottom\"},\"fill_color\":{\"field\":\"Variable\",\"transform\":{\"id\":\"12886\"}},\"top\":{\"field\":\"top\"},\"width\":{\"value\":0.8},\"x\":{\"field\":\"Date\"}},\"id\":\"12890\",\"type\":\"VBar\"},{\"attributes\":{\"active_drag\":\"auto\",\"active_inspect\":\"auto\",\"active_multi\":null,\"active_scroll\":\"auto\",\"active_tap\":\"auto\",\"tools\":[{\"id\":\"12856\"},{\"id\":\"12873\"},{\"id\":\"12874\"},{\"id\":\"12875\"},{\"id\":\"12876\"},{\"id\":\"12877\"}]},\"id\":\"12879\",\"type\":\"Toolbar\"},{\"attributes\":{\"callback\":null,\"renderers\":[{\"id\":\"12893\"}],\"tags\":[\"hv_created\"],\"tooltips\":[[\"Date\",\"@{Date}\"],[\"Variable\",\"@{Variable}\"],[\"value\",\"@{value}\"]]},\"id\":\"12856\",\"type\":\"HoverTool\"},{\"attributes\":{\"bottom\":{\"field\":\"bottom\"},\"fill_alpha\":{\"value\":0.2},\"fill_color\":{\"field\":\"Variable\",\"transform\":{\"id\":\"12886\"}},\"line_alpha\":{\"value\":0.2},\"top\":{\"field\":\"top\"},\"width\":{\"value\":0.8},\"x\":{\"field\":\"Date\"}},\"id\":\"12892\",\"type\":\"VBar\"},{\"attributes\":{},\"id\":\"12864\",\"type\":\"LinearScale\"},{\"attributes\":{\"axis\":{\"id\":\"12866\"},\"grid_line_color\":null,\"ticker\":null},\"id\":\"12868\",\"type\":\"Grid\"},{\"attributes\":{},\"id\":\"12875\",\"type\":\"WheelZoomTool\"},{\"attributes\":{\"bottom\":{\"field\":\"bottom\"},\"fill_alpha\":{\"value\":0.1},\"fill_color\":{\"field\":\"Variable\",\"transform\":{\"id\":\"12886\"}},\"line_alpha\":{\"value\":0.1},\"top\":{\"field\":\"top\"},\"width\":{\"value\":0.8},\"x\":{\"field\":\"Date\"}},\"id\":\"12891\",\"type\":\"VBar\"},{\"attributes\":{},\"id\":\"12888\",\"type\":\"Selection\"},{\"attributes\":{\"margin\":[5,5,5,5],\"name\":\"HSpacer31399\",\"sizing_mode\":\"stretch_width\"},\"id\":\"12853\",\"type\":\"Spacer\"},{\"attributes\":{},\"id\":\"12901\",\"type\":\"UnionRenderers\"},{\"attributes\":{\"text\":\"CoinMarketCap: Combined Closing Prices\",\"text_color\":{\"value\":\"black\"},\"text_font_size\":{\"value\":\"12pt\"}},\"id\":\"12858\",\"type\":\"Title\"},{\"attributes\":{\"data\":{\"Date\":[\"2013\",\"2014\",\"2015\",\"2016\",\"2017\",\"2018\",\"2019\",\"2020\",\"2021\",\"2021\",\"2020\",\"2019\",\"2018\",\"2014\",\"2016\",\"2015\",\"2013\",\"2017\",\"2019\",\"2021\",\"2020\",\"2018\",\"2014\",\"2016\",\"2015\",\"2013\",\"2017\",\"2021\",\"2020\",\"2019\",\"2018\",\"2017\",\"2015\",\"2014\",\"2013\",\"2016\",\"2018\",\"2020\",\"2019\",\"2017\",\"2021\",\"2015\",\"2014\",\"2013\",\"2016\",\"2020\",\"2019\",\"2018\",\"2017\",\"2021\",\"2015\",\"2014\",\"2013\",\"2016\",\"2021\",\"2020\",\"2019\",\"2018\",\"2017\",\"2015\",\"2014\",\"2013\",\"2016\",\"2021\",\"2020\",\"2019\",\"2018\",\"2015\",\"2016\",\"2014\",\"2013\",\"2017\",\"2021\",\"2020\",\"2018\",\"2017\",\"2019\",\"2015\",\"2014\",\"2013\",\"2016\",\"2020\",\"2013\",\"2014\",\"2015\",\"2016\",\"2017\",\"2018\",\"2019\",\"2021\"],\"Variable\":[\"Bitcoin-BTC\",\"Bitcoin-BTC\",\"Bitcoin-BTC\",\"Bitcoin-BTC\",\"Bitcoin-BTC\",\"Bitcoin-BTC\",\"Bitcoin-BTC\",\"Bitcoin-BTC\",\"Bitcoin-BTC\",\"Ethereum-ETH\",\"Ethereum-ETH\",\"Ethereum-ETH\",\"Ethereum-ETH\",\"Ethereum-ETH\",\"Ethereum-ETH\",\"Ethereum-ETH\",\"Ethereum-ETH\",\"Ethereum-ETH\",\"Bitcoin-BSV\",\"Bitcoin-BSV\",\"Bitcoin-BSV\",\"Bitcoin-BSV\",\"Bitcoin-BSV\",\"Bitcoin-BSV\",\"Bitcoin-BSV\",\"Bitcoin-BSV\",\"Bitcoin-BSV\",\"Litecoin-LTC\",\"Litecoin-LTC\",\"Litecoin-LTC\",\"Litecoin-LTC\",\"Litecoin-LTC\",\"Litecoin-LTC\",\"Litecoin-LTC\",\"Litecoin-LTC\",\"Litecoin-LTC\",\"Monero-XMR\",\"Monero-XMR\",\"Monero-XMR\",\"Monero-XMR\",\"Monero-XMR\",\"Monero-XMR\",\"Monero-XMR\",\"Monero-XMR\",\"Monero-XMR\",\"Dash-DASH\",\"Dash-DASH\",\"Dash-DASH\",\"Dash-DASH\",\"Dash-DASH\",\"Dash-DASH\",\"Dash-DASH\",\"Dash-DASH\",\"Dash-DASH\",\"Kusama-KSM\",\"Kusama-KSM\",\"Kusama-KSM\",\"Kusama-KSM\",\"Kusama-KSM\",\"Kusama-KSM\",\"Kusama-KSM\",\"Kusama-KSM\",\"Kusama-KSM\",\"Zcash-ZEC\",\"Zcash-ZEC\",\"Zcash-ZEC\",\"Zcash-ZEC\",\"Zcash-ZEC\",\"Zcash-ZEC\",\"Zcash-ZEC\",\"Zcash-ZEC\",\"Zcash-ZEC\",\"Bitcoin Cash-BCH\",\"Bitcoin Cash-BCH\",\"Bitcoin Cash-BCH\",\"Bitcoin Cash-BCH\",\"Bitcoin Cash-BCH\",\"Bitcoin Cash-BCH\",\"Bitcoin Cash-BCH\",\"Bitcoin Cash-BCH\",\"Bitcoin Cash-BCH\",\"Counos-CCXX\",\"Counos-CCXX\",\"Counos-CCXX\",\"Counos-CCXX\",\"Counos-CCXX\",\"Counos-CCXX\",\"Counos-CCXX\",\"Counos-CCXX\",\"Counos-CCXX\"],\"bottom\":{\"__ndarray__\":\"AAAAAAAAAAAAAAAAAAAAAAAAAAAAAAAAAAAAAAAAAAAAAAAAAAAAAAAAAAAAAAAAAAAAAAAAAAAAAAAAAAAAAAAAAAAAAAAAexSuR9Ff30BrzKUze9TFQEmQ9WNx7LxA8/A3fml5vUA08ntm32+AQPOCpPxD0IFACCOgpIQMcUCSMOsIs0BwQF5Su09uka9AsK29iy+ivUCamZmZuRDgQE7rzWASb8ZAFMBtWDBbv0A08ntm32+AQFDzhfalHoJArVgedoMScUCSMOsIs0BwQMZSRaW5qrBArkfhehwl4EBicnyw8s/GQL9IM6xOD75AOGZ0r+pov0DGUkWluaqwQK1YHnaDEnFANPJ7Zt9vgECSMOsIs0BwQFDzhfalHoJAIR/iNCfSv0Avy09SL+zGQI+V6XIAVb5AHkAqRl/dsED2KFyPOjbgQDEwxReqPXFAvNNhDSe+gEA5xGJDrKxwQPw5lef6PIJAOLF/qscWx0AsuoRhfJe+QNjRKD2sPMBAY2zIODgqsUBnZmZmHkjgQF/IeAWERXFAsbEWNcTFgEA5xGJDrKxwQAnDRcDHWoJAC9ejcP1S4ECrHqTVyj/HQB4U9+Xf975AkEeVqyzkwEDRtm8KXCWyQMPWS5+1cXFAEGHep7LfgEA5xGJDrKxwQEWOdihOm4JAC9ejcK1b4EDyuZv/eEjHQMj0Twbz975AkEeVqyzkwEDD1kuftXFxQEWOdihOm4JAEGHep7LfgEA5xGJDrKxwQNG2bwpcJbJAhutRuMZi4ED6pqgGB2XHQA1JRCacVsFAHFZa/JnmskCM8wsefTC/QMPWS5+1cXFAEGHep7LfgEA5xGJDrKxwQOtsojhPjYNAI2ilDCLsx0A5xGJDrKxwQBBh3qey34BAw9ZLn7VxcUDrbKI4T42DQD5Y/l4OcbRA1mXqWV8Hw0AIMBCT7hrAQGdmZmaGjeBA\",\"dtype\":\"float64\",\"order\":\"little\",\"shape\":[90]},\"top\":{\"__ndarray__\":\"kjDrCLNAcEA08ntm32+AQAgjoKSEDHFA84Kk/EPQgUBeUrtPbpGvQPPwN35peb1ASZD1Y3HsvEBrzKUze9TFQHsUrkfRX99AmpmZmbkQ4EBO681gEm/GQLCtvYsvor1AFMBtWDBbv0A08ntm32+AQFDzhfalHoJArVgedoMScUCSMOsIs0BwQMZSRaW5qrBAv0gzrE4PvkCuR+F6HCXgQGJyfLDyz8ZAOGZ0r+pov0A08ntm32+AQFDzhfalHoJArVgedoMScUCSMOsIs0BwQMZSRaW5qrBA9ihcjzo24EAvy09SL+zGQI+V6XIAVb5AIR/iNCfSv0AeQCpGX92wQDEwxReqPXFAvNNhDSe+gEA5xGJDrKxwQPw5lef6PIJA2NEoPaw8wEA4sX+qxxbHQCy6hGF8l75AY2zIODgqsUBnZmZmHkjgQF/IeAWERXFAsbEWNcTFgEA5xGJDrKxwQAnDRcDHWoJAqx6k1co/x0AeFPfl3/e+QJBHlass5MBA0bZvClwlskAL16Nw/VLgQMPWS5+1cXFAEGHep7LfgEA5xGJDrKxwQEWOdihOm4JAC9ejcK1b4EDyuZv/eEjHQMj0Twbz975AkEeVqyzkwEDRtm8KXCWyQMPWS5+1cXFAEGHep7LfgEA5xGJDrKxwQEWOdihOm4JAhutRuMZi4ED6pqgGB2XHQIzzCx59ML9ADUlEJpxWwUDD1kuftXFxQOtsojhPjYNAEGHep7LfgEA5xGJDrKxwQBxWWvyZ5rJAZ2ZmZoaN4EAjaKUMIuzHQNZl6llfB8NAPlj+Xg5xtEAIMBCT7hrAQMPWS5+1cXFAEGHep7LfgEA5xGJDrKxwQOtsojhPjYNAxoqw86P4x0A5xGJDrKxwQBBh3qey34BAw9ZLn7VxcUDrbKI4T42DQD5Y/l4OcbRA1mXqWV8Hw0AIMBCT7hrAQKRwPQqPmOBA\",\"dtype\":\"float64\",\"order\":\"little\",\"shape\":[90]},\"value\":{\"__ndarray__\":\"kjDrCLNAcEA08ntm32+AQAgjoKSEDHFA84Kk/EPQgUBeUrtPbpGvQPPwN35peb1ASZD1Y3HsvEBrzKUze9TFQHsUrkfRX99ACtejcD00iEBt3AOl5VJzQNesA/nEt2ZAC/Jco20cfkAAAAAAAAAAADIXXHh+mCNAdJLW+EX71z8AAAAAAAAAAO0y9axPQGxAycNmHchHW0B7FK5H4WJkQAbFoesTOGhA8UdMDa50K0AAAAAAAAAAAAAAAAAAAAAAAAAAAAAAAAAAAAAAAAAAAAAAAAAAAAAArkfhehQeYUB3zVjToTxMQBs0k61xbFFALjpuWyFPWkAArHZy0FJJQCzCa9NQkwVAEmJ4uemRI0Dd6eSdTv4aQDisRg/xVA5A4ZHwrSjmZECkBPMXLExVQCQnyab7nlBAThGLpzw2U0CkcD0K1+NhQJ+3YM62Z98/AdN305507j8AAAAAAAAAAHcNibDYzA1ArLk2kpWBVEBlfJYc4RhYQPy2js0N8HRAwU3pNHpkb0CuR+F6FL5VQC4yh+nMGAZAcV+vx3LuCUAAAAAAAAAAAPDOMgyaISBAAAAAAABgUUCwjjbvU1wxQOesqeBYILM/AAAAAAAAAAAAAAAAAAAAAAAAAAAAAAAAAAAAAAAAAAAAAAAAAAAAAAAAAAAAAAAAhetRuB5lTEDoB+0MB45MQAFi/90LRUxALF/Aq96bbEAAAAAAAAAAAM7UewUiQD5AAAAAAAAAAAAAAAAAAAAAAGrpUz2+J2hApHA9CtdfdUAnJZi/YONwQInMYTozDItAGyJAKkaneEA/yEaBAFZwQAAAAAAAAAAAAAAAAAAAAAAAAAAAAAAAAAAAAAAAAAAAFkZFFs4DOUAAAAAAAAAAAAAAAAAAAAAAAAAAAAAAAAAAAAAAAAAAAAAAAAAAAAAAAAAAAAAAAAAAAAAAAAAAAOF6FK5HEVZA\",\"dtype\":\"float64\",\"order\":\"little\",\"shape\":[90]}},\"selected\":{\"id\":\"12888\"},\"selection_policy\":{\"id\":\"12901\"}},\"id\":\"12887\",\"type\":\"ColumnDataSource\"},{\"attributes\":{},\"id\":\"12870\",\"type\":\"BasicTicker\"},{\"attributes\":{\"margin\":[5,5,5,5],\"name\":\"HSpacer31400\",\"sizing_mode\":\"stretch_width\"},\"id\":\"12925\",\"type\":\"Spacer\"},{\"attributes\":{},\"id\":\"12867\",\"type\":\"CategoricalTicker\"},{\"attributes\":{\"axis_label\":\"Closing Price\",\"bounds\":\"auto\",\"formatter\":{\"id\":\"12897\"},\"major_label_orientation\":\"horizontal\",\"ticker\":{\"id\":\"12870\"}},\"id\":\"12869\",\"type\":\"LinearAxis\"},{\"attributes\":{},\"id\":\"12874\",\"type\":\"PanTool\"},{\"attributes\":{},\"id\":\"12899\",\"type\":\"CategoricalTickFormatter\"},{\"attributes\":{\"bottom_units\":\"screen\",\"fill_alpha\":0.5,\"fill_color\":\"lightgrey\",\"left_units\":\"screen\",\"level\":\"overlay\",\"line_alpha\":1.0,\"line_color\":\"black\",\"line_dash\":[4,4],\"line_width\":2,\"right_units\":\"screen\",\"top_units\":\"screen\"},\"id\":\"12878\",\"type\":\"BoxAnnotation\"},{\"attributes\":{\"factors\":[\"2013\",\"2014\",\"2015\",\"2016\",\"2017\",\"2018\",\"2019\",\"2020\",\"2021\"],\"tags\":[[[\"Date\",\"Date\",null]]]},\"id\":\"12854\",\"type\":\"FactorRange\"},{\"attributes\":{\"children\":[{\"id\":\"12853\"},{\"id\":\"12857\"},{\"id\":\"12925\"}],\"margin\":[0,0,0,0],\"name\":\"Row31395\",\"tags\":[\"embedded\"]},\"id\":\"12852\",\"type\":\"Row\"},{\"attributes\":{\"source\":{\"id\":\"12887\"}},\"id\":\"12894\",\"type\":\"CDSView\"},{\"attributes\":{\"items\":[{\"id\":\"12904\"}],\"location\":[0,0]},\"id\":\"12903\",\"type\":\"Legend\"},{\"attributes\":{},\"id\":\"12897\",\"type\":\"BasicTickFormatter\"},{\"attributes\":{\"end\":37360.63779435484,\"reset_end\":37360.63779435484,\"reset_start\":0.0,\"tags\":[[[\"value\",\"value\",null]]]},\"id\":\"12855\",\"type\":\"Range1d\"},{\"attributes\":{},\"id\":\"12862\",\"type\":\"CategoricalScale\"},{\"attributes\":{\"label\":{\"field\":\"Variable\"},\"renderers\":[{\"id\":\"12893\"}]},\"id\":\"12904\",\"type\":\"LegendItem\"},{\"attributes\":{\"factors\":[\"Bitcoin-BTC\",\"Ethereum-ETH\",\"Bitcoin-BSV\",\"Litecoin-LTC\",\"Monero-XMR\",\"Dash-DASH\",\"Kusama-KSM\",\"Zcash-ZEC\",\"Bitcoin Cash-BCH\",\"Counos-CCXX\"],\"palette\":[\"#1f77b3\",\"#ff7e0e\",\"#2ba02b\",\"#d62628\",\"#9367bc\",\"#8c564b\",\"#e277c1\",\"#7e7e7e\",\"#bcbc21\",\"#16bdcf\"]},\"id\":\"12886\",\"type\":\"CategoricalColorMapper\"},{\"attributes\":{\"data_source\":{\"id\":\"12887\"},\"glyph\":{\"id\":\"12890\"},\"hover_glyph\":null,\"muted_glyph\":{\"id\":\"12892\"},\"nonselection_glyph\":{\"id\":\"12891\"},\"selection_glyph\":null,\"view\":{\"id\":\"12894\"}},\"id\":\"12893\",\"type\":\"GlyphRenderer\"}],\"root_ids\":[\"12852\"]},\"title\":\"Bokeh Application\",\"version\":\"2.2.3\"}};\n",
       "    var render_items = [{\"docid\":\"327f3f00-bda7-4c94-b162-748f07e5ab43\",\"root_ids\":[\"12852\"],\"roots\":{\"12852\":\"ab860d58-baa5-43e9-b041-c64bcf3cc4ae\"}}];\n",
       "    root.Bokeh.embed.embed_items_notebook(docs_json, render_items);\n",
       "  }\n",
       "  if (root.Bokeh !== undefined && root.Bokeh.Panel !== undefined) {\n",
       "    embed_document(root);\n",
       "  } else {\n",
       "    var attempts = 0;\n",
       "    var timer = setInterval(function(root) {\n",
       "      if (root.Bokeh !== undefined && root.Bokeh.Panel !== undefined) {\n",
       "        clearInterval(timer);\n",
       "        embed_document(root);\n",
       "      } else if (document.readyState == \"complete\") {\n",
       "        attempts++;\n",
       "        if (attempts > 100) {\n",
       "          clearInterval(timer);\n",
       "          console.log(\"Bokeh: ERROR: Unable to run BokehJS code because BokehJS library is missing\");\n",
       "        }\n",
       "      }\n",
       "    }, 10, root)\n",
       "  }\n",
       "})(window);</script>"
      ],
      "text/plain": [
       ":Bars   [Date,Variable]   (value)"
      ]
     },
     "execution_count": 192,
     "metadata": {
      "application/vnd.holoviews_exec.v0+json": {
       "id": "12852"
      }
     },
     "output_type": "execute_result"
    }
   ],
   "source": [
    "# Bar plot showing the total closing cost per day\n",
    "all_date_index_grp.hvplot.bar(x='Date', y=[\"Bitcoin-BTC\", \"Ethereum-ETH\", \"Bitcoin-BSV\", \"Litecoin-LTC\", \"Monero-XMR\", \"Dash-DASH\", \"Kusama-KSM\", \"Zcash-ZEC\", \"Bitcoin Cash-BCH\", \"Counos-CCXX\"],\n",
    "                 stacked=True, rot=90, width=1000, height=450, ylabel=\"Closing Price\", xlabel=\"Year\", title=\"CoinMarketCap: Combined Closing Prices\")"
   ]
  },
  {
   "cell_type": "code",
   "execution_count": 149,
   "metadata": {},
   "outputs": [
    {
     "data": {
      "text/html": [
       "<div>\n",
       "<style scoped>\n",
       "    .dataframe tbody tr th:only-of-type {\n",
       "        vertical-align: middle;\n",
       "    }\n",
       "\n",
       "    .dataframe tbody tr th {\n",
       "        vertical-align: top;\n",
       "    }\n",
       "\n",
       "    .dataframe thead th {\n",
       "        text-align: right;\n",
       "    }\n",
       "</style>\n",
       "<table border=\"1\" class=\"dataframe\">\n",
       "  <thead>\n",
       "    <tr style=\"text-align: right;\">\n",
       "      <th></th>\n",
       "      <th>Bitcoin-BTC</th>\n",
       "      <th>Ethereum-ETH</th>\n",
       "      <th>Bitcoin-BSV</th>\n",
       "      <th>Litecoin-LTC</th>\n",
       "      <th>Monero-XMR</th>\n",
       "      <th>Dash-DASH</th>\n",
       "      <th>Kusama-KSM</th>\n",
       "      <th>Zcash-ZEC</th>\n",
       "      <th>Bitcoin Cash-BCH</th>\n",
       "      <th>Counos-CCXX</th>\n",
       "    </tr>\n",
       "  </thead>\n",
       "  <tbody>\n",
       "    <tr>\n",
       "      <th>count</th>\n",
       "      <td>2806.000000</td>\n",
       "      <td>2806.000000</td>\n",
       "      <td>2806.000000</td>\n",
       "      <td>2806.000000</td>\n",
       "      <td>2806.000000</td>\n",
       "      <td>2806.000000</td>\n",
       "      <td>2806.000000</td>\n",
       "      <td>2806.000000</td>\n",
       "      <td>2806.000000</td>\n",
       "      <td>2806.000000</td>\n",
       "    </tr>\n",
       "    <tr>\n",
       "      <th>mean</th>\n",
       "      <td>4140.814868</td>\n",
       "      <td>157.639262</td>\n",
       "      <td>41.310242</td>\n",
       "      <td>39.472341</td>\n",
       "      <td>52.228742</td>\n",
       "      <td>101.345521</td>\n",
       "      <td>2.298920</td>\n",
       "      <td>73.677366</td>\n",
       "      <td>233.262206</td>\n",
       "      <td>3.294266</td>\n",
       "    </tr>\n",
       "    <tr>\n",
       "      <th>std</th>\n",
       "      <td>4759.197098</td>\n",
       "      <td>219.938862</td>\n",
       "      <td>74.252435</td>\n",
       "      <td>49.927914</td>\n",
       "      <td>74.040425</td>\n",
       "      <td>180.689481</td>\n",
       "      <td>8.784631</td>\n",
       "      <td>122.517890</td>\n",
       "      <td>426.711522</td>\n",
       "      <td>12.754048</td>\n",
       "    </tr>\n",
       "    <tr>\n",
       "      <th>min</th>\n",
       "      <td>68.430000</td>\n",
       "      <td>0.000000</td>\n",
       "      <td>0.000000</td>\n",
       "      <td>1.160000</td>\n",
       "      <td>0.000000</td>\n",
       "      <td>0.000000</td>\n",
       "      <td>0.000000</td>\n",
       "      <td>0.000000</td>\n",
       "      <td>0.000000</td>\n",
       "      <td>0.000000</td>\n",
       "    </tr>\n",
       "    <tr>\n",
       "      <th>25%</th>\n",
       "      <td>417.952500</td>\n",
       "      <td>0.000000</td>\n",
       "      <td>0.000000</td>\n",
       "      <td>3.722500</td>\n",
       "      <td>0.517400</td>\n",
       "      <td>2.812500</td>\n",
       "      <td>0.000000</td>\n",
       "      <td>0.000000</td>\n",
       "      <td>0.000000</td>\n",
       "      <td>0.000000</td>\n",
       "    </tr>\n",
       "    <tr>\n",
       "      <th>50%</th>\n",
       "      <td>1080.240000</td>\n",
       "      <td>18.485000</td>\n",
       "      <td>0.000000</td>\n",
       "      <td>20.750000</td>\n",
       "      <td>13.965000</td>\n",
       "      <td>40.015000</td>\n",
       "      <td>0.000000</td>\n",
       "      <td>36.215000</td>\n",
       "      <td>0.000000</td>\n",
       "      <td>0.000000</td>\n",
       "    </tr>\n",
       "    <tr>\n",
       "      <th>75%</th>\n",
       "      <td>7562.717500</td>\n",
       "      <td>235.830000</td>\n",
       "      <td>66.840000</td>\n",
       "      <td>57.320000</td>\n",
       "      <td>82.230000</td>\n",
       "      <td>108.215000</td>\n",
       "      <td>0.000000</td>\n",
       "      <td>74.890000</td>\n",
       "      <td>296.220000</td>\n",
       "      <td>0.000000</td>\n",
       "    </tr>\n",
       "    <tr>\n",
       "      <th>max</th>\n",
       "      <td>32127.270000</td>\n",
       "      <td>1396.420000</td>\n",
       "      <td>422.740000</td>\n",
       "      <td>358.340000</td>\n",
       "      <td>469.200000</td>\n",
       "      <td>1550.850000</td>\n",
       "      <td>71.960000</td>\n",
       "      <td>1624.580000</td>\n",
       "      <td>3923.070000</td>\n",
       "      <td>89.100000</td>\n",
       "    </tr>\n",
       "  </tbody>\n",
       "</table>\n",
       "</div>"
      ],
      "text/plain": [
       "        Bitcoin-BTC  Ethereum-ETH  Bitcoin-BSV  Litecoin-LTC   Monero-XMR  \\\n",
       "count   2806.000000   2806.000000  2806.000000   2806.000000  2806.000000   \n",
       "mean    4140.814868    157.639262    41.310242     39.472341    52.228742   \n",
       "std     4759.197098    219.938862    74.252435     49.927914    74.040425   \n",
       "min       68.430000      0.000000     0.000000      1.160000     0.000000   \n",
       "25%      417.952500      0.000000     0.000000      3.722500     0.517400   \n",
       "50%     1080.240000     18.485000     0.000000     20.750000    13.965000   \n",
       "75%     7562.717500    235.830000    66.840000     57.320000    82.230000   \n",
       "max    32127.270000   1396.420000   422.740000    358.340000   469.200000   \n",
       "\n",
       "         Dash-DASH   Kusama-KSM    Zcash-ZEC  Bitcoin Cash-BCH  Counos-CCXX  \n",
       "count  2806.000000  2806.000000  2806.000000       2806.000000  2806.000000  \n",
       "mean    101.345521     2.298920    73.677366        233.262206     3.294266  \n",
       "std     180.689481     8.784631   122.517890        426.711522    12.754048  \n",
       "min       0.000000     0.000000     0.000000          0.000000     0.000000  \n",
       "25%       2.812500     0.000000     0.000000          0.000000     0.000000  \n",
       "50%      40.015000     0.000000    36.215000          0.000000     0.000000  \n",
       "75%     108.215000     0.000000    74.890000        296.220000     0.000000  \n",
       "max    1550.850000    71.960000  1624.580000       3923.070000    89.100000  "
      ]
     },
     "execution_count": 149,
     "metadata": {},
     "output_type": "execute_result"
    }
   ],
   "source": []
  },
  {
   "cell_type": "code",
   "execution_count": 150,
   "metadata": {},
   "outputs": [
    {
     "data": {
      "text/html": [
       "<div>\n",
       "<style scoped>\n",
       "    .dataframe tbody tr th:only-of-type {\n",
       "        vertical-align: middle;\n",
       "    }\n",
       "\n",
       "    .dataframe tbody tr th {\n",
       "        vertical-align: top;\n",
       "    }\n",
       "\n",
       "    .dataframe thead th {\n",
       "        text-align: right;\n",
       "    }\n",
       "</style>\n",
       "<table border=\"1\" class=\"dataframe\">\n",
       "  <thead>\n",
       "    <tr style=\"text-align: right;\">\n",
       "      <th></th>\n",
       "      <th>Bitcoin-BTC</th>\n",
       "      <th>Ethereum-ETH</th>\n",
       "      <th>Bitcoin-BSV</th>\n",
       "      <th>Litecoin-LTC</th>\n",
       "      <th>Monero-XMR</th>\n",
       "      <th>Dash-DASH</th>\n",
       "      <th>Kusama-KSM</th>\n",
       "      <th>Zcash-ZEC</th>\n",
       "      <th>Bitcoin Cash-BCH</th>\n",
       "      <th>Counos-CCXX</th>\n",
       "    </tr>\n",
       "  </thead>\n",
       "  <tbody>\n",
       "    <tr>\n",
       "      <th>Bitcoin-BTC</th>\n",
       "      <td>1.000000</td>\n",
       "      <td>0.802643</td>\n",
       "      <td>0.662956</td>\n",
       "      <td>0.774062</td>\n",
       "      <td>0.770519</td>\n",
       "      <td>0.554164</td>\n",
       "      <td>0.603554</td>\n",
       "      <td>0.459722</td>\n",
       "      <td>0.621100</td>\n",
       "      <td>0.619949</td>\n",
       "    </tr>\n",
       "    <tr>\n",
       "      <th>Ethereum-ETH</th>\n",
       "      <td>0.802643</td>\n",
       "      <td>1.000000</td>\n",
       "      <td>0.259169</td>\n",
       "      <td>0.905758</td>\n",
       "      <td>0.952817</td>\n",
       "      <td>0.843580</td>\n",
       "      <td>0.345065</td>\n",
       "      <td>0.778993</td>\n",
       "      <td>0.863360</td>\n",
       "      <td>0.341637</td>\n",
       "    </tr>\n",
       "    <tr>\n",
       "      <th>Bitcoin-BSV</th>\n",
       "      <td>0.662956</td>\n",
       "      <td>0.259169</td>\n",
       "      <td>1.000000</td>\n",
       "      <td>0.271062</td>\n",
       "      <td>0.203162</td>\n",
       "      <td>-0.027780</td>\n",
       "      <td>0.469468</td>\n",
       "      <td>-0.061608</td>\n",
       "      <td>0.064800</td>\n",
       "      <td>0.467518</td>\n",
       "    </tr>\n",
       "    <tr>\n",
       "      <th>Litecoin-LTC</th>\n",
       "      <td>0.774062</td>\n",
       "      <td>0.905758</td>\n",
       "      <td>0.271062</td>\n",
       "      <td>1.000000</td>\n",
       "      <td>0.950945</td>\n",
       "      <td>0.881168</td>\n",
       "      <td>0.150989</td>\n",
       "      <td>0.742872</td>\n",
       "      <td>0.895635</td>\n",
       "      <td>0.156879</td>\n",
       "    </tr>\n",
       "    <tr>\n",
       "      <th>Monero-XMR</th>\n",
       "      <td>0.770519</td>\n",
       "      <td>0.952817</td>\n",
       "      <td>0.203162</td>\n",
       "      <td>0.950945</td>\n",
       "      <td>1.000000</td>\n",
       "      <td>0.921079</td>\n",
       "      <td>0.212144</td>\n",
       "      <td>0.793076</td>\n",
       "      <td>0.934865</td>\n",
       "      <td>0.211878</td>\n",
       "    </tr>\n",
       "    <tr>\n",
       "      <th>Dash-DASH</th>\n",
       "      <td>0.554164</td>\n",
       "      <td>0.843580</td>\n",
       "      <td>-0.027780</td>\n",
       "      <td>0.881168</td>\n",
       "      <td>0.921079</td>\n",
       "      <td>1.000000</td>\n",
       "      <td>-0.025326</td>\n",
       "      <td>0.853166</td>\n",
       "      <td>0.953244</td>\n",
       "      <td>-0.023257</td>\n",
       "    </tr>\n",
       "    <tr>\n",
       "      <th>Kusama-KSM</th>\n",
       "      <td>0.603554</td>\n",
       "      <td>0.345065</td>\n",
       "      <td>0.469468</td>\n",
       "      <td>0.150989</td>\n",
       "      <td>0.212144</td>\n",
       "      <td>-0.025326</td>\n",
       "      <td>1.000000</td>\n",
       "      <td>-0.019154</td>\n",
       "      <td>0.021716</td>\n",
       "      <td>0.923041</td>\n",
       "    </tr>\n",
       "    <tr>\n",
       "      <th>Zcash-ZEC</th>\n",
       "      <td>0.459722</td>\n",
       "      <td>0.778993</td>\n",
       "      <td>-0.061608</td>\n",
       "      <td>0.742872</td>\n",
       "      <td>0.793076</td>\n",
       "      <td>0.853166</td>\n",
       "      <td>-0.019154</td>\n",
       "      <td>1.000000</td>\n",
       "      <td>0.796521</td>\n",
       "      <td>-0.020172</td>\n",
       "    </tr>\n",
       "    <tr>\n",
       "      <th>Bitcoin Cash-BCH</th>\n",
       "      <td>0.621100</td>\n",
       "      <td>0.863360</td>\n",
       "      <td>0.064800</td>\n",
       "      <td>0.895635</td>\n",
       "      <td>0.934865</td>\n",
       "      <td>0.953244</td>\n",
       "      <td>0.021716</td>\n",
       "      <td>0.796521</td>\n",
       "      <td>1.000000</td>\n",
       "      <td>0.022352</td>\n",
       "    </tr>\n",
       "    <tr>\n",
       "      <th>Counos-CCXX</th>\n",
       "      <td>0.619949</td>\n",
       "      <td>0.341637</td>\n",
       "      <td>0.467518</td>\n",
       "      <td>0.156879</td>\n",
       "      <td>0.211878</td>\n",
       "      <td>-0.023257</td>\n",
       "      <td>0.923041</td>\n",
       "      <td>-0.020172</td>\n",
       "      <td>0.022352</td>\n",
       "      <td>1.000000</td>\n",
       "    </tr>\n",
       "  </tbody>\n",
       "</table>\n",
       "</div>"
      ],
      "text/plain": [
       "                  Bitcoin-BTC  Ethereum-ETH  Bitcoin-BSV  Litecoin-LTC  \\\n",
       "Bitcoin-BTC          1.000000      0.802643     0.662956      0.774062   \n",
       "Ethereum-ETH         0.802643      1.000000     0.259169      0.905758   \n",
       "Bitcoin-BSV          0.662956      0.259169     1.000000      0.271062   \n",
       "Litecoin-LTC         0.774062      0.905758     0.271062      1.000000   \n",
       "Monero-XMR           0.770519      0.952817     0.203162      0.950945   \n",
       "Dash-DASH            0.554164      0.843580    -0.027780      0.881168   \n",
       "Kusama-KSM           0.603554      0.345065     0.469468      0.150989   \n",
       "Zcash-ZEC            0.459722      0.778993    -0.061608      0.742872   \n",
       "Bitcoin Cash-BCH     0.621100      0.863360     0.064800      0.895635   \n",
       "Counos-CCXX          0.619949      0.341637     0.467518      0.156879   \n",
       "\n",
       "                  Monero-XMR  Dash-DASH  Kusama-KSM  Zcash-ZEC  \\\n",
       "Bitcoin-BTC         0.770519   0.554164    0.603554   0.459722   \n",
       "Ethereum-ETH        0.952817   0.843580    0.345065   0.778993   \n",
       "Bitcoin-BSV         0.203162  -0.027780    0.469468  -0.061608   \n",
       "Litecoin-LTC        0.950945   0.881168    0.150989   0.742872   \n",
       "Monero-XMR          1.000000   0.921079    0.212144   0.793076   \n",
       "Dash-DASH           0.921079   1.000000   -0.025326   0.853166   \n",
       "Kusama-KSM          0.212144  -0.025326    1.000000  -0.019154   \n",
       "Zcash-ZEC           0.793076   0.853166   -0.019154   1.000000   \n",
       "Bitcoin Cash-BCH    0.934865   0.953244    0.021716   0.796521   \n",
       "Counos-CCXX         0.211878  -0.023257    0.923041  -0.020172   \n",
       "\n",
       "                  Bitcoin Cash-BCH  Counos-CCXX  \n",
       "Bitcoin-BTC               0.621100     0.619949  \n",
       "Ethereum-ETH              0.863360     0.341637  \n",
       "Bitcoin-BSV               0.064800     0.467518  \n",
       "Litecoin-LTC              0.895635     0.156879  \n",
       "Monero-XMR                0.934865     0.211878  \n",
       "Dash-DASH                 0.953244    -0.023257  \n",
       "Kusama-KSM                0.021716     0.923041  \n",
       "Zcash-ZEC                 0.796521    -0.020172  \n",
       "Bitcoin Cash-BCH          1.000000     0.022352  \n",
       "Counos-CCXX               0.022352     1.000000  "
      ]
     },
     "execution_count": 150,
     "metadata": {},
     "output_type": "execute_result"
    }
   ],
   "source": [
    "# Calculate the correlation between cryptos\n",
    "correlation = all_date_index.corr() \n",
    "correlation"
   ]
  },
  {
   "cell_type": "code",
   "execution_count": 174,
   "metadata": {},
   "outputs": [
    {
     "data": {
      "text/plain": [
       "<AxesSubplot:>"
      ]
     },
     "execution_count": 174,
     "metadata": {},
     "output_type": "execute_result"
    },
    {
     "data": {
      "image/png": "[encoded data removed]",
      "text/plain": [
       "<Figure size 1080x504 with 2 Axes>"
      ]
     },
     "metadata": {
      "needs_background": "light"
     },
     "output_type": "display_data"
    }
   ],
   "source": [
    "# Plot correlation w/ seaborn\n",
    "plt.figure(figsize = (15,7))\n",
    "sns.heatmap(correlation, vmin=-1, vmax=1, annot=True)"
   ]
  },
  {
   "cell_type": "code",
   "execution_count": 162,
   "metadata": {},
   "outputs": [],
   "source": [
    "# Calculate rolling stats: asses the risk over time\n",
    "all_roll_std = all_date_index.rolling(window=30).std()"
   ]
  },
  {
   "cell_type": "code",
   "execution_count": 196,
   "metadata": {},
   "outputs": [
    {
     "data": {
      "text/plain": [
       "<AxesSubplot:title={'center':'Crypto 30 Day Rolling Standard Deviation'}, xlabel='Date'>"
      ]
     },
     "execution_count": 196,
     "metadata": {},
     "output_type": "execute_result"
    },
    {
     "data": {
      "image/png": "[encoded data removed]",
      "text/plain": [
       "<Figure size 1440x720 with 1 Axes>"
      ]
     },
     "metadata": {
      "needs_background": "light"
     },
     "output_type": "display_data"
    }
   ],
   "source": [
    "# Plot the rolling standard deviation\n",
    "all_roll_std.plot(figsize=(20, 10), title=\"Crypto 30 Day Rolling Standard Deviation\", fontsize=12)"
   ]
  },
  {
   "cell_type": "code",
   "execution_count": null,
   "metadata": {},
   "outputs": [],
   "source": []
  }
 ],
 "metadata": {
  "kernelspec": {
   "display_name": "Python 3",
   "language": "python",
   "name": "python3"
  },
  "language_info": {
   "codemirror_mode": {
    "name": "ipython",
    "version": 3
   },
   "file_extension": ".py",
   "mimetype": "text/x-python",
   "name": "python",
   "nbconvert_exporter": "python",
   "pygments_lexer": "ipython3",
   "version": "3.8.5"
  }
 },
 "nbformat": 4,
 "nbformat_minor": 4
}
