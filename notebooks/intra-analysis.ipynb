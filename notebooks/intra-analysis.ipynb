{
 "cells": [
  {
   "cell_type": "code",
   "execution_count": 176,
   "metadata": {},
   "outputs": [],
   "source": [
    "import pandas as pd\n",
    "import numpy as np\n",
    "from pathlib import Path\n",
    "import hvplot.pandas\n",
    "import matplotlib.pyplot as plt\n",
    "import seaborn as sns\n",
    "\n",
    "%matplotlib inline "
   ]
  },
  {
   "cell_type": "code",
   "execution_count": 4,
   "metadata": {},
   "outputs": [
    {
     "name": "stdout",
     "output_type": "stream",
     "text": [
      "Current working directory:/Users/aalfiler/Sites/project1_working folder\n"
     ]
    }
   ],
   "source": [
    "print(f\"Current working directory:{Path.cwd()}\")"
   ]
  },
  {
   "cell_type": "code",
   "execution_count": 5,
   "metadata": {},
   "outputs": [],
   "source": [
    "crypto_path = Path(\"/Users/aalfiler/Sites/project1_working folder/CoinMarketCap_allcrypto_18JAN2020.xlsx\")"
   ]
  },
  {
   "cell_type": "code",
   "execution_count": 6,
   "metadata": {},
   "outputs": [],
   "source": [
    "crypto_df = pd.read_excel(crypto_path, parse_dates=True, index_col='Date', infer_datetime_format=True)"
   ]
  },
  {
   "cell_type": "code",
   "execution_count": 7,
   "metadata": {},
   "outputs": [
    {
     "data": {
      "text/html": [
       "<div>\n",
       "<style scoped>\n",
       "    .dataframe tbody tr th:only-of-type {\n",
       "        vertical-align: middle;\n",
       "    }\n",
       "\n",
       "    .dataframe tbody tr th {\n",
       "        vertical-align: top;\n",
       "    }\n",
       "\n",
       "    .dataframe thead th {\n",
       "        text-align: right;\n",
       "    }\n",
       "</style>\n",
       "<table border=\"1\" class=\"dataframe\">\n",
       "  <thead>\n",
       "    <tr style=\"text-align: right;\">\n",
       "      <th></th>\n",
       "      <th>Open</th>\n",
       "      <th>High</th>\n",
       "      <th>Low</th>\n",
       "      <th>Close</th>\n",
       "      <th>Volume</th>\n",
       "      <th>Market Cap</th>\n",
       "      <th>Crypto</th>\n",
       "    </tr>\n",
       "    <tr>\n",
       "      <th>Date</th>\n",
       "      <th></th>\n",
       "      <th></th>\n",
       "      <th></th>\n",
       "      <th></th>\n",
       "      <th></th>\n",
       "      <th></th>\n",
       "      <th></th>\n",
       "    </tr>\n",
       "  </thead>\n",
       "  <tbody>\n",
       "    <tr>\n",
       "      <th>2021-01-01</th>\n",
       "      <td>29376.46</td>\n",
       "      <td>33155.12</td>\n",
       "      <td>29091.18</td>\n",
       "      <td>32127.27</td>\n",
       "      <td>67865420765</td>\n",
       "      <td>597205944669</td>\n",
       "      <td>BTC</td>\n",
       "    </tr>\n",
       "    <tr>\n",
       "      <th>2020-12-31</th>\n",
       "      <td>28994.01</td>\n",
       "      <td>29600.63</td>\n",
       "      <td>28803.59</td>\n",
       "      <td>29374.15</td>\n",
       "      <td>40730301359</td>\n",
       "      <td>546001594838</td>\n",
       "      <td>BTC</td>\n",
       "    </tr>\n",
       "    <tr>\n",
       "      <th>2020-12-30</th>\n",
       "      <td>28841.57</td>\n",
       "      <td>29244.88</td>\n",
       "      <td>28201.99</td>\n",
       "      <td>29001.72</td>\n",
       "      <td>46754964848</td>\n",
       "      <td>539051138108</td>\n",
       "      <td>BTC</td>\n",
       "    </tr>\n",
       "    <tr>\n",
       "      <th>2020-12-29</th>\n",
       "      <td>27360.09</td>\n",
       "      <td>28937.74</td>\n",
       "      <td>27360.09</td>\n",
       "      <td>28840.95</td>\n",
       "      <td>51287442704</td>\n",
       "      <td>536033807161</td>\n",
       "      <td>BTC</td>\n",
       "    </tr>\n",
       "    <tr>\n",
       "      <th>2020-12-28</th>\n",
       "      <td>27081.81</td>\n",
       "      <td>27370.72</td>\n",
       "      <td>25987.30</td>\n",
       "      <td>27362.44</td>\n",
       "      <td>45265946774</td>\n",
       "      <td>508523687097</td>\n",
       "      <td>BTC</td>\n",
       "    </tr>\n",
       "  </tbody>\n",
       "</table>\n",
       "</div>"
      ],
      "text/plain": [
       "                Open      High       Low     Close       Volume    Market Cap  \\\n",
       "Date                                                                            \n",
       "2021-01-01  29376.46  33155.12  29091.18  32127.27  67865420765  597205944669   \n",
       "2020-12-31  28994.01  29600.63  28803.59  29374.15  40730301359  546001594838   \n",
       "2020-12-30  28841.57  29244.88  28201.99  29001.72  46754964848  539051138108   \n",
       "2020-12-29  27360.09  28937.74  27360.09  28840.95  51287442704  536033807161   \n",
       "2020-12-28  27081.81  27370.72  25987.30  27362.44  45265946774  508523687097   \n",
       "\n",
       "           Crypto  \n",
       "Date               \n",
       "2021-01-01    BTC  \n",
       "2020-12-31    BTC  \n",
       "2020-12-30    BTC  \n",
       "2020-12-29    BTC  \n",
       "2020-12-28    BTC  "
      ]
     },
     "execution_count": 7,
     "metadata": {},
     "output_type": "execute_result"
    }
   ],
   "source": [
    "crypto_df.head()"
   ]
  },
  {
   "cell_type": "code",
   "execution_count": 10,
   "metadata": {},
   "outputs": [
    {
     "data": {
      "text/plain": [
       "Open          float64\n",
       "High          float64\n",
       "Low           float64\n",
       "Close         float64\n",
       "Volume          int64\n",
       "Market Cap      int64\n",
       "Crypto         object\n",
       "dtype: object"
      ]
     },
     "execution_count": 10,
     "metadata": {},
     "output_type": "execute_result"
    }
   ],
   "source": [
    "crypto_df.dtypes"
   ]
  },
  {
   "cell_type": "code",
   "execution_count": 11,
   "metadata": {},
   "outputs": [
    {
     "data": {
      "text/plain": [
       "Open          0\n",
       "High          0\n",
       "Low           0\n",
       "Close         0\n",
       "Volume        0\n",
       "Market Cap    0\n",
       "Crypto        0\n",
       "dtype: int64"
      ]
     },
     "execution_count": 11,
     "metadata": {},
     "output_type": "execute_result"
    }
   ],
   "source": [
    "crypto_df.isnull().sum()"
   ]
  },
  {
   "cell_type": "code",
   "execution_count": 12,
   "metadata": {},
   "outputs": [],
   "source": [
    "close_df=crypto_df.drop(columns=['Open','High', 'Low', 'Volume', 'Market Cap'])"
   ]
  },
  {
   "cell_type": "code",
   "execution_count": 13,
   "metadata": {},
   "outputs": [
    {
     "data": {
      "text/html": [
       "<div>\n",
       "<style scoped>\n",
       "    .dataframe tbody tr th:only-of-type {\n",
       "        vertical-align: middle;\n",
       "    }\n",
       "\n",
       "    .dataframe tbody tr th {\n",
       "        vertical-align: top;\n",
       "    }\n",
       "\n",
       "    .dataframe thead th {\n",
       "        text-align: right;\n",
       "    }\n",
       "</style>\n",
       "<table border=\"1\" class=\"dataframe\">\n",
       "  <thead>\n",
       "    <tr style=\"text-align: right;\">\n",
       "      <th></th>\n",
       "      <th>Close</th>\n",
       "      <th>Crypto</th>\n",
       "    </tr>\n",
       "    <tr>\n",
       "      <th>Date</th>\n",
       "      <th></th>\n",
       "      <th></th>\n",
       "    </tr>\n",
       "  </thead>\n",
       "  <tbody>\n",
       "    <tr>\n",
       "      <th>2021-01-01</th>\n",
       "      <td>32127.27</td>\n",
       "      <td>BTC</td>\n",
       "    </tr>\n",
       "    <tr>\n",
       "      <th>2020-12-31</th>\n",
       "      <td>29374.15</td>\n",
       "      <td>BTC</td>\n",
       "    </tr>\n",
       "    <tr>\n",
       "      <th>2020-12-30</th>\n",
       "      <td>29001.72</td>\n",
       "      <td>BTC</td>\n",
       "    </tr>\n",
       "    <tr>\n",
       "      <th>2020-12-29</th>\n",
       "      <td>28840.95</td>\n",
       "      <td>BTC</td>\n",
       "    </tr>\n",
       "    <tr>\n",
       "      <th>2020-12-28</th>\n",
       "      <td>27362.44</td>\n",
       "      <td>BTC</td>\n",
       "    </tr>\n",
       "  </tbody>\n",
       "</table>\n",
       "</div>"
      ],
      "text/plain": [
       "               Close Crypto\n",
       "Date                       \n",
       "2021-01-01  32127.27    BTC\n",
       "2020-12-31  29374.15    BTC\n",
       "2020-12-30  29001.72    BTC\n",
       "2020-12-29  28840.95    BTC\n",
       "2020-12-28  27362.44    BTC"
      ]
     },
     "execution_count": 13,
     "metadata": {},
     "output_type": "execute_result"
    }
   ],
   "source": [
    "close_df.head()"
   ]
  },
  {
   "cell_type": "code",
   "execution_count": 87,
   "metadata": {},
   "outputs": [],
   "source": [
    "count_per_crypto = close_df.groupby('Crypto')['Close'].count()"
   ]
  },
  {
   "cell_type": "code",
   "execution_count": 88,
   "metadata": {},
   "outputs": [
    {
     "data": {
      "text/plain": [
       "Crypto\n",
       "BCH     1259\n",
       "BSV      785\n",
       "BTC     2806\n",
       "CCXX     257\n",
       "DASH    2514\n",
       "ETH     1975\n",
       "KSM      387\n",
       "LTC     2806\n",
       "XMR     2417\n",
       "ZEC     1526\n",
       "Name: Close, dtype: int64"
      ]
     },
     "execution_count": 88,
     "metadata": {},
     "output_type": "execute_result"
    }
   ],
   "source": [
    "count_per_crypto"
   ]
  },
  {
   "cell_type": "code",
   "execution_count": 90,
   "metadata": {},
   "outputs": [
    {
     "data": {
      "text/plain": [
       "Crypto\n",
       "BCH     AxesSubplot(0.125,0.125;0.775x0.755)\n",
       "BSV     AxesSubplot(0.125,0.125;0.775x0.755)\n",
       "BTC     AxesSubplot(0.125,0.125;0.775x0.755)\n",
       "CCXX    AxesSubplot(0.125,0.125;0.775x0.755)\n",
       "DASH    AxesSubplot(0.125,0.125;0.775x0.755)\n",
       "ETH     AxesSubplot(0.125,0.125;0.775x0.755)\n",
       "KSM     AxesSubplot(0.125,0.125;0.775x0.755)\n",
       "LTC     AxesSubplot(0.125,0.125;0.775x0.755)\n",
       "XMR     AxesSubplot(0.125,0.125;0.775x0.755)\n",
       "ZEC     AxesSubplot(0.125,0.125;0.775x0.755)\n",
       "Name: Close, dtype: object"
      ]
     },
     "execution_count": 90,
     "metadata": {},
     "output_type": "execute_result"
    },
    {
     "data": {
      "image/png": "[encoded data removed]",
      "text/plain": [
       "<Figure size 1440x720 with 1 Axes>"
      ]
     },
     "metadata": {
      "needs_background": "light"
     },
     "output_type": "display_data"
    }
   ],
   "source": [
    "grouped_cryptos = close_df.groupby('Crypto')['Close'].plot(legend=True, figsize=(20, 10), title=\"Cryptos\")\n",
    "grouped_cryptos"
   ]
  },
  {
   "cell_type": "markdown",
   "metadata": {},
   "source": [
    "# Comparing Cryptos within Asset Class "
   ]
  },
  {
   "cell_type": "code",
   "execution_count": 153,
   "metadata": {},
   "outputs": [],
   "source": [
    "all_crypto = pd.ExcelFile('/Users/aalfiler/Sites/project1_working folder/CoinMarketCap_18JAN2020-close.xlsx')\n",
    "all_close = pd.read_excel(all_crypto, 'All')"
   ]
  },
  {
   "cell_type": "code",
   "execution_count": 152,
   "metadata": {},
   "outputs": [
    {
     "data": {
      "text/html": [
       "<div>\n",
       "<style scoped>\n",
       "    .dataframe tbody tr th:only-of-type {\n",
       "        vertical-align: middle;\n",
       "    }\n",
       "\n",
       "    .dataframe tbody tr th {\n",
       "        vertical-align: top;\n",
       "    }\n",
       "\n",
       "    .dataframe thead th {\n",
       "        text-align: right;\n",
       "    }\n",
       "</style>\n",
       "<table border=\"1\" class=\"dataframe\">\n",
       "  <thead>\n",
       "    <tr style=\"text-align: right;\">\n",
       "      <th></th>\n",
       "      <th>Date</th>\n",
       "      <th>Bitcoin-BTC</th>\n",
       "      <th>Ethereum-ETH</th>\n",
       "      <th>Bitcoin-BSV</th>\n",
       "      <th>Litecoin-LTC</th>\n",
       "      <th>Monero-XMR</th>\n",
       "      <th>Dash-DASH</th>\n",
       "      <th>Kusama-KSM</th>\n",
       "      <th>Zcash-ZEC</th>\n",
       "      <th>Bitcoin Cash-BCH</th>\n",
       "      <th>Counos-CCXX</th>\n",
       "    </tr>\n",
       "  </thead>\n",
       "  <tbody>\n",
       "    <tr>\n",
       "      <th>0</th>\n",
       "      <td>2021-01-01</td>\n",
       "      <td>32127.27</td>\n",
       "      <td>774.53</td>\n",
       "      <td>163.09</td>\n",
       "      <td>136.94</td>\n",
       "      <td>143.12</td>\n",
       "      <td>86.97</td>\n",
       "      <td>69.50</td>\n",
       "      <td>56.79</td>\n",
       "      <td>341.99</td>\n",
       "      <td>88.27</td>\n",
       "    </tr>\n",
       "    <tr>\n",
       "      <th>1</th>\n",
       "      <td>2020-12-31</td>\n",
       "      <td>29374.15</td>\n",
       "      <td>730.37</td>\n",
       "      <td>163.12</td>\n",
       "      <td>126.23</td>\n",
       "      <td>136.05</td>\n",
       "      <td>88.24</td>\n",
       "      <td>71.96</td>\n",
       "      <td>63.99</td>\n",
       "      <td>343.05</td>\n",
       "      <td>89.10</td>\n",
       "    </tr>\n",
       "    <tr>\n",
       "      <th>2</th>\n",
       "      <td>2020-12-30</td>\n",
       "      <td>29001.72</td>\n",
       "      <td>737.80</td>\n",
       "      <td>163.63</td>\n",
       "      <td>124.69</td>\n",
       "      <td>156.57</td>\n",
       "      <td>99.61</td>\n",
       "      <td>62.04</td>\n",
       "      <td>64.20</td>\n",
       "      <td>358.81</td>\n",
       "      <td>87.88</td>\n",
       "    </tr>\n",
       "    <tr>\n",
       "      <th>3</th>\n",
       "      <td>2020-12-29</td>\n",
       "      <td>28840.95</td>\n",
       "      <td>751.62</td>\n",
       "      <td>166.90</td>\n",
       "      <td>129.47</td>\n",
       "      <td>159.37</td>\n",
       "      <td>101.68</td>\n",
       "      <td>61.26</td>\n",
       "      <td>66.54</td>\n",
       "      <td>353.09</td>\n",
       "      <td>87.67</td>\n",
       "    </tr>\n",
       "    <tr>\n",
       "      <th>4</th>\n",
       "      <td>2020-12-28</td>\n",
       "      <td>27362.44</td>\n",
       "      <td>731.52</td>\n",
       "      <td>164.40</td>\n",
       "      <td>129.04</td>\n",
       "      <td>161.39</td>\n",
       "      <td>104.04</td>\n",
       "      <td>58.24</td>\n",
       "      <td>69.02</td>\n",
       "      <td>362.09</td>\n",
       "      <td>87.39</td>\n",
       "    </tr>\n",
       "  </tbody>\n",
       "</table>\n",
       "</div>"
      ],
      "text/plain": [
       "        Date  Bitcoin-BTC  Ethereum-ETH  Bitcoin-BSV  Litecoin-LTC  \\\n",
       "0 2021-01-01     32127.27        774.53       163.09        136.94   \n",
       "1 2020-12-31     29374.15        730.37       163.12        126.23   \n",
       "2 2020-12-30     29001.72        737.80       163.63        124.69   \n",
       "3 2020-12-29     28840.95        751.62       166.90        129.47   \n",
       "4 2020-12-28     27362.44        731.52       164.40        129.04   \n",
       "\n",
       "   Monero-XMR  Dash-DASH  Kusama-KSM  Zcash-ZEC  Bitcoin Cash-BCH  Counos-CCXX  \n",
       "0      143.12      86.97       69.50      56.79            341.99        88.27  \n",
       "1      136.05      88.24       71.96      63.99            343.05        89.10  \n",
       "2      156.57      99.61       62.04      64.20            358.81        87.88  \n",
       "3      159.37     101.68       61.26      66.54            353.09        87.67  \n",
       "4      161.39     104.04       58.24      69.02            362.09        87.39  "
      ]
     },
     "execution_count": 152,
     "metadata": {},
     "output_type": "execute_result"
    }
   ],
   "source": [
    "all_close.head()"
   ]
  },
  {
   "cell_type": "code",
   "execution_count": 154,
   "metadata": {},
   "outputs": [
    {
     "data": {
      "text/plain": [
       "Date                datetime64[ns]\n",
       "Bitcoin-BTC                float64\n",
       "Ethereum-ETH               float64\n",
       "Bitcoin-BSV                float64\n",
       "Litecoin-LTC               float64\n",
       "Monero-XMR                 float64\n",
       "Dash-DASH                  float64\n",
       "Kusama-KSM                 float64\n",
       "Zcash-ZEC                  float64\n",
       "Bitcoin Cash-BCH           float64\n",
       "Counos-CCXX                float64\n",
       "dtype: object"
      ]
     },
     "execution_count": 154,
     "metadata": {},
     "output_type": "execute_result"
    }
   ],
   "source": [
    "all_close.dtypes"
   ]
  },
  {
   "cell_type": "code",
   "execution_count": 155,
   "metadata": {},
   "outputs": [
    {
     "data": {
      "text/plain": [
       "Date                   0\n",
       "Bitcoin-BTC            0\n",
       "Ethereum-ETH         831\n",
       "Bitcoin-BSV         2021\n",
       "Litecoin-LTC           0\n",
       "Monero-XMR           389\n",
       "Dash-DASH            292\n",
       "Kusama-KSM          2420\n",
       "Zcash-ZEC           1281\n",
       "Bitcoin Cash-BCH    1548\n",
       "Counos-CCXX         2550\n",
       "dtype: int64"
      ]
     },
     "execution_count": 155,
     "metadata": {},
     "output_type": "execute_result"
    }
   ],
   "source": [
    "all_close.isnull().sum()"
   ]
  },
  {
   "cell_type": "code",
   "execution_count": 156,
   "metadata": {},
   "outputs": [],
   "source": [
    "all_close = all_close.dropna().copy()"
   ]
  },
  {
   "cell_type": "code",
   "execution_count": 157,
   "metadata": {},
   "outputs": [
    {
     "data": {
      "text/plain": [
       "Date                0\n",
       "Bitcoin-BTC         0\n",
       "Ethereum-ETH        0\n",
       "Bitcoin-BSV         0\n",
       "Litecoin-LTC        0\n",
       "Monero-XMR          0\n",
       "Dash-DASH           0\n",
       "Kusama-KSM          0\n",
       "Zcash-ZEC           0\n",
       "Bitcoin Cash-BCH    0\n",
       "Counos-CCXX         0\n",
       "dtype: int64"
      ]
     },
     "execution_count": 157,
     "metadata": {},
     "output_type": "execute_result"
    }
   ],
   "source": [
    "all_close.isnull().sum()"
   ]
  },
  {
   "cell_type": "code",
   "execution_count": 158,
   "metadata": {},
   "outputs": [
    {
     "data": {
      "text/html": [
       "<div>\n",
       "<style scoped>\n",
       "    .dataframe tbody tr th:only-of-type {\n",
       "        vertical-align: middle;\n",
       "    }\n",
       "\n",
       "    .dataframe tbody tr th {\n",
       "        vertical-align: top;\n",
       "    }\n",
       "\n",
       "    .dataframe thead th {\n",
       "        text-align: right;\n",
       "    }\n",
       "</style>\n",
       "<table border=\"1\" class=\"dataframe\">\n",
       "  <thead>\n",
       "    <tr style=\"text-align: right;\">\n",
       "      <th></th>\n",
       "      <th>Bitcoin-BTC</th>\n",
       "      <th>Ethereum-ETH</th>\n",
       "      <th>Bitcoin-BSV</th>\n",
       "      <th>Litecoin-LTC</th>\n",
       "      <th>Monero-XMR</th>\n",
       "      <th>Dash-DASH</th>\n",
       "      <th>Kusama-KSM</th>\n",
       "      <th>Zcash-ZEC</th>\n",
       "      <th>Bitcoin Cash-BCH</th>\n",
       "      <th>Counos-CCXX</th>\n",
       "    </tr>\n",
       "    <tr>\n",
       "      <th>Date</th>\n",
       "      <th></th>\n",
       "      <th></th>\n",
       "      <th></th>\n",
       "      <th></th>\n",
       "      <th></th>\n",
       "      <th></th>\n",
       "      <th></th>\n",
       "      <th></th>\n",
       "      <th></th>\n",
       "      <th></th>\n",
       "    </tr>\n",
       "  </thead>\n",
       "  <tbody>\n",
       "    <tr>\n",
       "      <th>2021-01-01</th>\n",
       "      <td>32127.27</td>\n",
       "      <td>774.53</td>\n",
       "      <td>163.09</td>\n",
       "      <td>136.94</td>\n",
       "      <td>143.12</td>\n",
       "      <td>86.97</td>\n",
       "      <td>69.50</td>\n",
       "      <td>56.79</td>\n",
       "      <td>341.99</td>\n",
       "      <td>88.27</td>\n",
       "    </tr>\n",
       "    <tr>\n",
       "      <th>2020-12-31</th>\n",
       "      <td>29374.15</td>\n",
       "      <td>730.37</td>\n",
       "      <td>163.12</td>\n",
       "      <td>126.23</td>\n",
       "      <td>136.05</td>\n",
       "      <td>88.24</td>\n",
       "      <td>71.96</td>\n",
       "      <td>63.99</td>\n",
       "      <td>343.05</td>\n",
       "      <td>89.10</td>\n",
       "    </tr>\n",
       "    <tr>\n",
       "      <th>2020-12-30</th>\n",
       "      <td>29001.72</td>\n",
       "      <td>737.80</td>\n",
       "      <td>163.63</td>\n",
       "      <td>124.69</td>\n",
       "      <td>156.57</td>\n",
       "      <td>99.61</td>\n",
       "      <td>62.04</td>\n",
       "      <td>64.20</td>\n",
       "      <td>358.81</td>\n",
       "      <td>87.88</td>\n",
       "    </tr>\n",
       "    <tr>\n",
       "      <th>2020-12-29</th>\n",
       "      <td>28840.95</td>\n",
       "      <td>751.62</td>\n",
       "      <td>166.90</td>\n",
       "      <td>129.47</td>\n",
       "      <td>159.37</td>\n",
       "      <td>101.68</td>\n",
       "      <td>61.26</td>\n",
       "      <td>66.54</td>\n",
       "      <td>353.09</td>\n",
       "      <td>87.67</td>\n",
       "    </tr>\n",
       "    <tr>\n",
       "      <th>2020-12-28</th>\n",
       "      <td>27362.44</td>\n",
       "      <td>731.52</td>\n",
       "      <td>164.40</td>\n",
       "      <td>129.04</td>\n",
       "      <td>161.39</td>\n",
       "      <td>104.04</td>\n",
       "      <td>58.24</td>\n",
       "      <td>69.02</td>\n",
       "      <td>362.09</td>\n",
       "      <td>87.39</td>\n",
       "    </tr>\n",
       "  </tbody>\n",
       "</table>\n",
       "</div>"
      ],
      "text/plain": [
       "            Bitcoin-BTC  Ethereum-ETH  Bitcoin-BSV  Litecoin-LTC  Monero-XMR  \\\n",
       "Date                                                                           \n",
       "2021-01-01     32127.27        774.53       163.09        136.94      143.12   \n",
       "2020-12-31     29374.15        730.37       163.12        126.23      136.05   \n",
       "2020-12-30     29001.72        737.80       163.63        124.69      156.57   \n",
       "2020-12-29     28840.95        751.62       166.90        129.47      159.37   \n",
       "2020-12-28     27362.44        731.52       164.40        129.04      161.39   \n",
       "\n",
       "            Dash-DASH  Kusama-KSM  Zcash-ZEC  Bitcoin Cash-BCH  Counos-CCXX  \n",
       "Date                                                                         \n",
       "2021-01-01      86.97       69.50      56.79            341.99        88.27  \n",
       "2020-12-31      88.24       71.96      63.99            343.05        89.10  \n",
       "2020-12-30      99.61       62.04      64.20            358.81        87.88  \n",
       "2020-12-29     101.68       61.26      66.54            353.09        87.67  \n",
       "2020-12-28     104.04       58.24      69.02            362.09        87.39  "
      ]
     },
     "execution_count": 158,
     "metadata": {},
     "output_type": "execute_result"
    }
   ],
   "source": [
    "all_date_index = all_close.set_index(\"Date\").head()\n",
    "all_date_index"
   ]
  },
  {
   "cell_type": "code",
   "execution_count": 188,
   "metadata": {},
   "outputs": [
    {
     "data": {},
     "metadata": {},
     "output_type": "display_data"
    },
    {
     "data": {
      "application/vnd.holoviews_exec.v0+json": "",
      "text/html": [
       "<div id='16514'>\n",
       "\n",
       "\n",
       "\n",
       "\n",
       "\n",
       "  <div class=\"bk-root\" id=\"b8deee0a-de9e-4a6a-9d3e-01e905161846\" data-root-id=\"16514\"></div>\n",
       "</div>\n",
       "<script type=\"application/javascript\">(function(root) {\n",
       "  function embed_document(root) {\n",
       "    var docs_json = {\"9ed1d50b-8a98-445a-915c-e80d93fc6733\":{\"roots\":{\"references\":[{\"attributes\":{\"line_alpha\":0.2,\"line_color\":\"#bcbc21\",\"line_width\":2,\"x\":{\"field\":\"Date\"},\"y\":{\"field\":\"value\"}},\"id\":\"16856\",\"type\":\"Line\"},{\"attributes\":{},\"id\":\"16676\",\"type\":\"UnionRenderers\"},{\"attributes\":{},\"id\":\"16692\",\"type\":\"Selection\"},{\"attributes\":{\"line_alpha\":0.1,\"line_color\":\"#7e7e7e\",\"line_width\":2,\"x\":{\"field\":\"Date\"},\"y\":{\"field\":\"value\"}},\"id\":\"16812\",\"type\":\"Line\"},{\"attributes\":{\"months\":[0,4,8]},\"id\":\"16586\",\"type\":\"MonthsTicker\"},{\"attributes\":{\"months\":[0,6]},\"id\":\"16587\",\"type\":\"MonthsTicker\"},{\"attributes\":{\"data_source\":{\"id\":\"16728\"},\"glyph\":{\"id\":\"16731\"},\"hover_glyph\":null,\"muted_glyph\":{\"id\":\"16733\"},\"nonselection_glyph\":{\"id\":\"16732\"},\"selection_glyph\":null,\"view\":{\"id\":\"16735\"}},\"id\":\"16734\",\"type\":\"GlyphRenderer\"},{\"attributes\":{\"data_source\":{\"id\":\"16808\"},\"glyph\":{\"id\":\"16811\"},\"hover_glyph\":null,\"muted_glyph\":{\"id\":\"16813\"},\"nonselection_glyph\":{\"id\":\"16812\"},\"selection_glyph\":null,\"view\":{\"id\":\"16815\"}},\"id\":\"16814\",\"type\":\"GlyphRenderer\"},{\"attributes\":{},\"id\":\"16768\",\"type\":\"Selection\"},{\"attributes\":{},\"id\":\"16588\",\"type\":\"YearsTicker\"},{\"attributes\":{\"source\":{\"id\":\"16851\"}},\"id\":\"16858\",\"type\":\"CDSView\"},{\"attributes\":{\"data_source\":{\"id\":\"16623\"},\"glyph\":{\"id\":\"16626\"},\"hover_glyph\":null,\"muted_glyph\":{\"id\":\"16628\"},\"nonselection_glyph\":{\"id\":\"16627\"},\"selection_glyph\":null,\"view\":{\"id\":\"16630\"}},\"id\":\"16629\",\"type\":\"GlyphRenderer\"},{\"attributes\":{\"source\":{\"id\":\"16808\"}},\"id\":\"16815\",\"type\":\"CDSView\"},{\"attributes\":{\"label\":{\"value\":\"Bitcoin-BSV\"},\"renderers\":[{\"id\":\"16629\"}]},\"id\":\"16655\",\"type\":\"LegendItem\"},{\"attributes\":{\"data\":{\"Date\":{\"__ndarray__\":\"AAAAUGpqd0IAAMC1vGp3QgAAgBsPa3dCAABAgWFrd0IAAADns2t3Qg==\",\"dtype\":\"float64\",\"order\":\"little\",\"shape\":[5]},\"Variable\":[\"Bitcoin Cash-BCH\",\"Bitcoin Cash-BCH\",\"Bitcoin Cash-BCH\",\"Bitcoin Cash-BCH\",\"Bitcoin Cash-BCH\"],\"value\":{\"__ndarray__\":\"PQrXo3ChdkA9CtejcBF2QClcj8L1bHZAzczMzMxwdUCkcD0K1191QA==\",\"dtype\":\"float64\",\"order\":\"little\",\"shape\":[5]}},\"selected\":{\"id\":\"16852\"},\"selection_policy\":{\"id\":\"16881\"}},\"id\":\"16851\",\"type\":\"ColumnDataSource\"},{\"attributes\":{\"line_color\":\"#2ba02b\",\"line_width\":2,\"x\":{\"field\":\"Date\"},\"y\":{\"field\":\"value\"}},\"id\":\"16626\",\"type\":\"Line\"},{\"attributes\":{\"source\":{\"id\":\"16767\"}},\"id\":\"16774\",\"type\":\"CDSView\"},{\"attributes\":{},\"id\":\"16641\",\"type\":\"UnionRenderers\"},{\"attributes\":{\"line_alpha\":0.2,\"line_color\":\"#8c564b\",\"line_width\":2,\"x\":{\"field\":\"Date\"},\"y\":{\"field\":\"value\"}},\"id\":\"16733\",\"type\":\"Line\"},{\"attributes\":{},\"id\":\"16793\",\"type\":\"UnionRenderers\"},{\"attributes\":{\"line_alpha\":0.1,\"line_color\":\"#2ba02b\",\"line_width\":2,\"x\":{\"field\":\"Date\"},\"y\":{\"field\":\"value\"}},\"id\":\"16627\",\"type\":\"Line\"},{\"attributes\":{\"label\":{\"value\":\"Zcash-ZEC\"},\"renderers\":[{\"id\":\"16814\"}]},\"id\":\"16850\",\"type\":\"LegendItem\"},{\"attributes\":{},\"id\":\"16836\",\"type\":\"UnionRenderers\"},{\"attributes\":{\"source\":{\"id\":\"16623\"}},\"id\":\"16630\",\"type\":\"CDSView\"},{\"attributes\":{\"line_alpha\":0.1,\"line_color\":\"#9367bc\",\"line_width\":2,\"x\":{\"field\":\"Date\"},\"y\":{\"field\":\"value\"}},\"id\":\"16695\",\"type\":\"Line\"},{\"attributes\":{},\"id\":\"16624\",\"type\":\"Selection\"},{\"attributes\":{},\"id\":\"16852\",\"type\":\"Selection\"},{\"attributes\":{\"data_source\":{\"id\":\"16767\"},\"glyph\":{\"id\":\"16770\"},\"hover_glyph\":null,\"muted_glyph\":{\"id\":\"16772\"},\"nonselection_glyph\":{\"id\":\"16771\"},\"selection_glyph\":null,\"view\":{\"id\":\"16774\"}},\"id\":\"16773\",\"type\":\"GlyphRenderer\"},{\"attributes\":{\"line_alpha\":0.2,\"line_color\":\"#9367bc\",\"line_width\":2,\"x\":{\"field\":\"Date\"},\"y\":{\"field\":\"value\"}},\"id\":\"16696\",\"type\":\"Line\"},{\"attributes\":{\"line_alpha\":0.2,\"line_color\":\"#1f77b3\",\"line_width\":2,\"x\":{\"field\":\"Date\"},\"y\":{\"field\":\"value\"}},\"id\":\"16567\",\"type\":\"Line\"},{\"attributes\":{\"line_alpha\":0.2,\"line_color\":\"#2ba02b\",\"line_width\":2,\"x\":{\"field\":\"Date\"},\"y\":{\"field\":\"value\"}},\"id\":\"16628\",\"type\":\"Line\"},{\"attributes\":{\"data_source\":{\"id\":\"16691\"},\"glyph\":{\"id\":\"16694\"},\"hover_glyph\":null,\"muted_glyph\":{\"id\":\"16696\"},\"nonselection_glyph\":{\"id\":\"16695\"},\"selection_glyph\":null,\"view\":{\"id\":\"16698\"}},\"id\":\"16697\",\"type\":\"GlyphRenderer\"},{\"attributes\":{\"line_color\":\"#9367bc\",\"line_width\":2,\"x\":{\"field\":\"Date\"},\"y\":{\"field\":\"value\"}},\"id\":\"16694\",\"type\":\"Line\"},{\"attributes\":{\"line_alpha\":0.2,\"line_color\":\"#7e7e7e\",\"line_width\":2,\"x\":{\"field\":\"Date\"},\"y\":{\"field\":\"value\"}},\"id\":\"16813\",\"type\":\"Line\"},{\"attributes\":{\"source\":{\"id\":\"16691\"}},\"id\":\"16698\",\"type\":\"CDSView\"},{\"attributes\":{\"label\":{\"value\":\"Bitcoin Cash-BCH\"},\"renderers\":[{\"id\":\"16857\"}]},\"id\":\"16895\",\"type\":\"LegendItem\"},{\"attributes\":{},\"id\":\"16713\",\"type\":\"UnionRenderers\"},{\"attributes\":{\"line_color\":\"#ff7e0e\",\"line_width\":2,\"x\":{\"field\":\"Date\"},\"y\":{\"field\":\"value\"}},\"id\":\"16595\",\"type\":\"Line\"},{\"attributes\":{\"line_color\":\"#7e7e7e\",\"line_width\":2,\"x\":{\"field\":\"Date\"},\"y\":{\"field\":\"value\"}},\"id\":\"16811\",\"type\":\"Line\"},{\"attributes\":{},\"id\":\"16542\",\"type\":\"BasicTicker\"},{\"attributes\":{\"below\":[{\"id\":\"16537\"}],\"center\":[{\"id\":\"16540\"},{\"id\":\"16544\"}],\"left\":[{\"id\":\"16541\"}],\"margin\":[5,5,5,5],\"min_border_bottom\":10,\"min_border_left\":10,\"min_border_right\":10,\"min_border_top\":10,\"plot_height\":500,\"plot_width\":1000,\"renderers\":[{\"id\":\"16568\"},{\"id\":\"16598\"},{\"id\":\"16629\"},{\"id\":\"16662\"},{\"id\":\"16697\"},{\"id\":\"16734\"},{\"id\":\"16773\"},{\"id\":\"16814\"},{\"id\":\"16857\"},{\"id\":\"16902\"}],\"right\":[{\"id\":\"16590\"}],\"sizing_mode\":\"fixed\",\"title\":{\"id\":\"16529\"},\"toolbar\":{\"id\":\"16551\"},\"x_range\":{\"id\":\"16516\"},\"x_scale\":{\"id\":\"16533\"},\"y_range\":{\"id\":\"16517\"},\"y_scale\":{\"id\":\"16535\"}},\"id\":\"16528\",\"subtype\":\"Figure\",\"type\":\"Plot\"},{\"attributes\":{},\"id\":\"16809\",\"type\":\"Selection\"},{\"attributes\":{},\"id\":\"16881\",\"type\":\"UnionRenderers\"},{\"attributes\":{\"data\":{\"Date\":{\"__ndarray__\":\"AAAAUGpqd0IAAMC1vGp3QgAAgBsPa3dCAABAgWFrd0IAAADns2t3Qg==\",\"dtype\":\"float64\",\"order\":\"little\",\"shape\":[5]},\"Variable\":[\"Bitcoin-BSV\",\"Bitcoin-BSV\",\"Bitcoin-BSV\",\"Bitcoin-BSV\",\"Bitcoin-BSV\"],\"value\":{\"__ndarray__\":\"zczMzMyMZEDNzMzMzNxkQFyPwvUodGRApHA9CtdjZEB7FK5H4WJkQA==\",\"dtype\":\"float64\",\"order\":\"little\",\"shape\":[5]}},\"selected\":{\"id\":\"16624\"},\"selection_policy\":{\"id\":\"16641\"}},\"id\":\"16623\",\"type\":\"ColumnDataSource\"},{\"attributes\":{\"line_alpha\":0.1,\"line_color\":\"#bcbc21\",\"line_width\":2,\"x\":{\"field\":\"Date\"},\"y\":{\"field\":\"value\"}},\"id\":\"16855\",\"type\":\"Line\"},{\"attributes\":{\"num_minor_ticks\":5,\"tickers\":[{\"id\":\"16577\"},{\"id\":\"16578\"},{\"id\":\"16579\"},{\"id\":\"16580\"},{\"id\":\"16581\"},{\"id\":\"16582\"},{\"id\":\"16583\"},{\"id\":\"16584\"},{\"id\":\"16585\"},{\"id\":\"16586\"},{\"id\":\"16587\"},{\"id\":\"16588\"}]},\"id\":\"16538\",\"type\":\"DatetimeTicker\"},{\"attributes\":{\"data_source\":{\"id\":\"16896\"},\"glyph\":{\"id\":\"16899\"},\"hover_glyph\":null,\"muted_glyph\":{\"id\":\"16901\"},\"nonselection_glyph\":{\"id\":\"16900\"},\"selection_glyph\":null,\"view\":{\"id\":\"16903\"}},\"id\":\"16902\",\"type\":\"GlyphRenderer\"},{\"attributes\":{},\"id\":\"16535\",\"type\":\"LinearScale\"},{\"attributes\":{\"text\":\"CoinMarketCap: Crypto Closing Prices\",\"text_color\":{\"value\":\"black\"},\"text_font_size\":{\"value\":\"12pt\"}},\"id\":\"16529\",\"type\":\"Title\"},{\"attributes\":{},\"id\":\"16533\",\"type\":\"LinearScale\"},{\"attributes\":{\"data\":{\"Date\":{\"__ndarray__\":\"AAAAUGpqd0IAAMC1vGp3QgAAgBsPa3dCAABAgWFrd0IAAADns2t3Qg==\",\"dtype\":\"float64\",\"order\":\"little\",\"shape\":[5]},\"Variable\":[\"Monero-XMR\",\"Monero-XMR\",\"Monero-XMR\",\"Monero-XMR\",\"Monero-XMR\"],\"value\":{\"__ndarray__\":\"FK5H4XosZECkcD0K1+tjQArXo3A9kmNAmpmZmZkBYUCkcD0K1+NhQA==\",\"dtype\":\"float64\",\"order\":\"little\",\"shape\":[5]}},\"selected\":{\"id\":\"16692\"},\"selection_policy\":{\"id\":\"16713\"}},\"id\":\"16691\",\"type\":\"ColumnDataSource\"},{\"attributes\":{},\"id\":\"16729\",\"type\":\"Selection\"},{\"attributes\":{\"axis_label\":\"Date\",\"bounds\":\"auto\",\"formatter\":{\"id\":\"16559\"},\"major_label_orientation\":\"horizontal\",\"ticker\":{\"id\":\"16538\"}},\"id\":\"16537\",\"type\":\"DatetimeAxis\"},{\"attributes\":{\"line_alpha\":0.1,\"line_color\":\"#1f77b3\",\"line_width\":2,\"x\":{\"field\":\"Date\"},\"y\":{\"field\":\"value\"}},\"id\":\"16566\",\"type\":\"Line\"},{\"attributes\":{\"line_color\":\"#16bdcf\",\"line_width\":2,\"x\":{\"field\":\"Date\"},\"y\":{\"field\":\"value\"}},\"id\":\"16899\",\"type\":\"Line\"},{\"attributes\":{\"axis\":{\"id\":\"16537\"},\"grid_line_color\":null,\"ticker\":null},\"id\":\"16540\",\"type\":\"Grid\"},{\"attributes\":{\"label\":{\"value\":\"Counos-CCXX\"},\"renderers\":[{\"id\":\"16902\"}]},\"id\":\"16942\",\"type\":\"LegendItem\"},{\"attributes\":{\"axis\":{\"id\":\"16541\"},\"dimension\":1,\"grid_line_color\":null,\"ticker\":null},\"id\":\"16544\",\"type\":\"Grid\"},{\"attributes\":{\"data_source\":{\"id\":\"16562\"},\"glyph\":{\"id\":\"16565\"},\"hover_glyph\":null,\"muted_glyph\":{\"id\":\"16567\"},\"nonselection_glyph\":{\"id\":\"16566\"},\"selection_glyph\":null,\"view\":{\"id\":\"16569\"}},\"id\":\"16568\",\"type\":\"GlyphRenderer\"},{\"attributes\":{},\"id\":\"16928\",\"type\":\"UnionRenderers\"},{\"attributes\":{\"axis_label\":\"Closing Price\",\"bounds\":\"auto\",\"formatter\":{\"id\":\"16561\"},\"major_label_orientation\":\"horizontal\",\"ticker\":{\"id\":\"16542\"}},\"id\":\"16541\",\"type\":\"LinearAxis\"},{\"attributes\":{\"line_color\":\"#1f77b3\",\"line_width\":2,\"x\":{\"field\":\"Date\"},\"y\":{\"field\":\"value\"}},\"id\":\"16565\",\"type\":\"Line\"},{\"attributes\":{\"data\":{\"Date\":{\"__ndarray__\":\"AAAAUGpqd0IAAMC1vGp3QgAAgBsPa3dCAABAgWFrd0IAAADns2t3Qg==\",\"dtype\":\"float64\",\"order\":\"little\",\"shape\":[5]},\"Variable\":[\"Counos-CCXX\",\"Counos-CCXX\",\"Counos-CCXX\",\"Counos-CCXX\",\"Counos-CCXX\"],\"value\":{\"__ndarray__\":\"KVyPwvXYVUB7FK5H4epVQLgehetR+FVAZmZmZmZGVkDhehSuRxFWQA==\",\"dtype\":\"float64\",\"order\":\"little\",\"shape\":[5]}},\"selected\":{\"id\":\"16897\"},\"selection_policy\":{\"id\":\"16928\"}},\"id\":\"16896\",\"type\":\"ColumnDataSource\"},{\"attributes\":{\"source\":{\"id\":\"16896\"}},\"id\":\"16903\",\"type\":\"CDSView\"},{\"attributes\":{\"label\":{\"value\":\"Kusama-KSM\"},\"renderers\":[{\"id\":\"16773\"}]},\"id\":\"16807\",\"type\":\"LegendItem\"},{\"attributes\":{},\"id\":\"16657\",\"type\":\"Selection\"},{\"attributes\":{\"line_alpha\":0.1,\"line_color\":\"#ff7e0e\",\"line_width\":2,\"x\":{\"field\":\"Date\"},\"y\":{\"field\":\"value\"}},\"id\":\"16596\",\"type\":\"Line\"},{\"attributes\":{\"line_alpha\":0.1,\"line_color\":\"#d62628\",\"line_width\":2,\"x\":{\"field\":\"Date\"},\"y\":{\"field\":\"value\"}},\"id\":\"16660\",\"type\":\"Line\"},{\"attributes\":{\"line_color\":\"#bcbc21\",\"line_width\":2,\"x\":{\"field\":\"Date\"},\"y\":{\"field\":\"value\"}},\"id\":\"16854\",\"type\":\"Line\"},{\"attributes\":{\"label\":{\"value\":\"Bitcoin-BTC\"},\"renderers\":[{\"id\":\"16568\"}]},\"id\":\"16591\",\"type\":\"LegendItem\"},{\"attributes\":{\"base\":24,\"mantissas\":[1,2,4,6,8,12],\"max_interval\":43200000.0,\"min_interval\":3600000.0,\"num_minor_ticks\":0},\"id\":\"16579\",\"type\":\"AdaptiveTicker\"},{\"attributes\":{\"base\":60,\"mantissas\":[1,2,5,10,15,20,30],\"max_interval\":1800000.0,\"min_interval\":1000.0,\"num_minor_ticks\":0},\"id\":\"16578\",\"type\":\"AdaptiveTicker\"},{\"attributes\":{\"source\":{\"id\":\"16562\"}},\"id\":\"16569\",\"type\":\"CDSView\"},{\"attributes\":{\"days\":[1,2,3,4,5,6,7,8,9,10,11,12,13,14,15,16,17,18,19,20,21,22,23,24,25,26,27,28,29,30,31]},\"id\":\"16580\",\"type\":\"DaysTicker\"},{\"attributes\":{\"line_alpha\":0.2,\"line_color\":\"#d62628\",\"line_width\":2,\"x\":{\"field\":\"Date\"},\"y\":{\"field\":\"value\"}},\"id\":\"16661\",\"type\":\"Line\"},{\"attributes\":{\"line_alpha\":0.1,\"line_color\":\"#e277c1\",\"line_width\":2,\"x\":{\"field\":\"Date\"},\"y\":{\"field\":\"value\"}},\"id\":\"16771\",\"type\":\"Line\"},{\"attributes\":{\"line_alpha\":0.1,\"line_color\":\"#16bdcf\",\"line_width\":2,\"x\":{\"field\":\"Date\"},\"y\":{\"field\":\"value\"}},\"id\":\"16900\",\"type\":\"Line\"},{\"attributes\":{\"days\":[1,4,7,10,13,16,19,22,25,28]},\"id\":\"16581\",\"type\":\"DaysTicker\"},{\"attributes\":{\"label\":{\"value\":\"Litecoin-LTC\"},\"renderers\":[{\"id\":\"16662\"}]},\"id\":\"16690\",\"type\":\"LegendItem\"},{\"attributes\":{\"days\":[1,8,15,22]},\"id\":\"16582\",\"type\":\"DaysTicker\"},{\"attributes\":{\"bottom_units\":\"screen\",\"fill_alpha\":0.5,\"fill_color\":\"lightgrey\",\"left_units\":\"screen\",\"level\":\"overlay\",\"line_alpha\":1.0,\"line_color\":\"black\",\"line_dash\":[4,4],\"line_width\":2,\"right_units\":\"screen\",\"top_units\":\"screen\"},\"id\":\"16550\",\"type\":\"BoxAnnotation\"},{\"attributes\":{\"line_color\":\"#d62628\",\"line_width\":2,\"x\":{\"field\":\"Date\"},\"y\":{\"field\":\"value\"}},\"id\":\"16659\",\"type\":\"Line\"},{\"attributes\":{\"line_color\":\"#e277c1\",\"line_width\":2,\"x\":{\"field\":\"Date\"},\"y\":{\"field\":\"value\"}},\"id\":\"16770\",\"type\":\"Line\"},{\"attributes\":{\"months\":[0,2,4,6,8,10]},\"id\":\"16585\",\"type\":\"MonthsTicker\"},{\"attributes\":{\"line_alpha\":0.2,\"line_color\":\"#16bdcf\",\"line_width\":2,\"x\":{\"field\":\"Date\"},\"y\":{\"field\":\"value\"}},\"id\":\"16901\",\"type\":\"Line\"},{\"attributes\":{\"data_source\":{\"id\":\"16656\"},\"glyph\":{\"id\":\"16659\"},\"hover_glyph\":null,\"muted_glyph\":{\"id\":\"16661\"},\"nonselection_glyph\":{\"id\":\"16660\"},\"selection_glyph\":null,\"view\":{\"id\":\"16663\"}},\"id\":\"16662\",\"type\":\"GlyphRenderer\"},{\"attributes\":{\"days\":[1,15]},\"id\":\"16583\",\"type\":\"DaysTicker\"},{\"attributes\":{\"line_alpha\":0.2,\"line_color\":\"#e277c1\",\"line_width\":2,\"x\":{\"field\":\"Date\"},\"y\":{\"field\":\"value\"}},\"id\":\"16772\",\"type\":\"Line\"},{\"attributes\":{\"source\":{\"id\":\"16656\"}},\"id\":\"16663\",\"type\":\"CDSView\"},{\"attributes\":{},\"id\":\"16593\",\"type\":\"Selection\"},{\"attributes\":{\"months\":[0,1,2,3,4,5,6,7,8,9,10,11]},\"id\":\"16584\",\"type\":\"MonthsTicker\"},{\"attributes\":{\"label\":{\"value\":\"Ethereum-ETH\"},\"renderers\":[{\"id\":\"16598\"}]},\"id\":\"16622\",\"type\":\"LegendItem\"},{\"attributes\":{\"data\":{\"Date\":{\"__ndarray__\":\"AAAAUGpqd0IAAMC1vGp3QgAAgBsPa3dCAABAgWFrd0IAAADns2t3Qg==\",\"dtype\":\"float64\",\"order\":\"little\",\"shape\":[5]},\"Variable\":[\"Litecoin-LTC\",\"Litecoin-LTC\",\"Litecoin-LTC\",\"Litecoin-LTC\",\"Litecoin-LTC\"],\"value\":{\"__ndarray__\":\"4XoUrkchYEDXo3A9Ci9gQFyPwvUoLF9AH4XrUbiOX0CuR+F6FB5hQA==\",\"dtype\":\"float64\",\"order\":\"little\",\"shape\":[5]}},\"selected\":{\"id\":\"16657\"},\"selection_policy\":{\"id\":\"16676\"}},\"id\":\"16656\",\"type\":\"ColumnDataSource\"},{\"attributes\":{\"line_alpha\":0.2,\"line_color\":\"#ff7e0e\",\"line_width\":2,\"x\":{\"field\":\"Date\"},\"y\":{\"field\":\"value\"}},\"id\":\"16597\",\"type\":\"Line\"},{\"attributes\":{},\"id\":\"16608\",\"type\":\"UnionRenderers\"},{\"attributes\":{\"data_source\":{\"id\":\"16592\"},\"glyph\":{\"id\":\"16595\"},\"hover_glyph\":null,\"muted_glyph\":{\"id\":\"16597\"},\"nonselection_glyph\":{\"id\":\"16596\"},\"selection_glyph\":null,\"view\":{\"id\":\"16599\"}},\"id\":\"16598\",\"type\":\"GlyphRenderer\"},{\"attributes\":{\"line_alpha\":0.1,\"line_color\":\"#8c564b\",\"line_width\":2,\"x\":{\"field\":\"Date\"},\"y\":{\"field\":\"value\"}},\"id\":\"16732\",\"type\":\"Line\"},{\"attributes\":{\"source\":{\"id\":\"16592\"}},\"id\":\"16599\",\"type\":\"CDSView\"},{\"attributes\":{\"margin\":[5,5,5,5],\"name\":\"HSpacer31107\",\"sizing_mode\":\"stretch_width\"},\"id\":\"17285\",\"type\":\"Spacer\"},{\"attributes\":{},\"id\":\"16549\",\"type\":\"ResetTool\"},{\"attributes\":{\"children\":[{\"id\":\"16515\"},{\"id\":\"16528\"},{\"id\":\"17285\"}],\"margin\":[0,0,0,0],\"name\":\"Row31102\",\"tags\":[\"embedded\"]},\"id\":\"16514\",\"type\":\"Row\"},{\"attributes\":{\"overlay\":{\"id\":\"16550\"}},\"id\":\"16548\",\"type\":\"BoxZoomTool\"},{\"attributes\":{\"active_drag\":\"auto\",\"active_inspect\":\"auto\",\"active_multi\":null,\"active_scroll\":\"auto\",\"active_tap\":\"auto\",\"tools\":[{\"id\":\"16518\"},{\"id\":\"16545\"},{\"id\":\"16546\"},{\"id\":\"16547\"},{\"id\":\"16548\"},{\"id\":\"16549\"}]},\"id\":\"16551\",\"type\":\"Toolbar\"},{\"attributes\":{},\"id\":\"16547\",\"type\":\"WheelZoomTool\"},{\"attributes\":{},\"id\":\"16546\",\"type\":\"PanTool\"},{\"attributes\":{},\"id\":\"16897\",\"type\":\"Selection\"},{\"attributes\":{\"margin\":[5,5,5,5],\"name\":\"HSpacer31106\",\"sizing_mode\":\"stretch_width\"},\"id\":\"16515\",\"type\":\"Spacer\"},{\"attributes\":{\"data_source\":{\"id\":\"16851\"},\"glyph\":{\"id\":\"16854\"},\"hover_glyph\":null,\"muted_glyph\":{\"id\":\"16856\"},\"nonselection_glyph\":{\"id\":\"16855\"},\"selection_glyph\":null,\"view\":{\"id\":\"16858\"}},\"id\":\"16857\",\"type\":\"GlyphRenderer\"},{\"attributes\":{},\"id\":\"16545\",\"type\":\"SaveTool\"},{\"attributes\":{},\"id\":\"16576\",\"type\":\"UnionRenderers\"},{\"attributes\":{},\"id\":\"16561\",\"type\":\"BasicTickFormatter\"},{\"attributes\":{\"click_policy\":\"mute\",\"items\":[{\"id\":\"16591\"},{\"id\":\"16622\"},{\"id\":\"16655\"},{\"id\":\"16690\"},{\"id\":\"16727\"},{\"id\":\"16766\"},{\"id\":\"16807\"},{\"id\":\"16850\"},{\"id\":\"16895\"},{\"id\":\"16942\"}],\"location\":[0,0],\"title\":\"Variable\"},\"id\":\"16590\",\"type\":\"Legend\"},{\"attributes\":{},\"id\":\"16563\",\"type\":\"Selection\"},{\"attributes\":{\"mantissas\":[1,2,5],\"max_interval\":500.0,\"num_minor_ticks\":0},\"id\":\"16577\",\"type\":\"AdaptiveTicker\"},{\"attributes\":{\"label\":{\"value\":\"Dash-DASH\"},\"renderers\":[{\"id\":\"16734\"}]},\"id\":\"16766\",\"type\":\"LegendItem\"},{\"attributes\":{\"data\":{\"Date\":{\"__ndarray__\":\"AAAAUGpqd0IAAMC1vGp3QgAAgBsPa3dCAABAgWFrd0IAAADns2t3Qg==\",\"dtype\":\"float64\",\"order\":\"little\",\"shape\":[5]},\"Variable\":[\"Dash-DASH\",\"Dash-DASH\",\"Dash-DASH\",\"Dash-DASH\",\"Dash-DASH\"],\"value\":{\"__ndarray__\":\"w/UoXI8CWkDsUbgehWtZQNejcD0K51hAj8L1KFwPVkCuR+F6FL5VQA==\",\"dtype\":\"float64\",\"order\":\"little\",\"shape\":[5]}},\"selected\":{\"id\":\"16729\"},\"selection_policy\":{\"id\":\"16752\"}},\"id\":\"16728\",\"type\":\"ColumnDataSource\"},{\"attributes\":{\"data\":{\"Date\":{\"__ndarray__\":\"AAAAUGpqd0IAAMC1vGp3QgAAgBsPa3dCAABAgWFrd0IAAADns2t3Qg==\",\"dtype\":\"float64\",\"order\":\"little\",\"shape\":[5]},\"Variable\":[\"Zcash-ZEC\",\"Zcash-ZEC\",\"Zcash-ZEC\",\"Zcash-ZEC\",\"Zcash-ZEC\"],\"value\":{\"__ndarray__\":\"4XoUrkdBUUDD9Shcj6JQQM3MzMzMDFBAH4XrUbj+T0CF61G4HmVMQA==\",\"dtype\":\"float64\",\"order\":\"little\",\"shape\":[5]}},\"selected\":{\"id\":\"16809\"},\"selection_policy\":{\"id\":\"16836\"}},\"id\":\"16808\",\"type\":\"ColumnDataSource\"},{\"attributes\":{\"label\":{\"value\":\"Monero-XMR\"},\"renderers\":[{\"id\":\"16697\"}]},\"id\":\"16727\",\"type\":\"LegendItem\"},{\"attributes\":{\"data\":{\"Date\":{\"__ndarray__\":\"AAAAUGpqd0IAAMC1vGp3QgAAgBsPa3dCAABAgWFrd0IAAADns2t3Qg==\",\"dtype\":\"float64\",\"order\":\"little\",\"shape\":[5]},\"Variable\":[\"Kusama-KSM\",\"Kusama-KSM\",\"Kusama-KSM\",\"Kusama-KSM\",\"Kusama-KSM\"],\"value\":{\"__ndarray__\":\"H4XrUbgeTUDhehSuR6FOQIXrUbgeBU9APQrXo3D9UUAAAAAAAGBRQA==\",\"dtype\":\"float64\",\"order\":\"little\",\"shape\":[5]}},\"selected\":{\"id\":\"16768\"},\"selection_policy\":{\"id\":\"16793\"}},\"id\":\"16767\",\"type\":\"ColumnDataSource\"},{\"attributes\":{\"end\":35334.318,\"reset_end\":35334.318,\"reset_start\":-3150.2580000000003,\"start\":-3150.2580000000003,\"tags\":[[[\"value\",\"value\",null]]]},\"id\":\"16517\",\"type\":\"Range1d\"},{\"attributes\":{\"data\":{\"Date\":{\"__ndarray__\":\"AAAAUGpqd0IAAMC1vGp3QgAAgBsPa3dCAABAgWFrd0IAAADns2t3Qg==\",\"dtype\":\"float64\",\"order\":\"little\",\"shape\":[5]},\"Variable\":[\"Bitcoin-BTC\",\"Bitcoin-BTC\",\"Bitcoin-BTC\",\"Bitcoin-BTC\",\"Bitcoin-BTC\"],\"value\":{\"__ndarray__\":\"j8L1KJy42kDNzMzMPCrcQEjhehRuUtxAmpmZmYmv3EB7FK5H0V/fQA==\",\"dtype\":\"float64\",\"order\":\"little\",\"shape\":[5]}},\"selected\":{\"id\":\"16563\"},\"selection_policy\":{\"id\":\"16576\"}},\"id\":\"16562\",\"type\":\"ColumnDataSource\"},{\"attributes\":{},\"id\":\"16752\",\"type\":\"UnionRenderers\"},{\"attributes\":{\"source\":{\"id\":\"16728\"}},\"id\":\"16735\",\"type\":\"CDSView\"},{\"attributes\":{\"callback\":null,\"formatters\":{\"@{Date}\":\"datetime\"},\"renderers\":[{\"id\":\"16568\"},{\"id\":\"16598\"},{\"id\":\"16629\"},{\"id\":\"16662\"},{\"id\":\"16697\"},{\"id\":\"16734\"},{\"id\":\"16773\"},{\"id\":\"16814\"},{\"id\":\"16857\"},{\"id\":\"16902\"}],\"tags\":[\"hv_created\"],\"tooltips\":[[\"Variable\",\"@{Variable}\"],[\"Date\",\"@{Date}{%F %T}\"],[\"value\",\"@{value}\"]]},\"id\":\"16518\",\"type\":\"HoverTool\"},{\"attributes\":{\"end\":1609459200000.0,\"reset_end\":1609459200000.0,\"reset_start\":1609113600000.0,\"start\":1609113600000.0,\"tags\":[[[\"Date\",\"Date\",null]]]},\"id\":\"16516\",\"type\":\"Range1d\"},{\"attributes\":{\"line_color\":\"#8c564b\",\"line_width\":2,\"x\":{\"field\":\"Date\"},\"y\":{\"field\":\"value\"}},\"id\":\"16731\",\"type\":\"Line\"},{\"attributes\":{\"data\":{\"Date\":{\"__ndarray__\":\"AAAAUGpqd0IAAMC1vGp3QgAAgBsPa3dCAABAgWFrd0IAAADns2t3Qg==\",\"dtype\":\"float64\",\"order\":\"little\",\"shape\":[5]},\"Variable\":[\"Ethereum-ETH\",\"Ethereum-ETH\",\"Ethereum-ETH\",\"Ethereum-ETH\",\"Ethereum-ETH\"],\"value\":{\"__ndarray__\":\"XI/C9SjchkApXI/C9XyHQGZmZmZmDodAKVyPwvXShkAK16NwPTSIQA==\",\"dtype\":\"float64\",\"order\":\"little\",\"shape\":[5]}},\"selected\":{\"id\":\"16593\"},\"selection_policy\":{\"id\":\"16608\"}},\"id\":\"16592\",\"type\":\"ColumnDataSource\"},{\"attributes\":{},\"id\":\"16559\",\"type\":\"DatetimeTickFormatter\"}],\"root_ids\":[\"16514\"]},\"title\":\"Bokeh Application\",\"version\":\"2.2.3\"}};\n",
       "    var render_items = [{\"docid\":\"9ed1d50b-8a98-445a-915c-e80d93fc6733\",\"root_ids\":[\"16514\"],\"roots\":{\"16514\":\"b8deee0a-de9e-4a6a-9d3e-01e905161846\"}}];\n",
       "    root.Bokeh.embed.embed_items_notebook(docs_json, render_items);\n",
       "  }\n",
       "  if (root.Bokeh !== undefined && root.Bokeh.Panel !== undefined) {\n",
       "    embed_document(root);\n",
       "  } else {\n",
       "    var attempts = 0;\n",
       "    var timer = setInterval(function(root) {\n",
       "      if (root.Bokeh !== undefined && root.Bokeh.Panel !== undefined) {\n",
       "        clearInterval(timer);\n",
       "        embed_document(root);\n",
       "      } else if (document.readyState == \"complete\") {\n",
       "        attempts++;\n",
       "        if (attempts > 100) {\n",
       "          clearInterval(timer);\n",
       "          console.log(\"Bokeh: ERROR: Unable to run BokehJS code because BokehJS library is missing\");\n",
       "        }\n",
       "      }\n",
       "    }, 10, root)\n",
       "  }\n",
       "})(window);</script>"
      ],
      "text/plain": [
       ":NdOverlay   [Variable]\n",
       "   :Curve   [Date]   (value)"
      ]
     },
     "execution_count": 188,
     "metadata": {
      "application/vnd.holoviews_exec.v0+json": {
       "id": "16514"
      }
     },
     "output_type": "execute_result"
    }
   ],
   "source": [
    "# Plot closing prices\n",
    "all_date_index.hvplot(title=\"CoinMarketCap: Crypto Closing Prices\", ylabel=\"Closing Price\", kind='line', width=1000, height=500, x=\"Date\")"
   ]
  },
  {
   "cell_type": "code",
   "execution_count": null,
   "metadata": {},
   "outputs": [],
   "source": [
    "# Group by year + month\n",
    "all_date_index = all_date_index.groupby([all_date_index.index.year, all_date_index.index.month]).mean() # this will yield an error"
   ]
  },
  {
   "cell_type": "code",
   "execution_count": 169,
   "metadata": {},
   "outputs": [
    {
     "data": {
      "text/html": [
       "<div>\n",
       "<style scoped>\n",
       "    .dataframe tbody tr th:only-of-type {\n",
       "        vertical-align: middle;\n",
       "    }\n",
       "\n",
       "    .dataframe tbody tr th {\n",
       "        vertical-align: top;\n",
       "    }\n",
       "\n",
       "    .dataframe thead th {\n",
       "        text-align: right;\n",
       "    }\n",
       "</style>\n",
       "<table border=\"1\" class=\"dataframe\">\n",
       "  <thead>\n",
       "    <tr style=\"text-align: right;\">\n",
       "      <th></th>\n",
       "      <th>Bitcoin-BTC</th>\n",
       "      <th>Ethereum-ETH</th>\n",
       "      <th>Bitcoin-BSV</th>\n",
       "      <th>Litecoin-LTC</th>\n",
       "      <th>Monero-XMR</th>\n",
       "      <th>Dash-DASH</th>\n",
       "      <th>Kusama-KSM</th>\n",
       "      <th>Zcash-ZEC</th>\n",
       "      <th>Bitcoin Cash-BCH</th>\n",
       "      <th>Counos-CCXX</th>\n",
       "    </tr>\n",
       "  </thead>\n",
       "  <tbody>\n",
       "    <tr>\n",
       "      <th>count</th>\n",
       "      <td>5.000000</td>\n",
       "      <td>5.000000</td>\n",
       "      <td>5.000000</td>\n",
       "      <td>5.000000</td>\n",
       "      <td>5.000000</td>\n",
       "      <td>5.000000</td>\n",
       "      <td>5.000000</td>\n",
       "      <td>5.000000</td>\n",
       "      <td>5.000000</td>\n",
       "      <td>5.000000</td>\n",
       "    </tr>\n",
       "    <tr>\n",
       "      <th>mean</th>\n",
       "      <td>29341.306000</td>\n",
       "      <td>745.168000</td>\n",
       "      <td>164.228000</td>\n",
       "      <td>129.274000</td>\n",
       "      <td>151.300000</td>\n",
       "      <td>96.108000</td>\n",
       "      <td>64.600000</td>\n",
       "      <td>64.108000</td>\n",
       "      <td>351.806000</td>\n",
       "      <td>88.062000</td>\n",
       "    </tr>\n",
       "    <tr>\n",
       "      <th>std</th>\n",
       "      <td>1735.242026</td>\n",
       "      <td>18.461389</td>\n",
       "      <td>1.585046</td>\n",
       "      <td>4.720692</td>\n",
       "      <td>11.115089</td>\n",
       "      <td>7.931524</td>\n",
       "      <td>5.838202</td>\n",
       "      <td>4.572141</td>\n",
       "      <td>9.075885</td>\n",
       "      <td>0.663152</td>\n",
       "    </tr>\n",
       "    <tr>\n",
       "      <th>min</th>\n",
       "      <td>27362.440000</td>\n",
       "      <td>730.370000</td>\n",
       "      <td>163.090000</td>\n",
       "      <td>124.690000</td>\n",
       "      <td>136.050000</td>\n",
       "      <td>86.970000</td>\n",
       "      <td>58.240000</td>\n",
       "      <td>56.790000</td>\n",
       "      <td>341.990000</td>\n",
       "      <td>87.390000</td>\n",
       "    </tr>\n",
       "    <tr>\n",
       "      <th>25%</th>\n",
       "      <td>28840.950000</td>\n",
       "      <td>731.520000</td>\n",
       "      <td>163.120000</td>\n",
       "      <td>126.230000</td>\n",
       "      <td>143.120000</td>\n",
       "      <td>88.240000</td>\n",
       "      <td>61.260000</td>\n",
       "      <td>63.990000</td>\n",
       "      <td>343.050000</td>\n",
       "      <td>87.670000</td>\n",
       "    </tr>\n",
       "    <tr>\n",
       "      <th>50%</th>\n",
       "      <td>29001.720000</td>\n",
       "      <td>737.800000</td>\n",
       "      <td>163.630000</td>\n",
       "      <td>129.040000</td>\n",
       "      <td>156.570000</td>\n",
       "      <td>99.610000</td>\n",
       "      <td>62.040000</td>\n",
       "      <td>64.200000</td>\n",
       "      <td>353.090000</td>\n",
       "      <td>87.880000</td>\n",
       "    </tr>\n",
       "    <tr>\n",
       "      <th>75%</th>\n",
       "      <td>29374.150000</td>\n",
       "      <td>751.620000</td>\n",
       "      <td>164.400000</td>\n",
       "      <td>129.470000</td>\n",
       "      <td>159.370000</td>\n",
       "      <td>101.680000</td>\n",
       "      <td>69.500000</td>\n",
       "      <td>66.540000</td>\n",
       "      <td>358.810000</td>\n",
       "      <td>88.270000</td>\n",
       "    </tr>\n",
       "    <tr>\n",
       "      <th>max</th>\n",
       "      <td>32127.270000</td>\n",
       "      <td>774.530000</td>\n",
       "      <td>166.900000</td>\n",
       "      <td>136.940000</td>\n",
       "      <td>161.390000</td>\n",
       "      <td>104.040000</td>\n",
       "      <td>71.960000</td>\n",
       "      <td>69.020000</td>\n",
       "      <td>362.090000</td>\n",
       "      <td>89.100000</td>\n",
       "    </tr>\n",
       "  </tbody>\n",
       "</table>\n",
       "</div>"
      ],
      "text/plain": [
       "        Bitcoin-BTC  Ethereum-ETH  Bitcoin-BSV  Litecoin-LTC  Monero-XMR  \\\n",
       "count      5.000000      5.000000     5.000000      5.000000    5.000000   \n",
       "mean   29341.306000    745.168000   164.228000    129.274000  151.300000   \n",
       "std     1735.242026     18.461389     1.585046      4.720692   11.115089   \n",
       "min    27362.440000    730.370000   163.090000    124.690000  136.050000   \n",
       "25%    28840.950000    731.520000   163.120000    126.230000  143.120000   \n",
       "50%    29001.720000    737.800000   163.630000    129.040000  156.570000   \n",
       "75%    29374.150000    751.620000   164.400000    129.470000  159.370000   \n",
       "max    32127.270000    774.530000   166.900000    136.940000  161.390000   \n",
       "\n",
       "        Dash-DASH  Kusama-KSM  Zcash-ZEC  Bitcoin Cash-BCH  Counos-CCXX  \n",
       "count    5.000000    5.000000   5.000000          5.000000     5.000000  \n",
       "mean    96.108000   64.600000  64.108000        351.806000    88.062000  \n",
       "std      7.931524    5.838202   4.572141          9.075885     0.663152  \n",
       "min     86.970000   58.240000  56.790000        341.990000    87.390000  \n",
       "25%     88.240000   61.260000  63.990000        343.050000    87.670000  \n",
       "50%     99.610000   62.040000  64.200000        353.090000    87.880000  \n",
       "75%    101.680000   69.500000  66.540000        358.810000    88.270000  \n",
       "max    104.040000   71.960000  69.020000        362.090000    89.100000  "
      ]
     },
     "execution_count": 169,
     "metadata": {},
     "output_type": "execute_result"
    }
   ],
   "source": [
    "# Generate summary stats\n",
    "all_date_index.describe()"
   ]
  },
  {
   "cell_type": "code",
   "execution_count": 171,
   "metadata": {},
   "outputs": [
    {
     "data": {},
     "metadata": {},
     "output_type": "display_data"
    },
    {
     "data": {
      "application/vnd.holoviews_exec.v0+json": "",
      "text/html": [
       "<div id='13796'>\n",
       "\n",
       "\n",
       "\n",
       "\n",
       "\n",
       "  <div class=\"bk-root\" id=\"1fb9f704-2868-44b7-9c4a-ca47e4ab631a\" data-root-id=\"13796\"></div>\n",
       "</div>\n",
       "<script type=\"application/javascript\">(function(root) {\n",
       "  function embed_document(root) {\n",
       "    var docs_json = {\"76c2ea0f-08f1-4cee-b8fb-04ad1b4b1f68\":{\"roots\":{\"references\":[{\"attributes\":{\"children\":[{\"id\":\"13797\"},{\"id\":\"13801\"},{\"id\":\"13869\"}],\"margin\":[0,0,0,0],\"name\":\"Row24209\",\"tags\":[\"embedded\"]},\"id\":\"13796\",\"type\":\"Row\"},{\"attributes\":{\"callback\":null,\"renderers\":[{\"id\":\"13837\"}],\"tags\":[\"hv_created\"],\"tooltips\":[[\"Date\",\"@{Date}\"],[\"Variable\",\"@{Variable}\"],[\"value\",\"@{value}\"]]},\"id\":\"13800\",\"type\":\"HoverTool\"},{\"attributes\":{},\"id\":\"13832\",\"type\":\"Selection\"},{\"attributes\":{},\"id\":\"13817\",\"type\":\"SaveTool\"},{\"attributes\":{\"axis_label\":\"Date\",\"bounds\":\"auto\",\"formatter\":{\"id\":\"13840\"},\"major_label_orientation\":1.5707963267948966,\"ticker\":{\"id\":\"13811\"}},\"id\":\"13810\",\"type\":\"CategoricalAxis\"},{\"attributes\":{\"bottom\":{\"field\":\"bottom\"},\"fill_color\":{\"field\":\"Variable\",\"transform\":{\"id\":\"13830\"}},\"top\":{\"field\":\"top\"},\"width\":{\"value\":0.8},\"x\":{\"field\":\"Date\"}},\"id\":\"13834\",\"type\":\"VBar\"},{\"attributes\":{\"data_source\":{\"id\":\"13831\"},\"glyph\":{\"id\":\"13834\"},\"hover_glyph\":null,\"muted_glyph\":{\"id\":\"13836\"},\"nonselection_glyph\":{\"id\":\"13835\"},\"selection_glyph\":null,\"view\":{\"id\":\"13838\"}},\"id\":\"13837\",\"type\":\"GlyphRenderer\"},{\"attributes\":{\"bottom\":{\"field\":\"bottom\"},\"fill_alpha\":{\"value\":0.1},\"fill_color\":{\"field\":\"Variable\",\"transform\":{\"id\":\"13830\"}},\"line_alpha\":{\"value\":0.1},\"top\":{\"field\":\"top\"},\"width\":{\"value\":0.8},\"x\":{\"field\":\"Date\"}},\"id\":\"13835\",\"type\":\"VBar\"},{\"attributes\":{},\"id\":\"13842\",\"type\":\"BasicTickFormatter\"},{\"attributes\":{\"factors\":[\"Bitcoin-BTC\",\"Ethereum-ETH\",\"Bitcoin-BSV\",\"Litecoin-LTC\",\"Monero-XMR\",\"Dash-DASH\",\"Kusama-KSM\",\"Zcash-ZEC\",\"Bitcoin Cash-BCH\",\"Counos-CCXX\"],\"palette\":[\"#1f77b3\",\"#ff7e0e\",\"#2ba02b\",\"#d62628\",\"#9367bc\",\"#8c564b\",\"#e277c1\",\"#7e7e7e\",\"#bcbc21\",\"#16bdcf\"]},\"id\":\"13830\",\"type\":\"CategoricalColorMapper\"},{\"attributes\":{},\"id\":\"13811\",\"type\":\"CategoricalTicker\"},{\"attributes\":{\"text\":\"CoinMarketCap: Crypto Total Closing Prices\",\"text_color\":{\"value\":\"black\"},\"text_font_size\":{\"value\":\"12pt\"}},\"id\":\"13802\",\"type\":\"Title\"},{\"attributes\":{\"factors\":[\"2020-12-28 00:00:00\",\"2020-12-29 00:00:00\",\"2020-12-30 00:00:00\",\"2020-12-31 00:00:00\",\"2021-01-01 00:00:00\"],\"tags\":[[[\"Date\",\"Date\",null]]]},\"id\":\"13798\",\"type\":\"FactorRange\"},{\"attributes\":{\"data\":{\"Date\":[\"2020-12-28 00:00:00\",\"2020-12-29 00:00:00\",\"2020-12-30 00:00:00\",\"2020-12-31 00:00:00\",\"2021-01-01 00:00:00\",\"2020-12-28 00:00:00\",\"2020-12-29 00:00:00\",\"2020-12-30 00:00:00\",\"2020-12-31 00:00:00\",\"2021-01-01 00:00:00\",\"2021-01-01 00:00:00\",\"2020-12-31 00:00:00\",\"2020-12-28 00:00:00\",\"2020-12-29 00:00:00\",\"2020-12-30 00:00:00\",\"2020-12-28 00:00:00\",\"2020-12-29 00:00:00\",\"2020-12-30 00:00:00\",\"2020-12-31 00:00:00\",\"2021-01-01 00:00:00\",\"2020-12-31 00:00:00\",\"2020-12-30 00:00:00\",\"2021-01-01 00:00:00\",\"2020-12-28 00:00:00\",\"2020-12-29 00:00:00\",\"2020-12-28 00:00:00\",\"2020-12-29 00:00:00\",\"2020-12-30 00:00:00\",\"2020-12-31 00:00:00\",\"2021-01-01 00:00:00\",\"2020-12-28 00:00:00\",\"2020-12-29 00:00:00\",\"2020-12-30 00:00:00\",\"2020-12-31 00:00:00\",\"2021-01-01 00:00:00\",\"2021-01-01 00:00:00\",\"2020-12-31 00:00:00\",\"2020-12-29 00:00:00\",\"2020-12-28 00:00:00\",\"2020-12-30 00:00:00\",\"2020-12-28 00:00:00\",\"2020-12-29 00:00:00\",\"2020-12-30 00:00:00\",\"2020-12-31 00:00:00\",\"2021-01-01 00:00:00\",\"2020-12-31 00:00:00\",\"2020-12-28 00:00:00\",\"2020-12-29 00:00:00\",\"2020-12-30 00:00:00\",\"2021-01-01 00:00:00\"],\"Variable\":[\"Bitcoin-BTC\",\"Bitcoin-BTC\",\"Bitcoin-BTC\",\"Bitcoin-BTC\",\"Bitcoin-BTC\",\"Ethereum-ETH\",\"Ethereum-ETH\",\"Ethereum-ETH\",\"Ethereum-ETH\",\"Ethereum-ETH\",\"Bitcoin-BSV\",\"Bitcoin-BSV\",\"Bitcoin-BSV\",\"Bitcoin-BSV\",\"Bitcoin-BSV\",\"Litecoin-LTC\",\"Litecoin-LTC\",\"Litecoin-LTC\",\"Litecoin-LTC\",\"Litecoin-LTC\",\"Monero-XMR\",\"Monero-XMR\",\"Monero-XMR\",\"Monero-XMR\",\"Monero-XMR\",\"Dash-DASH\",\"Dash-DASH\",\"Dash-DASH\",\"Dash-DASH\",\"Dash-DASH\",\"Kusama-KSM\",\"Kusama-KSM\",\"Kusama-KSM\",\"Kusama-KSM\",\"Kusama-KSM\",\"Zcash-ZEC\",\"Zcash-ZEC\",\"Zcash-ZEC\",\"Zcash-ZEC\",\"Zcash-ZEC\",\"Bitcoin Cash-BCH\",\"Bitcoin Cash-BCH\",\"Bitcoin Cash-BCH\",\"Bitcoin Cash-BCH\",\"Bitcoin Cash-BCH\",\"Counos-CCXX\",\"Counos-CCXX\",\"Counos-CCXX\",\"Counos-CCXX\",\"Counos-CCXX\"],\"bottom\":{\"__ndarray__\":\"AAAAAAAAAAAAAAAAAAAAAAAAAAAAAAAAAAAAAAAAAAAAAAAAAAAAAI/C9SicuNpAzczMzDwq3EBI4XoUblLcQJqZmZmJr9xAexSuR9Ff30CamZmZuRDgQHsUrkchZt1ACtejcH1v20CuR+F6JObcQHsUrkfhCt1ApHA9CpeY20BI4XoU3g/dQJqZmZnJM91AXI/C9eiO3UCuR+F6HCXgQOF6FK53rt1AKVyPwvVS3UD2KFyPOjbgQJqZmZnZuNtAkML1KDww3UD2KFyPMuHbQHE9CtcTWN1A16NwPRp63UAUrkfhetDdQGdmZmYeSOBA7FG4HjX720DD9Shcf3HdQHsUrkcBk91A16NwPYrm3UAL16Nw/VLgQAvXo3CtW+BA4XoUrof43UAAAAAA0IDdQK9H4XrECdxAcT0K14Oi3UAqXI/CBRvcQPYoXI9ykd1APgrXo5Cy3UCkcD0KhwjeQIbrUbjGYuBA16NwPUpe3kBTuB6Fi3XcQB+F61G46d1Ar0fhekQM3kBnZmZmho3gQA==\",\"dtype\":\"float64\",\"order\":\"little\",\"shape\":[50]},\"top\":{\"__ndarray__\":\"j8L1KJy42kDNzMzMPCrcQEjhehRuUtxAmpmZmYmv3EB7FK5H0V/fQArXo3B9b9tArkfheiTm3EB7FK5H4QrdQHsUrkchZt1AmpmZmbkQ4ECuR+F6HCXgQFyPwvXojt1ApHA9CpeY20BI4XoU3g/dQJqZmZnJM91AmpmZmdm420CQwvUoPDDdQClcj8L1Ut1A4XoUrneu3UD2KFyPOjbgQBSuR+F60N1A16NwPRp63UBnZmZmHkjgQPYoXI8y4dtAcT0K1xNY3UDsUbgeNfvbQMP1KFx/cd1AexSuRwGT3UDXo3A9iubdQAvXo3D9UuBAr0fhesQJ3EAAAAAA0IDdQHE9CteDot1A4XoUrof43UAL16NwrVvgQIbrUbjGYuBApHA9CocI3kD2KFyPcpHdQCpcj8IFG9xAPgrXo5Cy3UBTuB6Fi3XcQB+F61G46d1Ar0fhekQM3kDXo3A9Sl7eQGdmZmaGjeBAPQrXo5B03kCvR+F6ZIvcQDMzMzOj/91AzszMzDwi3kCkcD0Kj5jgQA==\",\"dtype\":\"float64\",\"order\":\"little\",\"shape\":[50]},\"value\":{\"__ndarray__\":\"j8L1KJy42kDNzMzMPCrcQEjhehRuUtxAmpmZmYmv3EB7FK5H0V/fQFyPwvUo3IZAKVyPwvV8h0BmZmZmZg6HQClcj8L10oZACtejcD00iEB7FK5H4WJkQKRwPQrXY2RAzczMzMyMZEDNzMzMzNxkQFyPwvUodGRA4XoUrkchYEDXo3A9Ci9gQFyPwvUoLF9AH4XrUbiOX0CuR+F6FB5hQJqZmZmZAWFACtejcD2SY0CkcD0K1+NhQBSuR+F6LGRApHA9CtfrY0DD9ShcjwJaQOxRuB6Fa1lA16NwPQrnWECPwvUoXA9WQK5H4XoUvlVAH4XrUbgeTUDhehSuR6FOQIXrUbgeBU9APQrXo3D9UUAAAAAAAGBRQIXrUbgeZUxAH4XrUbj+T0DD9Shcj6JQQOF6FK5HQVFAzczMzMwMUEA9CtejcKF2QD0K16NwEXZAKVyPwvVsdkDNzMzMzHB1QKRwPQrXX3VAZmZmZmZGVkApXI/C9dhVQHsUrkfh6lVAuB6F61H4VUDhehSuRxFWQA==\",\"dtype\":\"float64\",\"order\":\"little\",\"shape\":[50]}},\"selected\":{\"id\":\"13832\"},\"selection_policy\":{\"id\":\"13845\"}},\"id\":\"13831\",\"type\":\"ColumnDataSource\"},{\"attributes\":{\"axis\":{\"id\":\"13813\"},\"dimension\":1,\"grid_line_color\":null,\"ticker\":null},\"id\":\"13816\",\"type\":\"Grid\"},{\"attributes\":{\"active_drag\":\"auto\",\"active_inspect\":\"auto\",\"active_multi\":null,\"active_scroll\":\"auto\",\"active_tap\":\"auto\",\"tools\":[{\"id\":\"13800\"},{\"id\":\"13817\"},{\"id\":\"13818\"},{\"id\":\"13819\"},{\"id\":\"13820\"},{\"id\":\"13821\"}]},\"id\":\"13823\",\"type\":\"Toolbar\"},{\"attributes\":{\"source\":{\"id\":\"13831\"}},\"id\":\"13838\",\"type\":\"CDSView\"},{\"attributes\":{\"margin\":[5,5,5,5],\"name\":\"HSpacer24213\",\"sizing_mode\":\"stretch_width\"},\"id\":\"13797\",\"type\":\"Spacer\"},{\"attributes\":{\"axis_label\":\"\",\"bounds\":\"auto\",\"formatter\":{\"id\":\"13842\"},\"major_label_orientation\":\"horizontal\",\"ticker\":{\"id\":\"13814\"}},\"id\":\"13813\",\"type\":\"LinearAxis\"},{\"attributes\":{\"overlay\":{\"id\":\"13822\"}},\"id\":\"13820\",\"type\":\"BoxZoomTool\"},{\"attributes\":{\"below\":[{\"id\":\"13810\"}],\"center\":[{\"id\":\"13812\"},{\"id\":\"13816\"},{\"id\":\"13847\"}],\"left\":[{\"id\":\"13813\"}],\"margin\":[5,5,5,5],\"min_border_bottom\":10,\"min_border_left\":10,\"min_border_right\":10,\"min_border_top\":10,\"plot_width\":1000,\"renderers\":[{\"id\":\"13837\"}],\"right\":[{\"id\":\"13847\"}],\"sizing_mode\":\"fixed\",\"title\":{\"id\":\"13802\"},\"toolbar\":{\"id\":\"13823\"},\"x_range\":{\"id\":\"13798\"},\"x_scale\":{\"id\":\"13806\"},\"y_range\":{\"id\":\"13799\"},\"y_scale\":{\"id\":\"13808\"}},\"id\":\"13801\",\"subtype\":\"Figure\",\"type\":\"Plot\"},{\"attributes\":{},\"id\":\"13819\",\"type\":\"WheelZoomTool\"},{\"attributes\":{},\"id\":\"13806\",\"type\":\"CategoricalScale\"},{\"attributes\":{},\"id\":\"13845\",\"type\":\"UnionRenderers\"},{\"attributes\":{},\"id\":\"13818\",\"type\":\"PanTool\"},{\"attributes\":{\"label\":{\"field\":\"Variable\"},\"renderers\":[{\"id\":\"13837\"}]},\"id\":\"13848\",\"type\":\"LegendItem\"},{\"attributes\":{\"axis\":{\"id\":\"13810\"},\"grid_line_color\":null,\"ticker\":null},\"id\":\"13812\",\"type\":\"Grid\"},{\"attributes\":{\"items\":[{\"id\":\"13848\"}],\"location\":[0,0]},\"id\":\"13847\",\"type\":\"Legend\"},{\"attributes\":{\"bottom\":{\"field\":\"bottom\"},\"fill_alpha\":{\"value\":0.2},\"fill_color\":{\"field\":\"Variable\",\"transform\":{\"id\":\"13830\"}},\"line_alpha\":{\"value\":0.2},\"top\":{\"field\":\"top\"},\"width\":{\"value\":0.8},\"x\":{\"field\":\"Date\"}},\"id\":\"13836\",\"type\":\"VBar\"},{\"attributes\":{\"end\":34464.36,\"reset_end\":34464.36,\"reset_start\":0.0,\"tags\":[[[\"value\",\"value\",null]]]},\"id\":\"13799\",\"type\":\"Range1d\"},{\"attributes\":{},\"id\":\"13814\",\"type\":\"BasicTicker\"},{\"attributes\":{\"bottom_units\":\"screen\",\"fill_alpha\":0.5,\"fill_color\":\"lightgrey\",\"left_units\":\"screen\",\"level\":\"overlay\",\"line_alpha\":1.0,\"line_color\":\"black\",\"line_dash\":[4,4],\"line_width\":2,\"right_units\":\"screen\",\"top_units\":\"screen\"},\"id\":\"13822\",\"type\":\"BoxAnnotation\"},{\"attributes\":{},\"id\":\"13840\",\"type\":\"CategoricalTickFormatter\"},{\"attributes\":{},\"id\":\"13821\",\"type\":\"ResetTool\"},{\"attributes\":{\"margin\":[5,5,5,5],\"name\":\"HSpacer24214\",\"sizing_mode\":\"stretch_width\"},\"id\":\"13869\",\"type\":\"Spacer\"},{\"attributes\":{},\"id\":\"13808\",\"type\":\"LinearScale\"}],\"root_ids\":[\"13796\"]},\"title\":\"Bokeh Application\",\"version\":\"2.2.3\"}};\n",
       "    var render_items = [{\"docid\":\"76c2ea0f-08f1-4cee-b8fb-04ad1b4b1f68\",\"root_ids\":[\"13796\"],\"roots\":{\"13796\":\"1fb9f704-2868-44b7-9c4a-ca47e4ab631a\"}}];\n",
       "    root.Bokeh.embed.embed_items_notebook(docs_json, render_items);\n",
       "  }\n",
       "  if (root.Bokeh !== undefined && root.Bokeh.Panel !== undefined) {\n",
       "    embed_document(root);\n",
       "  } else {\n",
       "    var attempts = 0;\n",
       "    var timer = setInterval(function(root) {\n",
       "      if (root.Bokeh !== undefined && root.Bokeh.Panel !== undefined) {\n",
       "        clearInterval(timer);\n",
       "        embed_document(root);\n",
       "      } else if (document.readyState == \"complete\") {\n",
       "        attempts++;\n",
       "        if (attempts > 100) {\n",
       "          clearInterval(timer);\n",
       "          console.log(\"Bokeh: ERROR: Unable to run BokehJS code because BokehJS library is missing\");\n",
       "        }\n",
       "      }\n",
       "    }, 10, root)\n",
       "  }\n",
       "})(window);</script>"
      ],
      "text/plain": [
       ":Bars   [Date,Variable]   (value)"
      ]
     },
     "execution_count": 171,
     "metadata": {
      "application/vnd.holoviews_exec.v0+json": {
       "id": "13796"
      }
     },
     "output_type": "execute_result"
    }
   ],
   "source": [
    "# Bar plot showing the total closing cost per day\n",
    "all_date_index.hvplot.bar(x='Date', y=[\"Bitcoin-BTC\", \"Ethereum-ETH\", \"Bitcoin-BSV\", \"Litecoin-LTC\", \"Monero-XMR\", \"Dash-DASH\", \"Kusama-KSM\", \"Zcash-ZEC\", \"Bitcoin Cash-BCH\", \"Counos-CCXX\"],\n",
    "                 stacked=True, rot=90, width=1000, height=600, title=\"CoinMarketCap: Crypto Total Closing Prices\")"
   ]
  },
  {
   "cell_type": "code",
   "execution_count": 172,
   "metadata": {},
   "outputs": [
    {
     "data": {
      "text/html": [
       "<div>\n",
       "<style scoped>\n",
       "    .dataframe tbody tr th:only-of-type {\n",
       "        vertical-align: middle;\n",
       "    }\n",
       "\n",
       "    .dataframe tbody tr th {\n",
       "        vertical-align: top;\n",
       "    }\n",
       "\n",
       "    .dataframe thead th {\n",
       "        text-align: right;\n",
       "    }\n",
       "</style>\n",
       "<table border=\"1\" class=\"dataframe\">\n",
       "  <thead>\n",
       "    <tr style=\"text-align: right;\">\n",
       "      <th></th>\n",
       "      <th>Bitcoin-BTC</th>\n",
       "      <th>Ethereum-ETH</th>\n",
       "      <th>Bitcoin-BSV</th>\n",
       "      <th>Litecoin-LTC</th>\n",
       "      <th>Monero-XMR</th>\n",
       "      <th>Dash-DASH</th>\n",
       "      <th>Kusama-KSM</th>\n",
       "      <th>Zcash-ZEC</th>\n",
       "      <th>Bitcoin Cash-BCH</th>\n",
       "      <th>Counos-CCXX</th>\n",
       "    </tr>\n",
       "  </thead>\n",
       "  <tbody>\n",
       "    <tr>\n",
       "      <th>Bitcoin-BTC</th>\n",
       "      <td>1.000000</td>\n",
       "      <td>0.839682</td>\n",
       "      <td>-0.425483</td>\n",
       "      <td>0.707402</td>\n",
       "      <td>-0.636223</td>\n",
       "      <td>-0.824489</td>\n",
       "      <td>0.716118</td>\n",
       "      <td>-0.988176</td>\n",
       "      <td>-0.809681</td>\n",
       "      <td>0.478244</td>\n",
       "    </tr>\n",
       "    <tr>\n",
       "      <th>Ethereum-ETH</th>\n",
       "      <td>0.839682</td>\n",
       "      <td>1.000000</td>\n",
       "      <td>0.019484</td>\n",
       "      <td>0.884583</td>\n",
       "      <td>-0.169325</td>\n",
       "      <td>-0.426813</td>\n",
       "      <td>0.276194</td>\n",
       "      <td>-0.785323</td>\n",
       "      <td>-0.510767</td>\n",
       "      <td>-0.025929</td>\n",
       "    </tr>\n",
       "    <tr>\n",
       "      <th>Bitcoin-BSV</th>\n",
       "      <td>-0.425483</td>\n",
       "      <td>0.019484</td>\n",
       "      <td>1.000000</td>\n",
       "      <td>-0.071048</td>\n",
       "      <td>0.657752</td>\n",
       "      <td>0.661703</td>\n",
       "      <td>-0.600255</td>\n",
       "      <td>0.543213</td>\n",
       "      <td>0.380301</td>\n",
       "      <td>-0.580563</td>\n",
       "    </tr>\n",
       "    <tr>\n",
       "      <th>Litecoin-LTC</th>\n",
       "      <td>0.707402</td>\n",
       "      <td>0.884583</td>\n",
       "      <td>-0.071048</td>\n",
       "      <td>1.000000</td>\n",
       "      <td>-0.196413</td>\n",
       "      <td>-0.420106</td>\n",
       "      <td>0.251523</td>\n",
       "      <td>-0.658311</td>\n",
       "      <td>-0.483478</td>\n",
       "      <td>-0.051943</td>\n",
       "    </tr>\n",
       "    <tr>\n",
       "      <th>Monero-XMR</th>\n",
       "      <td>-0.636223</td>\n",
       "      <td>-0.169325</td>\n",
       "      <td>0.657752</td>\n",
       "      <td>-0.196413</td>\n",
       "      <td>1.000000</td>\n",
       "      <td>0.959031</td>\n",
       "      <td>-0.989871</td>\n",
       "      <td>0.646077</td>\n",
       "      <td>0.904206</td>\n",
       "      <td>-0.964389</td>\n",
       "    </tr>\n",
       "    <tr>\n",
       "      <th>Dash-DASH</th>\n",
       "      <td>-0.824489</td>\n",
       "      <td>-0.426813</td>\n",
       "      <td>0.661703</td>\n",
       "      <td>-0.420106</td>\n",
       "      <td>0.959031</td>\n",
       "      <td>1.000000</td>\n",
       "      <td>-0.975621</td>\n",
       "      <td>0.831647</td>\n",
       "      <td>0.944098</td>\n",
       "      <td>-0.865982</td>\n",
       "    </tr>\n",
       "    <tr>\n",
       "      <th>Kusama-KSM</th>\n",
       "      <td>0.716118</td>\n",
       "      <td>0.276194</td>\n",
       "      <td>-0.600255</td>\n",
       "      <td>0.251523</td>\n",
       "      <td>-0.989871</td>\n",
       "      <td>-0.975621</td>\n",
       "      <td>1.000000</td>\n",
       "      <td>-0.714843</td>\n",
       "      <td>-0.944421</td>\n",
       "      <td>0.949733</td>\n",
       "    </tr>\n",
       "    <tr>\n",
       "      <th>Zcash-ZEC</th>\n",
       "      <td>-0.988176</td>\n",
       "      <td>-0.785323</td>\n",
       "      <td>0.543213</td>\n",
       "      <td>-0.658311</td>\n",
       "      <td>0.646077</td>\n",
       "      <td>0.831647</td>\n",
       "      <td>-0.714843</td>\n",
       "      <td>1.000000</td>\n",
       "      <td>0.766026</td>\n",
       "      <td>-0.487759</td>\n",
       "    </tr>\n",
       "    <tr>\n",
       "      <th>Bitcoin Cash-BCH</th>\n",
       "      <td>-0.809681</td>\n",
       "      <td>-0.510767</td>\n",
       "      <td>0.380301</td>\n",
       "      <td>-0.483478</td>\n",
       "      <td>0.904206</td>\n",
       "      <td>0.944098</td>\n",
       "      <td>-0.944421</td>\n",
       "      <td>0.766026</td>\n",
       "      <td>1.000000</td>\n",
       "      <td>-0.823243</td>\n",
       "    </tr>\n",
       "    <tr>\n",
       "      <th>Counos-CCXX</th>\n",
       "      <td>0.478244</td>\n",
       "      <td>-0.025929</td>\n",
       "      <td>-0.580563</td>\n",
       "      <td>-0.051943</td>\n",
       "      <td>-0.964389</td>\n",
       "      <td>-0.865982</td>\n",
       "      <td>0.949733</td>\n",
       "      <td>-0.487759</td>\n",
       "      <td>-0.823243</td>\n",
       "      <td>1.000000</td>\n",
       "    </tr>\n",
       "  </tbody>\n",
       "</table>\n",
       "</div>"
      ],
      "text/plain": [
       "                  Bitcoin-BTC  Ethereum-ETH  Bitcoin-BSV  Litecoin-LTC  \\\n",
       "Bitcoin-BTC          1.000000      0.839682    -0.425483      0.707402   \n",
       "Ethereum-ETH         0.839682      1.000000     0.019484      0.884583   \n",
       "Bitcoin-BSV         -0.425483      0.019484     1.000000     -0.071048   \n",
       "Litecoin-LTC         0.707402      0.884583    -0.071048      1.000000   \n",
       "Monero-XMR          -0.636223     -0.169325     0.657752     -0.196413   \n",
       "Dash-DASH           -0.824489     -0.426813     0.661703     -0.420106   \n",
       "Kusama-KSM           0.716118      0.276194    -0.600255      0.251523   \n",
       "Zcash-ZEC           -0.988176     -0.785323     0.543213     -0.658311   \n",
       "Bitcoin Cash-BCH    -0.809681     -0.510767     0.380301     -0.483478   \n",
       "Counos-CCXX          0.478244     -0.025929    -0.580563     -0.051943   \n",
       "\n",
       "                  Monero-XMR  Dash-DASH  Kusama-KSM  Zcash-ZEC  \\\n",
       "Bitcoin-BTC        -0.636223  -0.824489    0.716118  -0.988176   \n",
       "Ethereum-ETH       -0.169325  -0.426813    0.276194  -0.785323   \n",
       "Bitcoin-BSV         0.657752   0.661703   -0.600255   0.543213   \n",
       "Litecoin-LTC       -0.196413  -0.420106    0.251523  -0.658311   \n",
       "Monero-XMR          1.000000   0.959031   -0.989871   0.646077   \n",
       "Dash-DASH           0.959031   1.000000   -0.975621   0.831647   \n",
       "Kusama-KSM         -0.989871  -0.975621    1.000000  -0.714843   \n",
       "Zcash-ZEC           0.646077   0.831647   -0.714843   1.000000   \n",
       "Bitcoin Cash-BCH    0.904206   0.944098   -0.944421   0.766026   \n",
       "Counos-CCXX        -0.964389  -0.865982    0.949733  -0.487759   \n",
       "\n",
       "                  Bitcoin Cash-BCH  Counos-CCXX  \n",
       "Bitcoin-BTC              -0.809681     0.478244  \n",
       "Ethereum-ETH             -0.510767    -0.025929  \n",
       "Bitcoin-BSV               0.380301    -0.580563  \n",
       "Litecoin-LTC             -0.483478    -0.051943  \n",
       "Monero-XMR                0.904206    -0.964389  \n",
       "Dash-DASH                 0.944098    -0.865982  \n",
       "Kusama-KSM               -0.944421     0.949733  \n",
       "Zcash-ZEC                 0.766026    -0.487759  \n",
       "Bitcoin Cash-BCH          1.000000    -0.823243  \n",
       "Counos-CCXX              -0.823243     1.000000  "
      ]
     },
     "execution_count": 172,
     "metadata": {},
     "output_type": "execute_result"
    }
   ],
   "source": [
    "# Calculate the correlation between cryptos\n",
    "correlation = all_date_index.corr() \n",
    "correlation"
   ]
  },
  {
   "cell_type": "code",
   "execution_count": 180,
   "metadata": {},
   "outputs": [
    {
     "data": {
      "text/plain": [
       "<AxesSubplot:>"
      ]
     },
     "execution_count": 180,
     "metadata": {},
     "output_type": "execute_result"
    },
    {
     "data": {
      "image/png": "[encoded data removed]",
      "text/plain": [
       "<Figure size 432x288 with 2 Axes>"
      ]
     },
     "metadata": {
      "needs_background": "light"
     },
     "output_type": "display_data"
    }
   ],
   "source": [
    "# Plot correlation\n",
    "sns.heatmap(correlation, vmin=-1, vmax=1, annot=True)"
   ]
  },
  {
   "cell_type": "code",
   "execution_count": null,
   "metadata": {},
   "outputs": [],
   "source": []
  },
  {
   "cell_type": "code",
   "execution_count": null,
   "metadata": {},
   "outputs": [],
   "source": []
  }
 ],
 "metadata": {
  "kernelspec": {
   "display_name": "Python 3",
   "language": "python",
   "name": "python3"
  },
  "language_info": {
   "codemirror_mode": {
    "name": "ipython",
    "version": 3
   },
   "file_extension": ".py",
   "mimetype": "text/x-python",
   "name": "python",
   "nbconvert_exporter": "python",
   "pygments_lexer": "ipython3",
   "version": "3.7.9"
  }
 },
 "nbformat": 4,
 "nbformat_minor": 4
}
