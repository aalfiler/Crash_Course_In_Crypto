{
 "metadata": {
  "language_info": {
   "codemirror_mode": {
    "name": "ipython",
    "version": 3
   },
   "file_extension": ".py",
   "mimetype": "text/x-python",
   "name": "python",
   "nbconvert_exporter": "python",
   "pygments_lexer": "ipython3",
   "version": "3.7.9-final"
  },
  "orig_nbformat": 2,
  "kernelspec": {
   "name": "python3",
   "display_name": "Python 3.7.9 64-bit ('pyvizenv': conda)",
   "metadata": {
    "interpreter": {
     "hash": "2cddb1266474c6e3236a4948f30ede38573b58e27d5441cca3fae3200addc12b"
    }
   }
  }
 },
 "nbformat": 4,
 "nbformat_minor": 2,
 "cells": [
  {
   "cell_type": "code",
   "execution_count": null,
   "metadata": {},
   "outputs": [],
   "source": [
    "# Initial imports\n",
    "import panel as pn\n",
    "pn.extension('plotly')\n",
    "\n",
    "import datetime as dt\n",
    "import hvplot.pandas\n",
    "import json\n",
    "import math\n",
    "import os\n",
    "import pandas as pd\n",
    "import matplotlib.pyplot as plt\n",
    "import plotly.express as px\n",
    "import requests\n",
    "import seaborn as sns\n",
    "import time\n",
    "\n",
    "from pathlib import Path\n",
    "from dotenv import load_dotenv\n",
    "\n",
    "%matplotlib inline"
   ]
  },
  {
   "source": [
    "## Part 1: Trading Volume Data\n",
    "\n",
    "Coinbase provides historical data for their products via their [public API](https://docs.pro.coinbase.com). For the trading volume analysis, the following endpoints are queried: `/currencies` and `/products`."
   ],
   "cell_type": "markdown",
   "metadata": {}
  },
  {
   "cell_type": "code",
   "execution_count": null,
   "metadata": {},
   "outputs": [],
   "source": [
    "# Coinbase API endpoints\n",
    "coinbase_api_url = \"https://api.pro.coinbase.com\"\n",
    "cb_products_api_url = f\"{coinbase_api_url}/products\"\n",
    "cb_currencies_api_url = f\"{coinbase_api_url}/currencies\""
   ]
  },
  {
   "cell_type": "code",
   "execution_count": null,
   "metadata": {},
   "outputs": [],
   "source": [
    "# Get currencies (fiat and crypto)\n",
    "cb_currencies_response = requests.get(cb_currencies_api_url)\n",
    "cb_currencies = cb_currencies_response.json()\n",
    "cb_currencies_df = pd.DataFrame(cb_currencies)\n",
    "cb_currencies_df = pd.concat([cb_currencies_df, pd.io.json.json_normalize(cb_currencies_df[\"details\"])], axis=1).drop(columns=[\"details\"])\n",
    "cb_currencies_df.head()"
   ]
  },
  {
   "cell_type": "code",
   "execution_count": null,
   "metadata": {},
   "outputs": [],
   "source": [
    "# Get Coinbase products\n",
    "cb_products_response = requests.get(cb_products_api_url)\n",
    "cb_products = cb_products_response.json()\n",
    "cb_products_df = pd.DataFrame(cb_products)\n",
    "cb_products_df.head()"
   ]
  },
  {
   "cell_type": "code",
   "execution_count": null,
   "metadata": {},
   "outputs": [],
   "source": [
    "def get_date_list(start_date, end_date, interval=300):\n",
    "    \"\"\"\n",
    "    Get the list of dates in 300-day incremenets.\n",
    "    \"\"\"\n",
    "    delta_days = (end_date - start_date).days\n",
    "    iterations = math.floor(delta_days / interval) + 1\n",
    "    date_list = [start_date + dt.timedelta(days=x*interval) for x in range(iterations)]\n",
    "    return date_list"
   ]
  },
  {
   "cell_type": "code",
   "execution_count": null,
   "metadata": {},
   "outputs": [],
   "source": [
    "def get_coinbase_historical_data(id, start_date):\n",
    "    \"\"\"\n",
    "    Get historical data (daily) for a product between the start and end dates.\n",
    "    \"\"\"\n",
    "    start_str = dt.datetime.strftime(start_date, \"%Y-%m-%d\")\n",
    "    end_str = dt.datetime.strftime(start_date + dt.timedelta(days=300), \"%Y-%m-%d\")\n",
    "    candles_url = f\"{cb_products_api_url}/{id}/candles?start={start_str}&end={end_str}&granularity=86400\"\n",
    "    candles_response = requests.get(candles_url)\n",
    "    candles = candles_response.json()\n",
    "    candles_df = pd.DataFrame(candles, columns=[\"time\", \"low\", \"high\", \"open\", \"close\", \"volume\"])\n",
    "    return candles_df"
   ]
  },
  {
   "cell_type": "code",
   "execution_count": null,
   "metadata": {},
   "outputs": [],
   "source": [
    "# Get list of fiat and cryptocurrencies\n",
    "cb_crypto_currencies = cb_currencies_df[cb_currencies_df[\"type\"] == \"crypto\"][\"id\"].tolist()\n",
    "cb_fiat_currencies = cb_currencies_df[cb_currencies_df[\"type\"] == \"fiat\"][\"id\"].tolist()\n",
    "# Find Coinbase products bought/sold with fiat currency\n",
    "cb_fiat_products_df = cb_products_df[cb_products_df[\"quote_currency\"].isin(cb_fiat_currencies)]\n",
    "\n",
    "print(f\"Crypto currencies: {cb_crypto_currencies}\\n\")\n",
    "print(f\"Fiat currencies: {cb_fiat_currencies}\\n\")\n",
    "print(f\"{len(cb_fiat_products_df.index)} Coinbase products bought/sold with fiat currency\")"
   ]
  },
  {
   "cell_type": "code",
   "execution_count": null,
   "metadata": {
    "tags": []
   },
   "outputs": [],
   "source": [
    "# Get list of dates to fetch data for in 300-day increments\n",
    "today = dt.datetime.today()\n",
    "base = dt.datetime.strptime(\"2021-01-01\", \"%Y-%m-%d\")\n",
    "cb_date_list = get_date_list(base, today)\n",
    "\n",
    "# Get data from Coinbase and append to dataframe\n",
    "trading_volume_data_df = pd.DataFrame()\n",
    "for idx, row in cb_fiat_products_df.iterrows():\n",
    "    product_id = row[\"id\"]\n",
    "    base_currency = row[\"base_currency\"]\n",
    "    quote_currency = row[\"quote_currency\"]\n",
    "    for start_date in cb_date_list:\n",
    "        historical_df = get_coinbase_historical_data(product_id, start_date)\n",
    "        if not historical_df.empty:\n",
    "            historical_df[\"base_currency\"] = base_currency\n",
    "            historical_df[\"quote_currency\"] = quote_currency\n",
    "            trading_volume_data_df = trading_volume_data_df.append(historical_df)\n",
    "        time.sleep(2)\n",
    "\n",
    "trading_volume_data_df.head()"
   ]
  },
  {
   "cell_type": "code",
   "execution_count": null,
   "metadata": {},
   "outputs": [],
   "source": [
    "# convert epoch time to date\n",
    "trading_volume_data_df = trading_volume_data_df.drop_duplicates()\n",
    "trading_volume_data_df[\"date\"] = pd.to_datetime(trading_volume_data_df[\"time\"], unit=\"s\")\n",
    "trading_volume_data_df = trading_volume_data_df.drop(columns=[\"time\"])"
   ]
  },
  {
   "cell_type": "code",
   "execution_count": null,
   "metadata": {},
   "outputs": [],
   "source": [
    "# Export dataframe to CSV for faster loading\n",
    "cb_data_filepath = Path(\"../data/coinbase_historical_data1.csv\")\n",
    "trading_volume_data_df.to_csv(cb_data_filepath, index=False)"
   ]
  }
 ]
}